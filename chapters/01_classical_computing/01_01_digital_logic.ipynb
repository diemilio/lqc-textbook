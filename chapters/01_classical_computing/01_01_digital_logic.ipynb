{
 "cells": [
  {
   "cell_type": "markdown",
   "id": "42475df3",
   "metadata": {},
   "source": [
    "# Classical Computing & Digital Logic\n",
    "---"
   ]
  },
  {
   "cell_type": "markdown",
   "id": "11af7551",
   "metadata": {},
   "source": [
    "Before diving into the world of quantum computing, it is helpful to do a quick review of some of the basics of classical computation and communication. This will allow us to gradually introduce some of the most important concepts that make quantum information different from its classical counterpart. \n",
    "\n",
    "Even if you understand digital systems fairly well, it is still worth to at least skim through this chapter since we will be discussing how the model of computation can be expanded to incorporate randomness into our systems, and how logic gates can be modified to make operations reversible."
   ]
  },
  {
   "cell_type": "markdown",
   "id": "6eb39b34",
   "metadata": {},
   "source": [
    "## 1. Binary Systems\n",
    "\n",
    "All modern computers and communication systems rely on the use of binary numbers. The fundamental unit of a binary number is the **bit**, which can take only two values: $0$ or $1$. But just like with decimal numbers, we can express larger binary values by concatenating bits together. For example, with 3 bits, we can express up to 8 different binary numbers:\n",
    "\n",
    "| Binary | Decimal |\n",
    "| :-: | :-: |\n",
    "| $000$ | $0$ |\n",
    "| $001$ | $1$ |\n",
    "| $010$ | $2$ |\n",
    "| $011$ | $3$ |\n",
    "| $100$ | $4$ |\n",
    "| $101$ | $5$ |\n",
    "| $110$ | $6$ |\n",
    "| $111$ | $7$ |\n",
    "\n",
    "In general, $n$ bits allow us to express up to $2^n$ different values. So an $n$-bit number $b$ is expressed as:\n",
    "\n",
    "$$ b = b_{n-1} ... b_1 b_0 ,$$\n",
    "\n",
    "where each of the bits $b_i$ can take the value $0$ or $1$. This is often denoted as: \n",
    "\n",
    "$$b \\in \\{0,1\\}^n .$$\n",
    "\n",
    "This simply means that $b$ can take any of the possible values of combining $n$ of these symbols. For example, for $n = 3$:\n",
    "\n",
    "$$b \\in \\{ 000, 001, 010, 011, 100, 101, 110, 111 \\}, $$\n",
    "\n",
    "just like we had in the table above. \n",
    "\n",
    "In the notation used above for $b$, the bit most to the left, $b_0$, is known as the least significant bit (LSB); on the other hand, the bit most to the right, $b_{n-1}$, is known as the most significant bit (MSB).\n",
    "\n",
    "To convert a binary number $b$ to a decimal integer $x$, we simply take each of the individual bits, and multiply them by 2 exponentiated to the bit's significance, and then sum them up:\n",
    "\n",
    "$$ x =  2^{n-1} b_{n-1} + ... + 2^{1} b_{1} + 2^{0} b_{0}, $$\n",
    "\n",
    "which we can write more compactly as using big-sum notation:\n",
    "\n",
    "$$ x = \\sum_{i = 0}^{n-1} 2^{i} b_i .$$\n",
    "\n",
    "For example, to convert the binary value $1011$ to decimal we get:\n",
    "\n",
    "$$ \n",
    "\\begin{aligned}\n",
    "x &=  2^{3} b_{3} + 2^{2} b_{2} + 2^{1} b_{1} + 2^{0} b_{0}\n",
    "\\\\\n",
    "x &=  8 \\times 1 + 4 \\times 0 + 2 \\times 1 + 1 \\times 1\n",
    "\\\\\n",
    "x &=  11\n",
    "\\end{aligned}\n",
    "$$\n",
    "\n",
    "Doing this manually is a tedious process. Luckily we can use Python to do this conversion for us. In Python we can represent binary numbers by using the prefix `0b`. These values still get treated like other integers, so if we, for example, print them, the output displays the corresponding decimal value:"
   ]
  },
  {
   "cell_type": "code",
   "execution_count": 6,
   "id": "d657a3c3",
   "metadata": {},
   "outputs": [
    {
     "name": "stdout",
     "output_type": "stream",
     "text": [
      "11\n"
     ]
    }
   ],
   "source": [
    "b = 0b1011\n",
    "print(b)"
   ]
  },
  {
   "cell_type": "markdown",
   "id": "a113774e",
   "metadata": {},
   "source": [
    "Using this notation, we can also perform the same arithmetic operations we use for decimal integers:"
   ]
  },
  {
   "cell_type": "code",
   "execution_count": 7,
   "id": "d6cc031a",
   "metadata": {},
   "outputs": [
    {
     "name": "stdout",
     "output_type": "stream",
     "text": [
      "20\n"
     ]
    }
   ],
   "source": [
    "x = 0b1011 + 0b1001  # in decimal: 11 + 9 = 20\n",
    "print(x)"
   ]
  },
  {
   "cell_type": "markdown",
   "id": "e933fab7",
   "metadata": {},
   "source": [
    "Now, to convert a decimal integer $x$ into a binary number $b$, we can find the $i^{\\text{th}}$ bit of $b$ using the following expression:\n",
    "\n",
    "$$ b_i = \\frac{x}{2^i} \\text{ mod } 2 . $$\n",
    "\n",
    "Here, $a \\text{ mod } k$ represents the [modulo](https://en.wikipedia.org/wiki/Modulo) operation, which returns the remainder of diving $a$ by $k$. It is also worth noting that the fraction in this expression represents an [integer division](https://mathworld.wolfram.com/IntegerDivision.html), which discards the fractional part of the result. \n",
    "\n",
    "Therefore, the binary representation of $x$ is given by:\n",
    "\n",
    "$$ b = \\sum_{i = 0}^{n-1} 10^{i} \\left(\\frac{x}{2^{i}} \\text{mod } 2 \\right).$$\n",
    "\n",
    "So, to convert the decimal integer $11$ into a 4-bit binary number, we would take:\n",
    "\n",
    "$$ \n",
    "\\begin{aligned}\n",
    "b &= 10^{3} \\left(\\frac{11}{2^{3}} \\text{ mod } 2 \\right) +\n",
    "     10^{2} \\left(\\frac{11}{2^{2}} \\text{ mod } 2 \\right) +\n",
    "     10^{1} \\left(\\frac{11}{2^{1}} \\text{ mod } 2 \\right) +\n",
    "     10^{0} \\left(\\frac{11}{2^{0}} \\text{ mod } 2 \\right)\n",
    "\\\\\n",
    "b &= 10^{3} \\left(1 \\text{ mod } 2 \\right) +\n",
    "     10^{2} \\left(2 \\text{ mod } 2 \\right) +\n",
    "     10^{1} \\left(5 \\text{ mod } 2 \\right) +\n",
    "     10^{0} \\left(11 \\text{ mod } 2 \\right)\n",
    "\\\\    \n",
    "b &= 1000 \\times 1 +\n",
    "     100 \\times 0 +\n",
    "     10 \\times 1 +\n",
    "     1 \\times 1\n",
    "\\\\     \n",
    "b &= 1011\n",
    "\\\\\n",
    "\\end{aligned}\n",
    "$$"
   ]
  },
  {
   "cell_type": "code",
   "execution_count": 26,
   "id": "cb9c2c9b",
   "metadata": {},
   "outputs": [
    {
     "data": {
      "text/plain": [
       "1"
      ]
     },
     "execution_count": 26,
     "metadata": {},
     "output_type": "execute_result"
    }
   ],
   "source": [
    "11 % 2"
   ]
  },
  {
   "cell_type": "code",
   "execution_count": 17,
   "id": "054874f9",
   "metadata": {},
   "outputs": [
    {
     "name": "stdout",
     "output_type": "stream",
     "text": [
      "1\n",
      "11\n",
      "11\n",
      "1011\n"
     ]
    }
   ],
   "source": [
    "n = 11\n",
    "b = 0\n",
    "for i in range(0,4):\n",
    "    b += ((n//(2**(i))) % 2)*10**(i)\n",
    "    print(b)"
   ]
  },
  {
   "cell_type": "markdown",
   "id": "c1893c36",
   "metadata": {},
   "source": [
    "So to convert, for example, the decimal integer 11 into a 4-bit binary number, we would take:\n",
    "\n",
    "$$ \n",
    "b = \\left[ \\left(\\frac{11}{2^3}\\right) \\text{mod } 2 \\right ] || \n",
    "    \\left[ \\left(\\frac{11}{2^2}\\right) \\text{mod } 2 \\right ] ||\n",
    "    \\left[ \\left(\\frac{11}{2^1}\\right) \\text{mod } 2 \\right ] ||\n",
    "    \\left[ \\left(\\frac{11}{2^0}\\right) \\text{mod } 2 \\right ] ||\n",
    "$$\n",
    "\n",
    "$$ b = \\underset{i=0} {\\overset{4} {\\LARGE ||}} $$\n",
    "\n",
    "\n",
    "Another common way to treat binary numbers in Python is by simply representing them with strings.\n",
    "\n",
    "$$ \n",
    "b = \\left(\\frac{11}{2^3}\\right) \\text{mod } 2 \\left || \n",
    "    \\left(\\frac{11}{2^2}\\right) \\text{mod } 2 \\left |\n",
    "    \\left(\\frac{11}{2^1}\\right) \\text{mod } 2 \\right |\n",
    "    \\left(\\frac{11}{2^0}\\right) \\text{mod } 2 \\right |\n",
    "$$"
   ]
  },
  {
   "cell_type": "code",
   "execution_count": null,
   "id": "db58c37b",
   "metadata": {},
   "outputs": [],
   "source": []
  }
 ],
 "metadata": {
  "kernelspec": {
   "display_name": "Python 3 (ipykernel)",
   "language": "python",
   "name": "python3"
  },
  "language_info": {
   "codemirror_mode": {
    "name": "ipython",
    "version": 3
   },
   "file_extension": ".py",
   "mimetype": "text/x-python",
   "name": "python",
   "nbconvert_exporter": "python",
   "pygments_lexer": "ipython3",
   "version": "3.11.8"
  }
 },
 "nbformat": 4,
 "nbformat_minor": 5
}
