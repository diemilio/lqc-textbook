{
 "cells": [
  {
   "cell_type": "markdown",
   "id": "42475df3",
   "metadata": {},
   "source": [
    "# Classical Computing & Digital Logic\n",
    "---"
   ]
  },
  {
   "cell_type": "markdown",
   "id": "11af7551",
   "metadata": {},
   "source": [
    "Before diving into the world of quantum computing, it is helpful to do a quick review of some of the basics of classical computation and communication. This will allow us to gradually introduce some of the most important concepts that make quantum information different from its classical counterpart. \n",
    "\n",
    "Even if you understand digital systems fairly well, it is still worth to at least skim through this chapter since we will be discussing how the model of computation can be expanded to incorporate randomness into our systems, and how logic gates can be modified to make operations reversible."
   ]
  },
  {
   "cell_type": "markdown",
   "id": "6eb39b34",
   "metadata": {},
   "source": [
    "## 1. Binary Numbers\n",
    "\n",
    "All modern computers and communication systems rely on the use of binary numbers. The fundamental unit of a binary number is the **bit**, which can take only two values: $0$ or $1$, but just like with decimal numbers, we can express larger binary values by concatenating bits together. For example, with 3 bits, we can express up to 8 different binary numbers:\n",
    "\n",
    "| Binary | Decimal |\n",
    "| :-: | :-: |\n",
    "| 000 | 0 |\n",
    "| 001 | 1 |\n",
    "| 010 | 2 |\n",
    "| 011 | 3 |\n",
    "| 100 | 4 |\n",
    "| 101 | 5 |\n",
    "| 110 | 6 |\n",
    "| 111 | 7 |\n",
    "\n",
    "In general, $n$ bits allow us to express up to $2^n$ different values. So, an $n$-bit binary number $b$ can be represented as:\n",
    "\n",
    "$$ b = b_{n-1} ... b_1 b_0 ,$$\n",
    "\n",
    "where each bit $b_i$ can take the value $0$ or $1$. \n",
    "\n",
    "In this notation, the bit most to the left, $b_0$, is known as the least significant bit (LSB). The bit most to the right, $b_{n-1}$, is known as the most significant bit (MSB).\n",
    "\n",
    "To convert a binary number $b$ to a decimal integer $x$, we simply take each of the individual bits, and multiply them by 2 exponentiated to the bit's significance, and then sum them up:\n",
    "\n",
    "$$ x =  2^{n-1} b_{n-1} + ... + 2^{1} b_{1} + 2^{0} b_{0}, $$\n",
    "\n",
    "which we can write more compactly as using big-sum notation:\n",
    "\n",
    "$$ x = \\sum_{i = 0}^{n-1} 2^{i} b_i .$$\n",
    "\n",
    "So, to convert, for example, the binary value $1101$ to decimal, we get:\n",
    "\n",
    "$$ \n",
    "\\begin{aligned}\n",
    "x &=  2^{3} b_{3} + 2^{2} b_{2} + 2^{1} b_{1} + 2^{0} b_{0}\n",
    "\\\\\n",
    "x &=  8 \\times 1 + 4 \\times 1 + 2 \\times 0 + 1 \\times 1\n",
    "\\\\\n",
    "x &=  13\n",
    "\\end{aligned}\n",
    "$$\n",
    "\n",
    "Doing this manually is a tedious process. Luckily we can use Python to do this conversion for us. In Python we can represent binary numbers by using the prefix `0b`. These values still get treated like other integers, so if we, for example, print them, the output displays the corresponding decimal value:"
   ]
  },
  {
   "cell_type": "code",
   "execution_count": 1,
   "id": "d657a3c3",
   "metadata": {},
   "outputs": [
    {
     "name": "stdout",
     "output_type": "stream",
     "text": [
      "13\n"
     ]
    }
   ],
   "source": [
    "x = 0b1101\n",
    "print(x)"
   ]
  },
  {
   "cell_type": "markdown",
   "id": "15649217",
   "metadata": {},
   "source": [
    "Using this notation, we can also perform the same arithmetic operations we use for decimal integers:"
   ]
  },
  {
   "cell_type": "code",
   "execution_count": 2,
   "id": "02852515",
   "metadata": {},
   "outputs": [
    {
     "name": "stdout",
     "output_type": "stream",
     "text": [
      "20\n"
     ]
    }
   ],
   "source": [
    "x = 0b1011 + 0b1001  # in decimal: 11 + 9 = 20\n",
    "print(x)"
   ]
  },
  {
   "cell_type": "markdown",
   "id": "6c138ef1",
   "metadata": {},
   "source": [
    "Now, to convert a decimal integer $x$ into a binary number $b$, we can find the $i^{\\text{th}}$ bit of $b$ using the following expression:\n",
    "\n",
    "$$ b_i = \\left\\lfloor\\frac{x}{2^i}\\right\\rfloor \\text{mod } 2 . $$\n",
    "\n",
    "Here, $\\lfloor \\cdot \\rfloor$ is the [floor function](https://en.wikipedia.org/wiki/Floor_and_ceiling_functions), which gives as an output the greatest integer less than or equal to its input. Furthermore, $a \\text{ mod }m$ represents the [modulo operation](https://en.wikipedia.org/wiki/Modulo), which returns the remainder of diving $a$ by $m$.\n",
    "Therefore, the binary representation of $x$ is given by:\n",
    "\n",
    "$$ b = \\sum_{i = 0}^{n-1} 10^{i} \\left(\\left\\lfloor\\frac{x}{2^i}\\right\\rfloor \\text{mod } 2 \\right).$$\n",
    "\n",
    "So, to convert the decimal integer $13$ into a 4-bit binary number, we would take:\n",
    "\n",
    "$$ \n",
    "\\begin{aligned}\n",
    "b &= 10^{3} \\left(\\left\\lfloor\\frac{13}{2^3}\\right\\rfloor \\text{mod } 2 \\right) +\n",
    "     10^{2} \\left(\\left\\lfloor\\frac{13}{2^2}\\right\\rfloor \\text{mod } 2 \\right) +\n",
    "     10^{1} \\left(\\left\\lfloor\\frac{13}{2^1}\\right\\rfloor \\text{mod } 2 \\right) +\n",
    "     10^{0} \\left(\\left\\lfloor\\frac{13}{2^0}\\right\\rfloor \\text{mod } 2 \\right)\n",
    "\\\\\n",
    "b &= 10^{3} \\left(1 \\text{ mod } 2 \\right) +\n",
    "     10^{2} \\left(3 \\text{ mod } 2 \\right) +\n",
    "     10^{1} \\left(6 \\text{ mod } 2 \\right) +\n",
    "     10^{0} \\left(13 \\text{ mod } 2 \\right)\n",
    "\\\\    \n",
    "b &= 1000 \\times 1 +\n",
    "     100 \\times 1 +\n",
    "     10 \\times 0 +\n",
    "     1 \\times 1\n",
    "\\\\     \n",
    "b &= 1101\n",
    "\\\\\n",
    "\\end{aligned}\n",
    "$$\n",
    "\n",
    "One important note here is that, in this example, we picked the exact number of bits to get the correct binary representation for $13$. However, if we would have picked $n$ to be $3$ or less, we would have ended up with the incorrect representation. So, to guarantee we can correctly express a decimal integer (greater than $0$) in binary, we need to make sure to pick $n$ to be:\n",
    "\n",
    "$$ n \\geq \\lfloor \\log_2 (x) + 1 \\rfloor , $$\n",
    "\n",
    "where again, $\\lfloor \\cdot \\rfloor$ is the [floor function](https://en.wikipedia.org/wiki/Floor_and_ceiling_functions). So, to accurately represent $13$ in binary, we need:\n",
    "\n",
    "$$ n \\geq \\lfloor \\log_2 (13) + 1 \\rfloor = 4 . $$\n",
    "\n",
    "Again, the concepts above are important to deepen our understanding, but we do not need to go through the pain of calculating every one of these steps when we can simply rely on Python. So, to convert a decimal integer to binary, we can use the `bin()` function:"
   ]
  },
  {
   "cell_type": "code",
   "execution_count": 3,
   "id": "5b36f2b2",
   "metadata": {},
   "outputs": [
    {
     "name": "stdout",
     "output_type": "stream",
     "text": [
      "0b1101\n"
     ]
    }
   ],
   "source": [
    "b = bin(13)\n",
    "print(b)"
   ]
  },
  {
   "cell_type": "markdown",
   "id": "7e2e5b5b",
   "metadata": {},
   "source": [
    "Now, one thing to note here is that the `bin()` function does not return an integer value, but rather a string of characters that represents our number in binary. For example, as we saw before, representing number $13$ as `0b1101` returns an integer (in Python denoted as `int`):"
   ]
  },
  {
   "cell_type": "code",
   "execution_count": 4,
   "id": "8925b6f1",
   "metadata": {},
   "outputs": [
    {
     "name": "stdout",
     "output_type": "stream",
     "text": [
      "<class 'int'>\n"
     ]
    }
   ],
   "source": [
    "print(type(0b1101))"
   ]
  },
  {
   "cell_type": "markdown",
   "id": "30284fd7",
   "metadata": {},
   "source": [
    "whereas expressing $13$ in binary using `bin` returns a string (`str`):"
   ]
  },
  {
   "cell_type": "code",
   "execution_count": 5,
   "id": "e900a3ff",
   "metadata": {},
   "outputs": [
    {
     "name": "stdout",
     "output_type": "stream",
     "text": [
      "<class 'str'>\n"
     ]
    }
   ],
   "source": [
    "print(type(bin(13)))"
   ]
  },
  {
   "cell_type": "markdown",
   "id": "6d366b8f",
   "metadata": {},
   "source": [
    "This means that we can't really perform arithmetic operations directly on these objects and get the right result. For example, if we try to \"add\" two binary strings, Python treats the symbol `+` as a concatenation operator rather than numerical addition:"
   ]
  },
  {
   "cell_type": "code",
   "execution_count": 6,
   "id": "7d32cf5b",
   "metadata": {},
   "outputs": [
    {
     "name": "stdout",
     "output_type": "stream",
     "text": [
      "The result in b: 0b10110b1001 is not the correct representation for the number 20: 0b10100\n"
     ]
    }
   ],
   "source": [
    "b = bin(11) + bin(9)  # in decimal: 11 + 9 = 20\n",
    "print(f'The result in b: {b} is not the correct representation for the number 20: {bin(20)}')"
   ]
  },
  {
   "cell_type": "markdown",
   "id": "65d9425e",
   "metadata": {},
   "source": [
    "Therefore, we need to be careful when dealing with binary strings and always make sure they are in the right format when we want to perform certain operations. Now, luckily, we can always convert back a binary string into an integer in Python by using the `int()` function:"
   ]
  },
  {
   "cell_type": "code",
   "execution_count": 7,
   "id": "cb2c7c35",
   "metadata": {},
   "outputs": [
    {
     "name": "stdout",
     "output_type": "stream",
     "text": [
      "value in binary: 0b1101\n",
      "value in decimal: 13\n"
     ]
    }
   ],
   "source": [
    "b = bin(13)  # converts 13 into a binary string\n",
    "print(f'value in binary: {b}')\n",
    "x = int(b, 2) # converts the binary string back to an integer\n",
    "print(f'value in decimal: {x}')"
   ]
  },
  {
   "cell_type": "markdown",
   "id": "446c0273",
   "metadata": {},
   "source": [
    "Notice that when we did `int(b, 2)`, we not only passed the value we want to convert back to decimal (`b`), but also base that number is expressed in (in this case, `2` for binary). So, if we have binary strings and want to perform certain operations on them, we can always convert them back to decimal integers using this function, and then convert them back to binary strings. \n",
    "\n",
    "It is also worth noting that the strings we pass to the `int` function do not necessarily have to have the prefix `0b`. For instance:"
   ]
  },
  {
   "cell_type": "code",
   "execution_count": 8,
   "id": "5c4c10b8",
   "metadata": {},
   "outputs": [
    {
     "name": "stdout",
     "output_type": "stream",
     "text": [
      "13\n"
     ]
    }
   ],
   "source": [
    "b = '1101'\n",
    "print(int(b,2))"
   ]
  },
  {
   "cell_type": "markdown",
   "id": "99cf8488",
   "metadata": {},
   "source": [
    "This means that we can often drop the `0b` prefix of a binary representation without having to worry about adding it again if we need to convert the value back to decimal. Since strings in Python are indexable, we can easily do this by simply storing the portion of string after the first two characters:"
   ]
  },
  {
   "cell_type": "code",
   "execution_count": 9,
   "id": "f61630ae",
   "metadata": {},
   "outputs": [
    {
     "name": "stdout",
     "output_type": "stream",
     "text": [
      "1101\n"
     ]
    }
   ],
   "source": [
    "b = bin(13)[2:]\n",
    "print(b)"
   ]
  },
  {
   "cell_type": "markdown",
   "id": "7d8c82ea",
   "metadata": {},
   "source": [
    "Another important aspect of using the `bin()` function is that it always returns a string using the minimum number of bits required to represent the input number. For instance, notice how the number of bits changes below from 1 to 3 as we increase the decimal value:"
   ]
  },
  {
   "cell_type": "code",
   "execution_count": 10,
   "id": "6129de88",
   "metadata": {},
   "outputs": [
    {
     "name": "stdout",
     "output_type": "stream",
     "text": [
      "0: 0\n",
      "1: 1\n",
      "2: 10\n",
      "3: 11\n",
      "4: 100\n",
      "5: 101\n",
      "6: 110\n",
      "7: 111\n"
     ]
    }
   ],
   "source": [
    "for i in range(2**3):\n",
    "    b = bin(i)[2:]\n",
    "    print(f'{i}: {b}')"
   ]
  },
  {
   "cell_type": "markdown",
   "id": "18b98f08",
   "metadata": {},
   "source": [
    "However, we will often want to express different binary numbers using a fix number of bits. For this, we can pad our string with zeros by using the `zfill()` method:"
   ]
  },
  {
   "cell_type": "code",
   "execution_count": 11,
   "id": "3a2784ea",
   "metadata": {},
   "outputs": [
    {
     "name": "stdout",
     "output_type": "stream",
     "text": [
      "0: 0000\n",
      "1: 0001\n",
      "2: 0010\n",
      "3: 0011\n",
      "4: 0100\n",
      "5: 0101\n",
      "6: 0110\n",
      "7: 0111\n"
     ]
    }
   ],
   "source": [
    "n = 4  # number of bits to use\n",
    "for i in range(2**3):\n",
    "    b = bin(i)[2:].zfill(n)\n",
    "    print(f'{i}: {b}')"
   ]
  },
  {
   "cell_type": "markdown",
   "id": "decea367",
   "metadata": {},
   "source": [
    "Alternatively, we can make use of the first library we will introduce in this textbook: Numpy. Numpy is ..."
   ]
  },
  {
   "cell_type": "code",
   "execution_count": 12,
   "id": "bfb21cc0",
   "metadata": {},
   "outputs": [
    {
     "name": "stdout",
     "output_type": "stream",
     "text": [
      "0111\n"
     ]
    }
   ],
   "source": [
    "import numpy as np\n",
    "b = np.binary_repr(7, 4)\n",
    "print(b)"
   ]
  }
 ],
 "metadata": {
  "kernelspec": {
   "display_name": "Python 3 (ipykernel)",
   "language": "python",
   "name": "python3"
  },
  "language_info": {
   "codemirror_mode": {
    "name": "ipython",
    "version": 3
   },
   "file_extension": ".py",
   "mimetype": "text/x-python",
   "name": "python",
   "nbconvert_exporter": "python",
   "pygments_lexer": "ipython3",
   "version": "3.11.8"
  }
 },
 "nbformat": 4,
 "nbformat_minor": 5
}
