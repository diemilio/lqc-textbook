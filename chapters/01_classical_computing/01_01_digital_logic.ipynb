{
 "cells": [
  {
   "cell_type": "markdown",
   "id": "44114811",
   "metadata": {},
   "source": [
    "# Classical Computing & Digital Logic\n",
    "---"
   ]
  },
  {
   "cell_type": "markdown",
   "id": "840e2934",
   "metadata": {},
   "source": [
    "Before diving in the world of quantum computing, it turns out that it is helpful to do a quick review of some of the basics of classical computing and communication. This will allow us to gradually introduce some of the most important concepts that make quantum information and computation different from their classical counterparts. \n",
    "\n",
    "Even if you think you understand binary digital systems fairly well, it is still worth to at least skim through this chapter since we will be discussing how the model of computation can be expanded to incorporate randomness into our systems, and how logic gates can be modified to make operations reversible.\n",
    "\n",
    "## Binary Systems"
   ]
  },
  {
   "cell_type": "code",
   "execution_count": null,
   "id": "0e7a5558",
   "metadata": {},
   "outputs": [],
   "source": []
  }
 ],
 "metadata": {
  "kernelspec": {
   "display_name": "Python 3 (ipykernel)",
   "language": "python",
   "name": "python3"
  },
  "language_info": {
   "codemirror_mode": {
    "name": "ipython",
    "version": 3
   },
   "file_extension": ".py",
   "mimetype": "text/x-python",
   "name": "python",
   "nbconvert_exporter": "python",
   "pygments_lexer": "ipython3",
   "version": "3.11.8"
  }
 },
 "nbformat": 4,
 "nbformat_minor": 5
}
