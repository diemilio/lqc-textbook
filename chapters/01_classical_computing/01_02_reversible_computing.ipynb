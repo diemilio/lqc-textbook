{
 "cells": [
  {
   "cell_type": "markdown",
   "id": "b14266d5",
   "metadata": {},
   "source": [
    "# Reversible Computing\n",
    "---"
   ]
  },
  {
   "cell_type": "markdown",
   "id": "eff3beff",
   "metadata": {},
   "source": [
    "In the [previous chapter](./01_01_digital_logic.ipynb), we introduced the concept of Boolean operators, like the binary operations **AND** and **OR**. An important aspect of these elements is that they are not reversible. In other words, we cannot figure out the value of their inputs based solely on the value of the output. "
   ]
  },
  {
   "cell_type": "code",
   "execution_count": null,
   "id": "e038b231",
   "metadata": {},
   "outputs": [],
   "source": []
  }
 ],
 "metadata": {
  "kernelspec": {
   "display_name": "Python 3 (ipykernel)",
   "language": "python",
   "name": "python3"
  },
  "language_info": {
   "codemirror_mode": {
    "name": "ipython",
    "version": 3
   },
   "file_extension": ".py",
   "mimetype": "text/x-python",
   "name": "python",
   "nbconvert_exporter": "python",
   "pygments_lexer": "ipython3",
   "version": "3.11.8"
  }
 },
 "nbformat": 4,
 "nbformat_minor": 5
}
