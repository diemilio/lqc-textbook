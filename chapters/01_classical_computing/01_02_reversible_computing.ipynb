{
 "cells": [
  {
   "cell_type": "markdown",
   "id": "a145c030",
   "metadata": {},
   "source": [
    "# Reversible Computing\n",
    "---"
   ]
  },
  {
   "cell_type": "markdown",
   "id": "13a8cd9e",
   "metadata": {},
   "source": [
    "In the [previous chapter](./01_01_digital_logic.ipynb), we introduced the concept of Boolean operators such as the binary operations **AND** and **OR**. A critical aspect of these elements is that they are **not** reversible. In other words, we cannot figure out the value of their inputs based solely on the value of the output. \n",
    "\n",
    "In case this is not entirely obvious, lets look again at the truth table for the **AND** operation:\n",
    "\n",
    "| $b$ | $a$ | $b \\land a$ |\n",
    "| :-: | :-: | :-: |\n",
    "| $0$ | $0$ | $0$ |\n",
    "| $0$ | $1$ | $0$ |\n",
    "| $1$ | $0$ | $0$ |\n",
    "| $1$ | $1$ | $1$ |\n",
    "\n",
    "\n",
    "Here we can see that if our output is $1$, we can confidently affirm that our inputs are $b = 1$ and $a = 1$. However, if the output is $0$, it is not possible to predict with certainty what the values of $a$ and $b$ are. This uncertainty is equivalent to a loss of information in our system.\n",
    "\n",
    "[Reversible computing](https://en.wikipedia.org/wiki/Reversible_computing) was born from the idea that the loss of information in classical Boolean circuits is associated with power dissipation [[Landauer61]()]. In an effort to find more power-efficient ways to implement circuits, a model of reversible computation emerged [[Bennett73]()], and with it, a corresponding set of logical gate abstractions to perform these computations [[Toffoli80]()], [[Fredkin81]()].\n",
    "\n",
    "It was very quickly realized that a model of computation at the quantum-mechanical level can be developed following these same rules [[Feynman85]()], and expanded to include non-classical operations such as superposition and entanglement [[Deutsch85]()], [[Margolus89]()]. Therefore, understanding the basic principles of reversible computing is an important step towards a model of quantum computation."
   ]
  },
  {
   "cell_type": "markdown",
   "id": "90bd3d8f",
   "metadata": {},
   "source": [
    "## 1. Reversible Logic\n",
    "\n",
    "We begin by analyzing the basic operations we reviewed in the previous chapter in an effort to make them reversible. \n",
    "\n",
    "The first thing to note is that the **NOT** gate ***is*** reversible. This because we can confidently predict the input value directly from its output. If the output is $1$, we know the input is $0$, and vice versa. Furthermore, we can reverse the computation of a **NOT** gate by applying another **NOT** right after. \n",
    "\n",
    "Now, because the symbol for the logic **NOT** gate is not symmetric, Feynman suggested changing it to simply using an $\\times$ over a wire. However, from now on, we will instead use the symbol commonly utilized in quantum computing circuits, which is an X inside a box$^*$:\n",
    "\n",
    "\n",
    "<img src=\"images\\01_02_01_not_gates.png\" align = \"center\" width=\"660\"/>\n",
    "\n",
    "However, \n",
    "\n",
    "$^*$ The X inside the "
   ]
  },
  {
   "cell_type": "markdown",
   "id": "81007729",
   "metadata": {},
   "source": [
    "Example of footnote.<a name=\"cite_ref-1\"></a>[<sup>[1]</sup>](#cite_note-1)\n",
    "\n",
    "Example of footnote.<a name=\"cite_ref-2\"></a>[<sup>[2]</sup>](#cite_note-2)\n",
    "\n",
    "\n",
    "<a name=\"cite_note-1\"></a>1. [^](#cite_ref-1) footnote 1\n",
    "\n",
    "<a name=\"cite_note-2\"></a>2. [^](#cite_ref-2) footnote 2"
   ]
  },
  {
   "cell_type": "code",
   "execution_count": null,
   "id": "684ed09d",
   "metadata": {},
   "outputs": [],
   "source": []
  }
 ],
 "metadata": {
  "kernelspec": {
   "display_name": "Python 3 (ipykernel)",
   "language": "python",
   "name": "python3"
  },
  "language_info": {
   "codemirror_mode": {
    "name": "ipython",
    "version": 3
   },
   "file_extension": ".py",
   "mimetype": "text/x-python",
   "name": "python",
   "nbconvert_exporter": "python",
   "pygments_lexer": "ipython3",
   "version": "3.11.8"
  }
 },
 "nbformat": 4,
 "nbformat_minor": 5
}
