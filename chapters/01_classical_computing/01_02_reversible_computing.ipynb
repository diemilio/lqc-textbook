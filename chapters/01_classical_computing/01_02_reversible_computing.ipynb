{
 "cells": [
  {
   "cell_type": "markdown",
   "id": "a145c030",
   "metadata": {},
   "source": [
    "# Reversible Computing\n",
    "---"
   ]
  },
  {
   "cell_type": "markdown",
   "id": "13a8cd9e",
   "metadata": {},
   "source": [
    "In the [previous chapter](./01_01_digital_logic.ipynb), we introduced the concept of Boolean operators like the binary operations **AND** and **OR**. An important aspect of these elements is that they are **not** reversible. In other words, we cannot figure out the value of their inputs based solely on the value of the output. In case this is not entirely obvious, lets look again at the truth table for the **AND** operation:\n",
    "\n",
    "| $b$ | $a$ | $b \\land a$ |\n",
    "| :-: | :-: | :-: |\n",
    "| $0$ | $0$ | $0$ |\n",
    "| $0$ | $1$ | $0$ |\n",
    "| $1$ | $0$ | $0$ |\n",
    "| $1$ | $1$ | $1$ |\n",
    "\n",
    "\n",
    "Here we can see that if our output is $1$, we can confidently say that $b = 1$ **and** $a = 1$. However, if output is $0$, it is not possible to predict with certainty what the values of $a$ and $b$ are. This uncertainty basically translates into a loss of information.\n",
    "\n",
    "[Reversible computing](https://en.wikipedia.org/wiki/Reversible_computing) was born from the idea that the loss of information in classical Boolean circuits is associated with power dissipation [[Landauer61]()]. In an effort to find more power-efficient computers, a model of reversible computation emerged [[Bennett73]()], and with it, a corresponding set of logical gates to perform these computations [[Toffoli80]()], [[Fredkin81]()].\n",
    "\n",
    "The first thing to note is that the **NOT** gate ***is*** reversible because we can, not only predict the input value from its output, but also reverse the computation by applying another **NOT** gate."
   ]
  },
  {
   "cell_type": "code",
   "execution_count": null,
   "id": "34707851",
   "metadata": {},
   "outputs": [],
   "source": []
  }
 ],
 "metadata": {
  "kernelspec": {
   "display_name": "Python 3 (ipykernel)",
   "language": "python",
   "name": "python3"
  },
  "language_info": {
   "codemirror_mode": {
    "name": "ipython",
    "version": 3
   },
   "file_extension": ".py",
   "mimetype": "text/x-python",
   "name": "python",
   "nbconvert_exporter": "python",
   "pygments_lexer": "ipython3",
   "version": "3.11.8"
  }
 },
 "nbformat": 4,
 "nbformat_minor": 5
}
