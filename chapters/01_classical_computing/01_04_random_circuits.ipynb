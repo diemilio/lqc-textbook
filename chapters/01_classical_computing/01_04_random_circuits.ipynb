{
 "cells": [
  {
   "cell_type": "markdown",
   "id": "e1bcd468",
   "metadata": {},
   "source": [
    "# Probabilistic Computing\n",
    "---"
   ]
  },
  {
   "cell_type": "markdown",
   "id": "91be9e88",
   "metadata": {},
   "source": [
    "The field of probabilistic computing, where the concept of randomness is harnessed to enhance certain computations, is currently experiencing a resurgence mostly driven by the explosion of machine learning and AI algorithms that exploit these effects. However, in the context of classical circuits, randomness is mostly associated with the unwanted effects from noise. Bits stored in magnetic drives can randomly flip when exposed to certain magnetic fields, a **NOT** gate could mistakenly invert its output if there's a glitch in its power supply, and every so often, a cosmic ray particle can cause enough charge accumulation to modify values in memory. \n",
    "\n",
    "Therefore, a natural way to introduce the concept of randomness into digital logic by extending the model of our well-defined (deterministic) unit vectors $\\hat{0}$ and $\\hat{1}$ into a probability vector, where its components represent the probability of measuring a $0$ or a $1$."
   ]
  },
  {
   "cell_type": "markdown",
   "id": "475e4df3",
   "metadata": {},
   "source": [
    "## 1. Probabilistic Single-Bit Systems"
   ]
  },
  {
   "cell_type": "markdown",
   "id": "a148879a",
   "metadata": {},
   "source": [
    "### 1.1 Probabilistic Single-Bit States\n",
    "\n",
    "Let us start by considering the case of a noisy single-bit gate that, whenever it has a $0$ at its input, the output is either $0$ with probability of a quarter, or a $1$ with probability of three quarters. We can represent this output state of uncertainty with a column vector where the top element is the probability of the output being $0$, and the bottom element the probability of measuring a $1$:\n",
    "\n",
    "$$ \\vec{p} = \\begin{bmatrix} \\frac{1}{4} \\\\ \\frac{3}{4} \\end{bmatrix} $$"
   ]
  },
  {
   "cell_type": "markdown",
   "id": "d0c25f48",
   "metadata": {},
   "source": [
    "circuits by, for example, adding probabilistic elements (gates) that model some of these effects. "
   ]
  },
  {
   "cell_type": "code",
   "execution_count": null,
   "id": "1f733fae",
   "metadata": {},
   "outputs": [],
   "source": []
  }
 ],
 "metadata": {
  "kernelspec": {
   "display_name": "Python 3 (ipykernel)",
   "language": "python",
   "name": "python3"
  },
  "language_info": {
   "codemirror_mode": {
    "name": "ipython",
    "version": 3
   },
   "file_extension": ".py",
   "mimetype": "text/x-python",
   "name": "python",
   "nbconvert_exporter": "python",
   "pygments_lexer": "ipython3",
   "version": "3.11.8"
  }
 },
 "nbformat": 4,
 "nbformat_minor": 5
}
