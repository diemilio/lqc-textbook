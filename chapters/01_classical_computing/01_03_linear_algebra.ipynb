{
 "cells": [
  {
   "cell_type": "markdown",
   "id": "29c8804b",
   "metadata": {},
   "source": [
    "# Linear Algebra\n",
    "---"
   ]
  },
  {
   "cell_type": "markdown",
   "id": "eebf8644",
   "metadata": {},
   "source": [
    "An extremely attractive feature of reversible logic is that it maps very naturally to the use of vectors to represent boolean values (inputs/outputs), and matrices to express operations (gates and circuits). With very little extra work, reversible circuits can be turned into simple linear algebra relations, where multiplying an input vector by a circuit matrix gives us the corresponding output."
   ]
  },
  {
   "cell_type": "markdown",
   "id": "dbad7085",
   "metadata": {},
   "source": [
    "## 1. Single-Bit Systems\n",
    "\n",
    "The first step to transition to a linear algebra representation, is turn our fundamental unit of information (the bit) into a column vector. We do this by assigning to the two possible values the bit can take ($0$ or $1$) the following representations:\n",
    "\n",
    "$$ \n",
    "\\vec{\\mathit{0}} = \\begin{bmatrix} 1 \\\\ 0 \\end{bmatrix}\n",
    "\\qquad \\qquad\n",
    "\\vec{\\mathit{1}} = \\begin{bmatrix} 0 \\\\ 1 \\end{bmatrix}\n",
    "$$\n",
    "\n",
    "I know. At first glance, this seems silly. Adding a whole extra variable appears to be rather redundant, but the many reasons for doing this will become obvious as we progress throughout this textbook. In particular, we will soon see that this vector representation will be a very convenient way to express the likelihood of finding a bit to be either $0$ or $1$ when we don't have full knowledge of how our circuits are behaving in the presence of, for example, noise. It is also worth noting that we have added an arrow on top of $0$ and $1$ to distinguish the vectors themselves from the values they can take inside the brackets.\n",
    "\n",
    "An easy way to remember this notation is to think of the column vectors above as the position of a light switch. If a Boolean $0$ represents a light bulb being off, we can associate this with a light switch being flipped up ($1$ in the top space of the vector, $0$ at the bottom). Similarly, a Boolean $1$ would represent the light bulb being on, which happens when the switch if flipped down ($0$ in the top space of the vector, $1$ at the bottom):\n",
    "\n",
    "<img src=\"images\\01_03_01_light_switches.png\" align = \"center\" width=\"400\"/>"
   ]
  },
  {
   "cell_type": "markdown",
   "id": "c3263fbd",
   "metadata": {},
   "source": [
    "The next step is to figure out how to map logic gates to matrices. As discussed in the previous chapter, in the case of a single bit, the only reversible gate we have is the $\\text{X}$ gate, which should change a $\\vec{\\mathit{0}}$ to a $\\vec{\\mathit{1}}$, and vice versa:\n",
    "\n",
    "$$\n",
    "\\vec{\\mathit{0}} \\xrightarrow{\\;\\; \\text{X} \\;\\;} \\vec{\\mathit{1}}\n",
    "\\xrightarrow{\\;\\; \\text{X} \\;\\;} \\vec{\\mathit{0}},\n",
    "$$\n",
    "which in vector notation is equivalent to:\n",
    "\n",
    "$$\n",
    "\\begin{bmatrix} 1 \\\\ 0 \\end{bmatrix} \\xrightarrow{\\;\\; \\text{X} \\;\\;} \\begin{bmatrix} 0 \\\\ 1 \\end{bmatrix}\n",
    "\\xrightarrow{\\;\\; \\text{X} \\;\\;} \\begin{bmatrix} 1 \\\\ 0 \\end{bmatrix}\n",
    "$$\n",
    "\n",
    "The matrix $\\text{X}$ that produces this \"mapping\" is given by:\n",
    "\n",
    "$$\\text{X} = \\begin{bmatrix} 0 & 1 \\\\ 1 & 0 \\end{bmatrix}$$\n",
    "\n",
    "\n",
    "We can verify this by remembering that, if we have a general vector $\\vec{x} = \\begin{bmatrix} x_0 \\\\ x_1 \\end{bmatrix}$, and multiply it with a matrix $\\text{A} = \\begin{bmatrix} a_{00} & a_{01} \\\\ a_{10} & a_{11} \\end{bmatrix}$ to get the vector $\\vec{y} = \\begin{bmatrix} y_0 \\\\ y_1 \\end{bmatrix},$ we need to perform the following operation:\n",
    "\n",
    "$$ \n",
    "\\begin{aligned}\n",
    "\\vec{y} &= A \\vec{x}\n",
    "\\\\\n",
    "\\\\\n",
    "\\begin{bmatrix} y_0 \\\\ y_1 \\end{bmatrix} &= \\begin{bmatrix} a_{00} & a_{01} \\\\ a_{10} & a_{11} \\end{bmatrix} \\begin{bmatrix} x_0 \\\\ x_1 \\end{bmatrix}\n",
    "\\\\\n",
    "\\\\\n",
    "\\begin{bmatrix} y_0 \\\\ y_1 \\end{bmatrix} &= \\begin{bmatrix} a_{00} x_0 + a_{01}x_1 \\\\ a_{10} x_0 + a_{11}x_1 \\end{bmatrix}\n",
    "\\end{aligned}\n",
    "$$\n",
    "\n",
    "Let's now try that for $A = \\text{X}$ and $\\vec{x} = \\vec{\\mathit{0}}$:\n",
    "$$\n",
    "\\begin{aligned}\n",
    "\\vec{y} &= \\text{X} \\vec{\\mathit{0}}\n",
    "\\\\\n",
    "\\\\\n",
    "\\vec{y} &= \\begin{bmatrix} 0 & 1 \\\\ 1 & 0 \\end{bmatrix} \\begin{bmatrix} 1 \\\\ 0 \\end{bmatrix} \n",
    "\\\\\n",
    "\\\\\n",
    "\\vec{y} &= \\begin{bmatrix} 0 \\times 1 + 1 \\times 0 \\\\ 1 \\times 1 + 0 \\times 0 \\end{bmatrix} = \\begin{bmatrix} 0 \\\\ 1 \\end{bmatrix}\n",
    "\\\\\n",
    "\\\\\n",
    "\\vec{y} &= \\vec{\\mathit{1}},\n",
    "\\end{aligned}\n",
    "$$\n",
    "\n",
    "which checks out. The same procedure can be followed to show $\\vec{\\mathit{0}} = \\text{X}\\vec{\\mathit{1}}$, but let's go ahead and actually use NumPy to perform these calculations for us and SymPy to display them nicely!:"
   ]
  },
  {
   "cell_type": "code",
   "execution_count": 13,
   "id": "6d28e759",
   "metadata": {},
   "outputs": [],
   "source": [
    "import numpy as np\n",
    "import sympy as sp"
   ]
  },
  {
   "cell_type": "code",
   "execution_count": 19,
   "id": "fbfeced3",
   "metadata": {},
   "outputs": [
    {
     "name": "stdout",
     "output_type": "stream",
     "text": [
      "[[1]\n",
      " [0]]\n"
     ]
    }
   ],
   "source": [
    "# Define Zero vector\n",
    "zero = np.array([[1],\n",
    "                 [0]])\n",
    "\n",
    "print(zero)"
   ]
  },
  {
   "cell_type": "code",
   "execution_count": 20,
   "id": "4fba5c69",
   "metadata": {},
   "outputs": [
    {
     "data": {
      "text/latex": [
       "$\\displaystyle \\left[\\begin{matrix}1\\\\0\\end{matrix}\\right]$"
      ],
      "text/plain": [
       "Matrix([\n",
       "[1],\n",
       "[0]])"
      ]
     },
     "execution_count": 20,
     "metadata": {},
     "output_type": "execute_result"
    }
   ],
   "source": [
    "# We can use SymPy to render our vectors nicer in LaTeX\n",
    "sp.Matrix(zero)"
   ]
  },
  {
   "cell_type": "code",
   "execution_count": 12,
   "id": "44594892",
   "metadata": {},
   "outputs": [
    {
     "data": {
      "text/latex": [
       "$\\displaystyle \\left[\\begin{matrix}0 & 1\\\\1 & 0\\end{matrix}\\right]$"
      ],
      "text/plain": [
       "Matrix([\n",
       "[0, 1],\n",
       "[1, 0]])"
      ]
     },
     "execution_count": 12,
     "metadata": {},
     "output_type": "execute_result"
    }
   ],
   "source": [
    "# Define X matrix\n",
    "X = np.array([[0,1],\n",
    "              [1,0]])\n",
    "sp.Matrix(X)"
   ]
  },
  {
   "cell_type": "markdown",
   "id": "7afa73a6",
   "metadata": {},
   "source": [
    "Now, if you are not accustomed to using Numpy, here's a **VERY** important thing to keep in mind. The multiplication symbol `*` does **NOT** perform matrix multiplication of NumPy arrays; instead, it performs element-wise multiplication (aka, the [Hadamard Product](https://en.wikipedia.org/wiki/Hadamard_product_(matrices))). \n",
    "\n",
    "To perform matrix multiplication as defined above, we should use the [`numpy.matmul()`](https://numpy.org/doc/stable/reference/generated/numpy.matmul.html) function. However, we can also use the syntactic-sugar symbol `@`, which is a shortcut for the same operation:"
   ]
  },
  {
   "cell_type": "code",
   "execution_count": 14,
   "id": "7cf83705",
   "metadata": {},
   "outputs": [
    {
     "data": {
      "text/latex": [
       "$\\displaystyle \\left[\\begin{matrix}0\\\\1\\end{matrix}\\right]$"
      ],
      "text/plain": [
       "Matrix([\n",
       "[0],\n",
       "[1]])"
      ]
     },
     "execution_count": 14,
     "metadata": {},
     "output_type": "execute_result"
    }
   ],
   "source": [
    "# Multiply Zero vector by X to get One vector:\n",
    "one = X @ zero\n",
    "sp.Matrix(one)"
   ]
  },
  {
   "cell_type": "code",
   "execution_count": 15,
   "id": "21fa523a",
   "metadata": {},
   "outputs": [
    {
     "data": {
      "text/latex": [
       "$\\displaystyle \\left[\\begin{matrix}1\\\\0\\end{matrix}\\right]$"
      ],
      "text/plain": [
       "Matrix([\n",
       "[1],\n",
       "[0]])"
      ]
     },
     "execution_count": 15,
     "metadata": {},
     "output_type": "execute_result"
    }
   ],
   "source": [
    "# Multiply One vector by X to recover Zero vector:\n",
    "sp.Matrix(X @ one)"
   ]
  },
  {
   "cell_type": "markdown",
   "id": "952f0a54",
   "metadata": {},
   "source": [
    "As can be seen, multiplying $\\text{X}$ by $\\vec{\\mathit{1}}$ does indeed produce $\\vec{\\mathit{0}}$.\n",
    "\n",
    "Now, at this point, I have to confess that I have been lying, but just a little bit. So far, I have stated that after applying the $\\text{X}$ gate once, we can recover our original value by reapplying $\\text{X}$ again. And although this is in fact true, it is not \"formally\" correct. You see, in this textbook I want to prioritize accessibility over formalism in the first few chapters, but always making sure we gradually introduce the necessary concepts. And in this particular case, the correct thing to do when we want to \"reverse\" the effect of a given gate is to apply the **inverse** of its corresponding matrix.\n",
    "\n",
    "The reason for this is that, if we have a general matrix $A$ acting on a vector $\\vec{x}$, and we want to apply now a matrix $B$, such that we recover $x$, then $B \\, A$ must be equal a matrix $I$ that leaves the vector $\\vec{x}$ (or any matrix in acts on) unchanged:\n",
    "\n",
    "$$ \n",
    "\\begin{aligned}\n",
    "\\vec{x} &= B A \\vec{x}\n",
    "\\\\\n",
    "\\vec{x} &= I \\vec{x} .\n",
    "\\end{aligned}\n",
    "$$\n",
    "\n",
    "The matrix $I$ is called the identity matrix. From the above expression we have:\n",
    "$$\n",
    "\\begin{aligned}\n",
    "B A &= I\n",
    "\\\\\n",
    "B &= I A^{-1},\n",
    "\\end{aligned}\n",
    "$$\n",
    "\n",
    "and since $I$ leaves elements unchanged: \n",
    "\n",
    "$$B = A^{-1} .$$\n",
    "\n",
    "So we have uncovered a very important property of the matrices that represent reversible gates/circuits: they must satisfy invertibility. Going back to the $\\text{X}$ matrix, what we find is that it is its own inverse:\n",
    "\n",
    "$$\n",
    "X^{-1} = X,\n",
    "$$\n",
    "\n",
    "and that is why we can simply say that applying $\\text{X}$ a second time reverses its effect. Let's confirm that the relationship above is in fact true by using NumPy's inverse function:"
   ]
  },
  {
   "cell_type": "code",
   "execution_count": 21,
   "id": "02ee36b7",
   "metadata": {},
   "outputs": [
    {
     "data": {
      "text/latex": [
       "$\\displaystyle \\left[\\begin{matrix}0 & 1.0\\\\1.0 & 0\\end{matrix}\\right]$"
      ],
      "text/plain": [
       "Matrix([\n",
       "[  0, 1.0],\n",
       "[1.0,   0]])"
      ]
     },
     "execution_count": 21,
     "metadata": {},
     "output_type": "execute_result"
    }
   ],
   "source": [
    "# Find X⁻¹ to see it is equal to X:\n",
    "X_inv = np.linalg.inv(X)\n",
    "sp.Matrix(X_inv)"
   ]
  },
  {
   "cell_type": "markdown",
   "id": "fffa7b6a",
   "metadata": {},
   "source": [
    "An equivalent way to confirm this is simply showing $X X = I$, where the identity matrix is given by:\n",
    "\n",
    "$$I = \\begin{bmatrix} 1 & 0 \\\\ 0 & 1 \\end{bmatrix}$$"
   ]
  },
  {
   "cell_type": "code",
   "execution_count": 23,
   "id": "83026e29",
   "metadata": {},
   "outputs": [
    {
     "data": {
      "text/latex": [
       "$\\displaystyle \\left[\\begin{matrix}1 & 0\\\\0 & 1\\end{matrix}\\right]$"
      ],
      "text/plain": [
       "Matrix([\n",
       "[1, 0],\n",
       "[0, 1]])"
      ]
     },
     "execution_count": 23,
     "metadata": {},
     "output_type": "execute_result"
    }
   ],
   "source": [
    "# X X⁻¹ = I:\n",
    "I = X @ X\n",
    "sp.Matrix(I)"
   ]
  },
  {
   "cell_type": "markdown",
   "id": "92a34ccc",
   "metadata": {},
   "source": [
    "## 2. Multi-Bit Systems\n",
    "\n",
    "In previous chapters, we "
   ]
  }
 ],
 "metadata": {
  "kernelspec": {
   "display_name": "Python 3 (ipykernel)",
   "language": "python",
   "name": "python3"
  },
  "language_info": {
   "codemirror_mode": {
    "name": "ipython",
    "version": 3
   },
   "file_extension": ".py",
   "mimetype": "text/x-python",
   "name": "python",
   "nbconvert_exporter": "python",
   "pygments_lexer": "ipython3",
   "version": "3.11.8"
  }
 },
 "nbformat": 4,
 "nbformat_minor": 5
}
