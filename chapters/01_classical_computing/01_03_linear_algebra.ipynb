{
 "cells": [
  {
   "cell_type": "markdown",
   "id": "29c8804b",
   "metadata": {},
   "source": [
    "# Linear Algebra for Reversible Circuits\n",
    "---"
   ]
  },
  {
   "cell_type": "markdown",
   "id": "eebf8644",
   "metadata": {},
   "source": [
    "An extremely attractive feature of reversible logic is that it maps very naturally to the use of vectors to represent boolean values (inputs/outputs), and matrices to express operations (gates and circuits). With very little extra work, reversible circuits can be turned into simple linear algebra relations, where multiplying an input vector by a circuit matrix gives us the corresponding output."
   ]
  },
  {
   "cell_type": "markdown",
   "id": "8c5d959e",
   "metadata": {},
   "source": [
    "## 1. Single-Bit Systems"
   ]
  },
  {
   "cell_type": "markdown",
   "id": "dbad7085",
   "metadata": {},
   "source": [
    "### 1.1 Single-Bit Numbers as Vectors\n",
    "\n",
    "The first step to transition to a linear algebra representation, is turn our fundamental unit of information (the bit) into a column vector. We do this by assigning to the two possible values the bit can take ($0$ or $1$) the following representations:\n",
    "\n",
    "$$ \n",
    "\\vec{\\mathit{0}} = \\begin{bmatrix} 1 \\\\ 0 \\end{bmatrix}\n",
    "\\qquad \\qquad\n",
    "\\vec{\\mathit{1}} = \\begin{bmatrix} 0 \\\\ 1 \\end{bmatrix}\n",
    "$$\n",
    "\n",
    "I know. At first glance, this seems silly. Adding a whole extra variable appears to be rather redundant, but the many reasons for doing this will become evident as we progress throughout the next few chapters. In particular, we will soon see that this vector representation is a very convenient way to express the likelihood of finding a bit to be either $0$ or $1$ when we don't have full knowledge of how our circuits are behaving in the presence of uncertainty. It is also worth noting that we have added an arrow on top of $0$ and $1$ to distinguish the vectors themselves from the values they can take inside the brackets.\n",
    "\n",
    "An easy way to remember this notation is to think of the column vectors above as the position of a light switch. If a Boolean $0$ represents a light bulb being off, we can associate this with a light switch being flipped up ($1$ in the top space of the vector, $0$ at the bottom). Similarly, a Boolean $1$ would represent the light bulb being on, which happens when the switch if flipped down ($0$ in the top space of the vector, $1$ at the bottom):\n",
    "\n",
    "<img src=\"images\\01_03_01_light_switches.png\" align = \"center\" width=\"400\"/>"
   ]
  },
  {
   "cell_type": "markdown",
   "id": "62ebeab5",
   "metadata": {},
   "source": [
    "### 1.2 Single-Bit Gates as Matrices\n",
    "\n",
    "The next step is to figure out how to map logic gates to matrices. As discussed in the previous chapter, in the case of a single bit, the only reversible gate we have is the $\\text{X}$ gate, which should change a $\\vec{\\mathit{0}}$ to a $\\vec{\\mathit{1}}$, and vice versa:\n",
    "\n",
    "$$\n",
    "\\vec{\\mathit{0}} \\xrightarrow{\\;\\; \\text{X} \\;\\;} \\vec{\\mathit{1}}\n",
    "\\xrightarrow{\\;\\; \\text{X} \\;\\;} \\vec{\\mathit{0}},\n",
    "$$\n",
    "which in vector notation is equivalent to:\n",
    "\n",
    "$$\n",
    "\\begin{bmatrix} 1 \\\\ 0 \\end{bmatrix} \\xrightarrow{\\;\\; \\text{X} \\;\\;} \\begin{bmatrix} 0 \\\\ 1 \\end{bmatrix}\n",
    "\\xrightarrow{\\;\\; \\text{X} \\;\\;} \\begin{bmatrix} 1 \\\\ 0 \\end{bmatrix}\n",
    "$$\n",
    "\n",
    "The matrix $\\text{X}$ that produces this \"mapping\" is given by:\n",
    "\n",
    "$$\\text{X} = \\begin{bmatrix} 0 & 1 \\\\ 1 & 0 \\end{bmatrix}$$\n",
    "\n",
    "\n",
    "We can verify this by remembering that, if we have a general vector $\\vec{x} = \\begin{bmatrix} x_0 \\\\ x_1 \\end{bmatrix}$, and multiply it with a matrix $\\text{A} = \\begin{bmatrix} a_{00} & a_{01} \\\\ a_{10} & a_{11} \\end{bmatrix}$ to get the vector $\\vec{y} = \\begin{bmatrix} y_0 \\\\ y_1 \\end{bmatrix},$ we need to perform the following operation:\n",
    "\n",
    "$$ \n",
    "\\begin{aligned}\n",
    "\\vec{y} &= A \\vec{x}\n",
    "\\\\\n",
    "\\\\\n",
    "\\begin{bmatrix} y_0 \\\\ y_1 \\end{bmatrix} &= \\begin{bmatrix} a_{00} & a_{01} \\\\ a_{10} & a_{11} \\end{bmatrix} \\begin{bmatrix} x_0 \\\\ x_1 \\end{bmatrix}\n",
    "\\\\\n",
    "\\\\\n",
    "\\begin{bmatrix} y_0 \\\\ y_1 \\end{bmatrix} &= \\begin{bmatrix} a_{00} x_0 + a_{01}x_1 \\\\ a_{10} x_0 + a_{11}x_1 \\end{bmatrix}\n",
    "\\end{aligned}\n",
    "$$\n",
    "\n",
    "Let's now try that for $A = \\text{X}$ and $\\vec{x} = \\vec{\\mathit{0}}$:\n",
    "$$\n",
    "\\begin{aligned}\n",
    "\\vec{y} &= \\text{X} \\vec{\\mathit{0}}\n",
    "\\\\\n",
    "\\\\\n",
    "\\vec{y} &= \\begin{bmatrix} 0 & 1 \\\\ 1 & 0 \\end{bmatrix} \\begin{bmatrix} 1 \\\\ 0 \\end{bmatrix} \n",
    "\\\\\n",
    "\\\\\n",
    "\\vec{y} &= \\begin{bmatrix} 0 \\times 1 + 1 \\times 0 \\\\ 1 \\times 1 + 0 \\times 0 \\end{bmatrix} = \\begin{bmatrix} 0 \\\\ 1 \\end{bmatrix}\n",
    "\\\\\n",
    "\\\\\n",
    "\\vec{y} &= \\vec{\\mathit{1}},\n",
    "\\end{aligned}\n",
    "$$\n",
    "\n",
    "which checks out. The same procedure can be followed to show $\\vec{\\mathit{0}} = \\text{X}\\vec{\\mathit{1}}$, but let's go ahead and actually use NumPy to perform these calculations for us and SymPy to display them nicely!:"
   ]
  },
  {
   "cell_type": "code",
   "execution_count": 1,
   "id": "3ef40ed7",
   "metadata": {},
   "outputs": [],
   "source": [
    "import numpy as np\n",
    "import sympy as sp"
   ]
  },
  {
   "cell_type": "code",
   "execution_count": 2,
   "id": "666d14f7",
   "metadata": {},
   "outputs": [
    {
     "name": "stdout",
     "output_type": "stream",
     "text": [
      "[[1]\n",
      " [0]]\n"
     ]
    }
   ],
   "source": [
    "# Define Zero vector\n",
    "zero_vec = np.array([[1],\n",
    "                     [0]])\n",
    "\n",
    "print(zero_vec)"
   ]
  },
  {
   "cell_type": "code",
   "execution_count": 3,
   "id": "e5517d04",
   "metadata": {},
   "outputs": [
    {
     "data": {
      "text/latex": [
       "$\\displaystyle \\left[\\begin{matrix}1\\\\0\\end{matrix}\\right]$"
      ],
      "text/plain": [
       "Matrix([\n",
       "[1],\n",
       "[0]])"
      ]
     },
     "execution_count": 3,
     "metadata": {},
     "output_type": "execute_result"
    }
   ],
   "source": [
    "# We can use SymPy to render our vectors nicer in LaTeX\n",
    "sp.Matrix(zero_vec)"
   ]
  },
  {
   "cell_type": "code",
   "execution_count": 4,
   "id": "0e629aa0",
   "metadata": {},
   "outputs": [
    {
     "data": {
      "text/latex": [
       "$\\displaystyle \\left[\\begin{matrix}0 & 1\\\\1 & 0\\end{matrix}\\right]$"
      ],
      "text/plain": [
       "Matrix([\n",
       "[0, 1],\n",
       "[1, 0]])"
      ]
     },
     "execution_count": 4,
     "metadata": {},
     "output_type": "execute_result"
    }
   ],
   "source": [
    "# Define X matrix\n",
    "X = np.array([[0,1],\n",
    "              [1,0]])\n",
    "sp.Matrix(X)"
   ]
  },
  {
   "cell_type": "markdown",
   "id": "f3ee3b5d",
   "metadata": {},
   "source": [
    "Now, if you are not accustomed to using Numpy, here's a **VERY** important thing to keep in mind. The multiplication symbol `*` does **NOT** perform matrix multiplication of NumPy arrays; instead, it performs element-wise multiplication (aka, the [Hadamard Product](https://en.wikipedia.org/wiki/Hadamard_product_(matrices))). \n",
    "\n",
    "To perform matrix multiplication as defined above, we should use the [`numpy.matmul()`](https://numpy.org/doc/stable/reference/generated/numpy.matmul.html) function. However, we can also use the syntactic-sugar symbol `@`, which is a shortcut for the same operation:"
   ]
  },
  {
   "cell_type": "code",
   "execution_count": 5,
   "id": "694fa741",
   "metadata": {},
   "outputs": [
    {
     "data": {
      "text/latex": [
       "$\\displaystyle \\left[\\begin{matrix}0\\\\1\\end{matrix}\\right]$"
      ],
      "text/plain": [
       "Matrix([\n",
       "[0],\n",
       "[1]])"
      ]
     },
     "execution_count": 5,
     "metadata": {},
     "output_type": "execute_result"
    }
   ],
   "source": [
    "# Multiply Zero vector by X to get One vector:\n",
    "one_vec = X @ zero_vec\n",
    "sp.Matrix(one_vec)"
   ]
  },
  {
   "cell_type": "code",
   "execution_count": 6,
   "id": "61b31598",
   "metadata": {},
   "outputs": [
    {
     "data": {
      "text/latex": [
       "$\\displaystyle \\left[\\begin{matrix}1\\\\0\\end{matrix}\\right]$"
      ],
      "text/plain": [
       "Matrix([\n",
       "[1],\n",
       "[0]])"
      ]
     },
     "execution_count": 6,
     "metadata": {},
     "output_type": "execute_result"
    }
   ],
   "source": [
    "# Multiply One vector by X to recover Zero vector:\n",
    "sp.Matrix(X @ one_vec)"
   ]
  },
  {
   "cell_type": "markdown",
   "id": "fdf3dc67",
   "metadata": {},
   "source": [
    "As can be seen, multiplying $\\text{X}$ by $\\vec{\\mathit{1}}$ does indeed produce $\\vec{\\mathit{0}}$.\n",
    "\n",
    "Now, at this point, I have to confess that I have been lying, but just a little bit. So far, I have stated that after applying the $\\text{X}$ gate once, we can recover our original value by reapplying $\\text{X}$ again. And although this is in fact true, it is not \"formally\" correct. You see, in this textbook I want to prioritize accessibility over formalism in the first few chapters, but always making sure we gradually introduce the necessary concepts. And in this particular case, the correct thing to do when we want to \"reverse\" the effect of a given gate is to apply the **inverse** of its corresponding matrix.\n",
    "\n",
    "The reason for this is that, if we have a general matrix $A$ acting on a vector $\\vec{x}$, and we want to apply now a matrix $B$, such that we recover $x$, then $B \\, A$ must be equal a matrix $I$ that leaves the vector $\\vec{x}$ (or any matrix in acts on) unchanged:\n",
    "\n",
    "$$ \n",
    "\\begin{aligned}\n",
    "\\vec{x} &= B A \\vec{x}\n",
    "\\\\\n",
    "\\vec{x} &= I \\vec{x} .\n",
    "\\end{aligned}\n",
    "$$\n",
    "\n",
    "The matrix $I$ is called the identity matrix. From the above expression we have:\n",
    "$$\n",
    "\\begin{aligned}\n",
    "B A &= I\n",
    "\\\\\n",
    "B &= I A^{-1},\n",
    "\\end{aligned}\n",
    "$$\n",
    "\n",
    "and since $I$ leaves elements unchanged: \n",
    "\n",
    "$$B = A^{-1} .$$\n",
    "\n",
    "So we have uncovered a very important property of the matrices that represent reversible gates/circuits: they must satisfy invertibility. Going back to the $\\text{X}$ matrix, what we find is that it is its own inverse:\n",
    "\n",
    "$$\n",
    "\\text{X}^{-1} = \\text{X},\n",
    "$$\n",
    "\n",
    "and that is why we can simply say that applying $\\text{X}$ a second time reverses its effect. Let's confirm that the relationship above is in fact true by using NumPy's inverse function:"
   ]
  },
  {
   "cell_type": "code",
   "execution_count": 7,
   "id": "6e788dd8",
   "metadata": {},
   "outputs": [
    {
     "data": {
      "text/latex": [
       "$\\displaystyle \\left[\\begin{matrix}0 & 1.0\\\\1.0 & 0\\end{matrix}\\right]$"
      ],
      "text/plain": [
       "Matrix([\n",
       "[  0, 1.0],\n",
       "[1.0,   0]])"
      ]
     },
     "execution_count": 7,
     "metadata": {},
     "output_type": "execute_result"
    }
   ],
   "source": [
    "# Find X⁻¹ to see it is equal to X:\n",
    "X_inv = np.linalg.inv(X)\n",
    "sp.Matrix(X_inv)"
   ]
  },
  {
   "cell_type": "markdown",
   "id": "3ef3b401",
   "metadata": {},
   "source": [
    "An equivalent way to confirm this is simply showing $X X = I$, where the identity matrix is given by:\n",
    "\n",
    "$$I = \\begin{bmatrix} 1 & 0 \\\\ 0 & 1 \\end{bmatrix}$$"
   ]
  },
  {
   "cell_type": "code",
   "execution_count": 8,
   "id": "956a181c",
   "metadata": {},
   "outputs": [
    {
     "data": {
      "text/latex": [
       "$\\displaystyle \\left[\\begin{matrix}1 & 0\\\\0 & 1\\end{matrix}\\right]$"
      ],
      "text/plain": [
       "Matrix([\n",
       "[1, 0],\n",
       "[0, 1]])"
      ]
     },
     "execution_count": 8,
     "metadata": {},
     "output_type": "execute_result"
    }
   ],
   "source": [
    "# X X⁻¹ = I:\n",
    "I = X @ X\n",
    "sp.Matrix(I)"
   ]
  },
  {
   "cell_type": "markdown",
   "id": "62286d63",
   "metadata": {},
   "source": [
    "## 2. Multi-Bit Systems"
   ]
  },
  {
   "cell_type": "markdown",
   "id": "bc7367f3",
   "metadata": {},
   "source": [
    "### 2.1 Multi-Bit Numbers as Vectors\n",
    "\n",
    "In previous chapters, we expressed an arbitrary binary number $b$ as:\n",
    "\n",
    "$$ b = b_{n-1} ... b_1 b_0 ,$$\n",
    "\n",
    "where the $i^{\\text{th}}$ bit $b_i$ could take a value of $0$ or $1$. Now, in order to expand our vector representation of a single bit to multiple bits, we need to introduce the [Kronecker product](https://en.wikipedia.org/wiki/Kronecker_product). In general, the Kronecker product is a matrix operation, but we will first introduce it for vectors (which are nothing other than one-dimensional matrices). So, let's start with the simplest example. If we have two vectors $\\vec{x} = \\begin{bmatrix} x_0 \\\\ x_1 \\end{bmatrix}$ and $\\vec{y} =  \\begin{bmatrix} y_0 \\\\ y_1 \\end{bmatrix}$, their Kronecker product (denoted by the symbol $\\otimes$) is given by:\n",
    "\n",
    "$$\n",
    "\\begin{aligned}\n",
    "\\vec{z} &= \\vec{x} \\otimes \\vec{y}\n",
    "\\\\\n",
    "\\\\\n",
    "\\vec{z} &= \\begin{bmatrix} x_0 \\\\ x_1 \\end{bmatrix} \\otimes \\begin{bmatrix} y_0 \\\\ y_1 \\end{bmatrix}\n",
    "\\\\\n",
    "\\\\\n",
    "\\vec{z} &= \\begin{bmatrix} x_0 \\begin{bmatrix} y_0 \\\\ y_1 \\end{bmatrix} \\\\ x_1 \\begin{bmatrix} y_0 \\\\ y_1 \\end{bmatrix} \\end{bmatrix}\n",
    "\\\\\n",
    "\\\\\n",
    "\\vec{z} &= \\begin{bmatrix} x_0 y_0 \\\\ x_0 y_1 \\\\ x_1 y_0 \\\\ x_1 y_1 \\end{bmatrix}\n",
    "\\end{aligned}\n",
    "$$\n",
    "\n",
    "to put into words, the Kronecker product is performed by taking each of the elements of the $\\vec{x}$ vector, and multiplying them by each of the values of the $\\vec{y}$ vector. This will result in a single vector $\\vec{z}$ with dimensions equal to the sum of the dimensions of $\\vec{x}$ and $\\vec{y}$. In this case, since both vectors are of length 2, $\\vec{z}$ is of length 4.\n",
    "\n",
    "So let us take, for example, the two bit binary number $b = 10$. In vector representation this will be given by:\n",
    "\n",
    "$$\n",
    "\\begin{aligned}\n",
    "\\vec{b} &= \\vec{\\mathit{1}} \\otimes \\vec{\\mathit{0}}\n",
    "\\\\\n",
    "\\\\\n",
    "\\vec{b} &= \\begin{bmatrix} 0 \\\\ 1 \\end{bmatrix} \\otimes \\begin{bmatrix} 1 \\\\ 0 \\end{bmatrix}\n",
    "\\\\\n",
    "\\\\\n",
    "\\vec{b} &= \\begin{bmatrix} 0 \\begin{bmatrix} 1 \\\\ 0 \\end{bmatrix} \\\\ 1 \\begin{bmatrix} 1 \\\\ 0 \\end{bmatrix} \\end{bmatrix}\n",
    "\\\\\n",
    "\\\\\n",
    "\\vec{b} &= \\begin{bmatrix} 0 \\times 1 \\\\ 0 \\times 0 \\\\ 1 \\times 1 \\\\ 1 \\times 0 \\end{bmatrix}\n",
    "\\\\\n",
    "\\\\\n",
    "\\vec{b} &= \\begin{bmatrix} 0 \\\\ 0 \\\\ 1 \\\\ 0 \\end{bmatrix}\n",
    "\\end{aligned}\n",
    "$$\n",
    "\n",
    "A general rule is that, when dealing with binary numbers, we will **always** find a $1$ in the vector index corresponding to the value of that number, and $0$s everywhere else. For instance, in the example above, the binary number $10$, which is $2$ in decimal, resulted in a vector with a $1$ in its second index and $0$s everywhere else (here, we start indexing from zero, with the index increasing from top to bottom).\n",
    "\n",
    "So, in general, to represent an $n$-bit binary value in vector representation we perform the Kronecker product of the vector representation of each of its bits:\n",
    "\n",
    "$$ \\vec{b} = \\vec{b}_{n-1} \\otimes \\, ... \\otimes \\, \\vec{b}_1 \\otimes \\vec{b}_0, $$\n",
    "\n",
    "where $\\vec{b}_{i}$ is either $\\vec{\\mathit{0}}$ or $\\vec{\\mathit{1}}$.  This expression can also be compactly written as:\n",
    "\n",
    "$$\\vec{b} = \\bigotimes_{i=0}^{n-1} \\vec{b}_{i}. $$\n",
    "\n",
    "And, since each $\\vec{b}_{i}$ is of length $2$, the vector $\\vec{b}$ will be of length $N = 2^n$, which can be written as:\n",
    "\n",
    "$$\\vec{b} = \\begin{bmatrix} \\beta_0 \\\\ \\beta_1 \\\\ \\beta_2 \\\\ \\vdots \\\\ \\beta_{N - 1} \\end{bmatrix}, $$\n",
    "\n",
    "where only one of all $\\beta_j$ is equal to $1$, and the rest are equal to $0$.\n",
    "\n",
    "Let's try a few more examples using Python to verify this fact. In NumPy, we perform the Kronecker product using the [`numpy.kron()`](https://numpy.org/doc/stable/reference/generated/numpy.kron.html) function. So, for the binary number $10$, we should get a vector with a $1$ in second element, and zeros everywhere else (and remember, we start indexing from zero):"
   ]
  },
  {
   "cell_type": "code",
   "execution_count": 9,
   "id": "aa548781",
   "metadata": {},
   "outputs": [
    {
     "data": {
      "text/latex": [
       "$\\displaystyle \\left[\\begin{matrix}0\\\\0\\\\1\\\\0\\end{matrix}\\right]$"
      ],
      "text/plain": [
       "Matrix([\n",
       "[0],\n",
       "[0],\n",
       "[1],\n",
       "[0]])"
      ]
     },
     "execution_count": 9,
     "metadata": {},
     "output_type": "execute_result"
    }
   ],
   "source": [
    "b = np.kron(one_vec,zero_vec)\n",
    "sp.Matrix(b)"
   ]
  },
  {
   "cell_type": "markdown",
   "id": "40b9c7d6",
   "metadata": {},
   "source": [
    "For larger binary numbers, we can iterate over its bits to perform the Kronecker product of the vector representation of each of them. Let's create a function to do this:"
   ]
  },
  {
   "cell_type": "code",
   "execution_count": 10,
   "id": "5640d584",
   "metadata": {},
   "outputs": [],
   "source": [
    "def bin_to_vec(b):\n",
    "    # define vectors for 0 and 1:\n",
    "    zero_vec = np.array([[1],[0]])\n",
    "    one_vec = np.array([[0],[1]])\n",
    "    \n",
    "    b_inv = b[::-1] # Reverse order of b. Like matrix mult,\n",
    "                    # Kronecker prod is performed from right to left.\n",
    "    \n",
    "    # iterate over bits\n",
    "    for i, bit in enumerate(b_inv):\n",
    "        if bit == '0':\n",
    "            b_i = zero_vec\n",
    "        else:\n",
    "            b_i = one_vec\n",
    "\n",
    "        # for first bit, we don't perform the product\n",
    "        if i == 0:\n",
    "            b_vec = b_i\n",
    "        else:\n",
    "            b_vec = np.kron(b_i,b_vec)\n",
    "            \n",
    "    return b_vec"
   ]
  },
  {
   "cell_type": "markdown",
   "id": "fa9bd20d",
   "metadata": {},
   "source": [
    "Now lets convert number $5$ ($101$ in binary) to a vector. Because this number has 3 bits, we should get a vector of length $2^3 = 8$ with a $1$ in the fifth element:"
   ]
  },
  {
   "cell_type": "code",
   "execution_count": 11,
   "id": "3eaa6944",
   "metadata": {},
   "outputs": [
    {
     "data": {
      "text/latex": [
       "$\\displaystyle \\left[\\begin{matrix}0\\\\0\\\\0\\\\0\\\\0\\\\1\\\\0\\\\0\\end{matrix}\\right]$"
      ],
      "text/plain": [
       "Matrix([\n",
       "[0],\n",
       "[0],\n",
       "[0],\n",
       "[0],\n",
       "[0],\n",
       "[1],\n",
       "[0],\n",
       "[0]])"
      ]
     },
     "execution_count": 11,
     "metadata": {},
     "output_type": "execute_result"
    }
   ],
   "source": [
    "b = '101'\n",
    "b_vec = bin_to_vec(b)\n",
    "sp.Matrix(b_vec)"
   ]
  },
  {
   "cell_type": "markdown",
   "id": "57050d43",
   "metadata": {},
   "source": [
    "For larger numbers, where the vectors become quite long, we can use [`numpy.where()`](https://numpy.org/doc/stable/reference/generated/numpy.where.html) function to verify that we get a one in the index of the value we are converting:"
   ]
  },
  {
   "cell_type": "code",
   "execution_count": 12,
   "id": "eb3aded5",
   "metadata": {},
   "outputs": [
    {
     "name": "stdout",
     "output_type": "stream",
     "text": [
      "Number 22 in binary (10110) has 5 bits\n",
      "This should result in a vector of length 32, with a '1' in the 22 index\n"
     ]
    }
   ],
   "source": [
    "b = '10110' # 22 in decimal\n",
    "\n",
    "b_int = int(b,2)\n",
    "bits = len(b)\n",
    "\n",
    "print(f'Number {b_int} in binary ({b}) has {bits} bits')\n",
    "print(f'This should result in a vector of length {2**bits}, with a \\'1\\' in the {b_int} index')"
   ]
  },
  {
   "cell_type": "code",
   "execution_count": 13,
   "id": "20fc041a",
   "metadata": {},
   "outputs": [
    {
     "name": "stdout",
     "output_type": "stream",
     "text": [
      "The length of the vector is: 32\n",
      "There is a '1' in position 22\n"
     ]
    }
   ],
   "source": [
    "b_vec = bin_to_vec(b)\n",
    "b_vec_len = len(b_vec)\n",
    "\n",
    "print(f'The length of the vector is: {len(b_vec)}')\n",
    "print(f'There is a \\'1\\' in position {np.where(b_vec == 1)[0][0]}')"
   ]
  },
  {
   "cell_type": "markdown",
   "id": "f6bd7b23",
   "metadata": {},
   "source": [
    "In summary, we can find the vector representation of a binary number by taking the Kronecker product of the vector representation of its individual bits. The length of the resulting vector will be $2^n$ because each bit is expressed by vector of length 2, and the Kronecker product produces vectors of dimension equal to the sum of the individual vectors. "
   ]
  },
  {
   "cell_type": "markdown",
   "id": "2ec9c62d",
   "metadata": {},
   "source": [
    "### 2.2 Multi-Bit Gates (and Circuits) as Matrices\n",
    "\n",
    "The next and final step of this chapter is to figure out how to represent multi-bit gates and full circuits as matrices. Let's start by looking at the $\\text{CX}$ gate we introduced in the previous chapter:\n",
    "\n",
    "<img src=\"images\\01_02_02_cx_gate.png\" align = \"center\" width=\"180\"/>\n",
    "\n",
    "which has the following truth table:\n",
    "\n",
    "| $a$ | $b$ | $a'$ | $b'$ |\n",
    "| :-: | :-: | :-: | :-: |\n",
    "| $0$ | $0$ | $0$ | $0$ |\n",
    "| $0$ | $1$ | $0$ | $1$ |\n",
    "| $1$ | $0$ | $1$ | $1$ |\n",
    "| $1$ | $1$ | $1$ | $0$ |\n",
    "\n",
    "Another way to write this table is by specifying the input to output relations we get when we apply this gate:\n",
    "\n",
    "$$\n",
    "\\begin{aligned}\n",
    "00 \\xrightarrow{\\;\\; \\text{CX} \\;\\;} 00\n",
    "\\\\\n",
    "01 \\xrightarrow{\\;\\; \\text{CX} \\;\\;} 01\n",
    "\\\\\n",
    "10 \\xrightarrow{\\;\\; \\text{CX} \\;\\;} 11\n",
    "\\\\\n",
    "11 \\xrightarrow{\\;\\; \\text{CX} \\;\\;} 10\n",
    "\\end{aligned}\n",
    "$$\n",
    "\n",
    "If we are to treat our binary values as vectors, then the $\\text{CX}$ matrix must have the same number of columns as the length of the input vector, and the same number of rows as the output vector. In this case, both input and output have two bits, which makes their vectors of length 4. This means $\\text{CX}$ must be a $4 \\times 4$ matrix. \n",
    "\n",
    "Let us now make $\\text{CX}$ a general matrix with elements $c_{ij}$, and write down the first of these relations in vector form:\n",
    "\n",
    "$$\n",
    "\\begin{bmatrix} 1 \\\\ 0 \\\\ 0 \\\\ 0 \\end{bmatrix} = \n",
    "\\begin{bmatrix} c_{00} & c_{01} & c_{02} & c_{03} \\\\ \n",
    "                c_{10} & c_{11} & c_{12} & c_{13} \\\\ \n",
    "                c_{20} & c_{21} & c_{22} & c_{23} \\\\ \n",
    "                c_{30} & c_{31} & c_{32} & c_{33} \\end{bmatrix}\n",
    "\\begin{bmatrix} 1 \\\\ 0 \\\\ 0 \\\\ 0 \\end{bmatrix}\n",
    "$$\n",
    "\n",
    "When multiplying $\\text{CX}$ with the input vector, we will get a column vector with elements equal to the first row of $\\text{CX}$:\n",
    "\n",
    "$$\n",
    "\\begin{bmatrix} 1 \\\\ 0 \\\\ 0 \\\\ 0 \\end{bmatrix} = \n",
    "\\begin{bmatrix} c_{00} \\\\ c_{01} \\\\ c_{02} \\\\ c_{03} \\end{bmatrix}\n",
    "$$\n",
    "\n",
    "For these two expressions to match, we then need to satisfy $c_{00} = 1$ and $c_{01} = c_{02} = c_{03} = 0$. We can repeat this process for the remaining 3 expressions, and find all the coefficients of the $\\text{CX}$ matrix, which then results in:\n",
    "\n",
    "$$\n",
    "\\text{CX} = \\begin{bmatrix} 1 & 0 & 0 & 0 \\\\ \n",
    "                     0 & 1 & 0 & 0 \\\\ \n",
    "                     0 & 0 & 0 & 1 \\\\ \n",
    "                     0 & 0 & 1 & 0 \\end{bmatrix}\n",
    "$$\n",
    "\n",
    "And the exact same procedure can be followed to find the matrix for the 3-bit $\\text{CCX}$ (Toffoli) gate:\n",
    "\n",
    "$$\n",
    "\\text{CCX} = \\begin{bmatrix} 1 & 0 & 0 & 0 & 0 & 0 & 0 & 0 \\\\ \n",
    "                      0 & 1 & 0 & 0 & 0 & 0 & 0 & 0 \\\\ \n",
    "                      0 & 0 & 1 & 0 & 0 & 0 & 0 & 0 \\\\ \n",
    "                      0 & 0 & 0 & 1 & 0 & 0 & 0 & 0 \\\\\n",
    "                      0 & 0 & 0 & 0 & 1 & 0 & 0 & 0 \\\\\n",
    "                      0 & 0 & 0 & 0 & 0 & 1 & 0 & 0 \\\\\n",
    "                      0 & 0 & 0 & 0 & 0 & 0 & 0 & 1 \\\\\n",
    "                      0 & 0 & 0 & 0 & 0 & 0 & 1 & 0 \\end{bmatrix}\n",
    "$$\n",
    "\n",
    "<br></br>\n",
    "Lastly, we need to specify how do we compose the matrices of larger systems. For example, let's consider the case in which we have a circuit with two bits, where we apply an $\\text{X}$ on the bottom bit, but leave the top bit alone:\n",
    "\n",
    "<img src=\"images\\01_03_02_id_and_x.png\" align = \"center\" width=\"180\"/>\n",
    "\n",
    "The way we construct the matrix $O$ for this circuit, is by taking the tensor product of an identity matrix (because the vector of the first bit must remain the same) and the $\\text{X}$ gate:\n",
    "\n",
    "$$O = I \\otimes \\text{X}$$"
   ]
  },
  {
   "cell_type": "code",
   "execution_count": null,
   "id": "389ac910",
   "metadata": {},
   "outputs": [],
   "source": [
    "in the previous chapter we looked at the implementation of an **OR** gate by means of $\\text{X}$ gates and a $\\text{CCX}$ gate:\n",
    "\n",
    "<img src=\"images\\01_02_07_reversible_or.png\" align = \"center\" width=\"220\"/>\n",
    "\n",
    "To construct the final matrix of this circuit, we need to "
   ]
  }
 ],
 "metadata": {
  "kernelspec": {
   "display_name": "Python 3 (ipykernel)",
   "language": "python",
   "name": "python3"
  },
  "language_info": {
   "codemirror_mode": {
    "name": "ipython",
    "version": 3
   },
   "file_extension": ".py",
   "mimetype": "text/x-python",
   "name": "python",
   "nbconvert_exporter": "python",
   "pygments_lexer": "ipython3",
   "version": "3.11.8"
  }
 },
 "nbformat": 4,
 "nbformat_minor": 5
}
