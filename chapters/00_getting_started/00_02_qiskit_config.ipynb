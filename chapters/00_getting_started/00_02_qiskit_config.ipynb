{
 "cells": [
  {
   "cell_type": "markdown",
   "id": "28460c78",
   "metadata": {},
   "source": [
    "# Configuring Qiskit\n",
    "---"
   ]
  },
  {
   "cell_type": "markdown",
   "id": "cca57a47",
   "metadata": {},
   "source": [
    "The steps in this chapter are entirely optional. However, if you want to run your quantum programs in IBM's quantum processing units (QPUs), you do need to setup your [IBM Quantum account](#account). Also, if you want the output of your code to match exactly how things are displayed in this textbook, you need to make the changes described in the [Qiskit Configuration File](#config) section."
   ]
  },
  {
   "cell_type": "code",
   "execution_count": null,
   "id": "57d5a300",
   "metadata": {},
   "outputs": [],
   "source": []
  }
 ],
 "metadata": {
  "kernelspec": {
   "display_name": "Python 3 (ipykernel)",
   "language": "python",
   "name": "python3"
  },
  "language_info": {
   "codemirror_mode": {
    "name": "ipython",
    "version": 3
   },
   "file_extension": ".py",
   "mimetype": "text/x-python",
   "name": "python",
   "nbconvert_exporter": "python",
   "pygments_lexer": "ipython3",
   "version": "3.11.8"
  }
 },
 "nbformat": 4,
 "nbformat_minor": 5
}
