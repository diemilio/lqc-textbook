{
 "cells": [
  {
   "cell_type": "markdown",
   "id": "f55be0c9",
   "metadata": {},
   "source": [
    "# Configuring Qiskit\n",
    "---"
   ]
  },
  {
   "cell_type": "markdown",
   "id": "22356d19",
   "metadata": {},
   "source": [
    "The steps in this chapter are entirely optional. However, if you want to run your quantum programs in IBM's quantum processing units (QPUs), you do need to setup your [IBM Quantum account](#account). \n",
    "\n",
    "Furthermore, if you want the output of your code to match exactly how things are displayed in this textbook, you need to make the changes described in the [Qiskit Configuration File](#config) section."
   ]
  },
  {
   "cell_type": "markdown",
   "id": "60571544",
   "metadata": {},
   "source": [
    "## 1. Setting Up your IBM Quantum Account\n",
    "\n"
   ]
  },
  {
   "cell_type": "markdown",
   "id": "022c2fd9",
   "metadata": {},
   "source": [
    "## 2. Creating a Qiskit Configuration File"
   ]
  },
  {
   "cell_type": "code",
   "execution_count": null,
   "id": "5e70a8a2",
   "metadata": {},
   "outputs": [],
   "source": []
  }
 ],
 "metadata": {
  "kernelspec": {
   "display_name": "Python 3 (ipykernel)",
   "language": "python",
   "name": "python3"
  },
  "language_info": {
   "codemirror_mode": {
    "name": "ipython",
    "version": 3
   },
   "file_extension": ".py",
   "mimetype": "text/x-python",
   "name": "python",
   "nbconvert_exporter": "python",
   "pygments_lexer": "ipython3",
   "version": "3.11.8"
  }
 },
 "nbformat": 4,
 "nbformat_minor": 5
}
