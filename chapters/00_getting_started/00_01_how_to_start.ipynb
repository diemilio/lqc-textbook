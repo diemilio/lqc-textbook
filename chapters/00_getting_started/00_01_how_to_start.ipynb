{
 "cells": [
  {
   "cell_type": "markdown",
   "id": "589fafba",
   "metadata": {},
   "source": [
    "# How to get Started"
   ]
  },
  {
   "cell_type": "markdown",
   "id": "228e58f8",
   "metadata": {},
   "source": [
    "If you want to follow the textbook by running the code presented in here but don't know how to get started, you are in luck! Below is a step by step description of how to get started.\n",
    "<br></br>\n",
    "\n",
    "### 1. Install Minicoda\n",
    "\n",
    "Before installing any of the necessary Python packages, it is highly recommended to use what is known as an [virtual environment](https://docs.python.org/3/tutorial/venv.html) manager. This allows us to have a separate environment where we can specify the version of Python we want to use and the dependencies (packages) we needed for our project. Two popular options for Python environments are [`venv`](https://docs.python.org/3/library/venv.html) and [`conda`](https://docs.conda.io/en/latest/). Here we will use the latter. \n",
    "<br></br>\n",
    "    \n",
    "To get `conda` up and running we need to install [Miniconda](https://docs.anaconda.com/free/miniconda/index.html), which can be done by downloading the installer corresponding to your operating system.\n",
    "\n",
    "https://docs.anaconda.com/free/miniconda/#latest-miniconda-installer-links\n",
    "<br></br>\n",
    "\n",
    "Once the download completes, run the installer and follow the directions to specify where you want things to reside.\n",
    "<br></br>\n",
    "\n",
    " - macOS users: it is easier to download and install the `pkg` version over the `bash` version since it comes with a visual user interface.\n",
    "<br></br>\n",
    "\n",
    "- Windows users: if this is your first installation of a python distribution, it is highly recommended you check the box that says *Add `Miniconda3` to my PATH environment variable*\n",
    "<br></br>\n",
    "\n",
    "### 2. Create a Virtual Environment\n",
    "\n",
    "Once installation completes, open a terminal window if you are running MacOs or Linux. In Windows, open the Anaconda Prompt (Anaconda3). You can find it by clicking on the Windows logo key and typing *Anaconda*.\n",
    "\n",
    "The command line should display that you're on the `base` environment:\n",
    "\n",
    "<img src=\".\\images\\00_01_01_terminal_window_base.png\" align = \"center\" width=\"350\"/>\n",
    "<br></br>\n",
    "\n",
    "To create a new virtual environment type and run:\n",
    "```python\n",
    "conda create --name <my-env>\n",
    "```\n",
    "Make sure to replace `<my-env>` with the whatever name you want to use for your environment.\n",
    "\n",
    "When asked if you want to proceed, type `y`. This will create a new environment equiped with the latest stable version of Python.\n",
    "\n",
    "Lastly, <span style=\"color:red\">activate your environment</span> before proceeding with any of the package installations by running:\n",
    "```python\n",
    "conda activate <my-env>\n",
    "```\n",
    "\n",
    "where, again, `<my-env>` is the name you selected for your environment."
   ]
  },
  {
   "cell_type": "code",
   "execution_count": null,
   "id": "08fd4d39",
   "metadata": {},
   "outputs": [],
   "source": []
  }
 ],
 "metadata": {
  "kernelspec": {
   "display_name": "Python 3 (ipykernel)",
   "language": "python",
   "name": "python3"
  },
  "language_info": {
   "codemirror_mode": {
    "name": "ipython",
    "version": 3
   },
   "file_extension": ".py",
   "mimetype": "text/x-python",
   "name": "python",
   "nbconvert_exporter": "python",
   "pygments_lexer": "ipython3",
   "version": "3.11.8"
  }
 },
 "nbformat": 4,
 "nbformat_minor": 5
}
