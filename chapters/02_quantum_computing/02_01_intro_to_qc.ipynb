{
 "cells": [
  {
   "cell_type": "markdown",
   "id": "3702108f",
   "metadata": {},
   "source": [
    "# Introduction to Quantum Computing\n",
    "---"
   ]
  },
  {
   "cell_type": "markdown",
   "id": "ebffd753",
   "metadata": {},
   "source": [
    "Quantum computers, or more precisely, quantum processing units (QPUs), are devices that exploit quantum-mechanical effects to perform computations that are not feasible through the use of conventional (classical) computers. Therefore, in order to understand how quantum computers work, we must familiarize ourselves with the quantum phenomena that enables this added computational advantage. In particular, we must understand the concepts of [superposition](https://en.wikipedia.org/wiki/Quantum_superposition), [entanglement](https://en.wikipedia.org/wiki/Quantum_entanglement) and [quantum interference](https://en.wikipedia.org/wiki/Wave_interference#Quantum_interference).\n",
    "\n",
    "For this reason, in this chapter we will follow a bottom-up approach. Instead of starting by describing the computational advantages QPUs have over classical devices, we will first introduce the concept of a qubit by discussing how this fundamental element of computation emerges from some of the physical properties of particles like electrons."
   ]
  },
  {
   "cell_type": "markdown",
   "id": "0594af18",
   "metadata": {},
   "source": [
    "## 1. Quantum Bits (Qubits)\n",
    "\n",
    "There are many different ways in which we can introduce the concept of a qubit. Here, we will follow what a relatively intuitive approach, which is by looking at how electrons behave under the influence of an external magnetic field.\n",
    "\n",
    "One of fundamental properties of electrons is that they have an intrinsic angular momentum. This property is commonly known as spin even though particles are not really spinning. The spin of an electron can be deduced experimentally by using what is known as a [Stern-Gerlach](https://en.wikipedia.org/wiki/Stern%E2%80%93Gerlach_experiment) apparatus. This device consists of two magnet poles shaped in a way such that the magnetic field between them is non-uniform, having a higher intensity at the top where the magnet is sharper: \n",
    "\n",
    "<img src=\"images\\02_01_01_stern-gerlach_field.png\" align = \"center\" width=\"600\"/>\n",
    "\n",
    "Therefore, if an object with a magnetic moment, like a tiny bar magnet, is sent into this device along the $y$ direction, it will experience a force in the vertical $z$ direction that will cause it to deflect upwards or downwards. A bar magnet with its north pole pointing up will deflect upwards; on the other hand, a bar magnet with its north pole pointing down will deflect downwards:\n",
    "\n",
    "<img src=\"images\\02_01_02_stern-gerlach_n-s_magnets.png\" align = \"center\" width=\"700\"/>\n",
    "\n",
    "If designed correctly, a bar magnet with its north pointing in the $+x$ (or $\\text{-}x$ direction) should experience an equal force from the top and bottom magnet poles, and therefore should travel in a straight path: \n",
    "<img src=\"images\\02_01_03_stern-gerlach_straight_magnet.png\" align = \"center\" width=\"300\"/>\n",
    "\n",
    "\n",
    "More generally, the force experienced by the bar magnet depends on the angle $\\theta$ between its magnetic moment (i.e., where it's north pole points to) and the magnetic field. Therefore, if we were to run this experiment for bar magnets with varying angles in the magnetic moment, the landing location on the back screen $l_z$ will be along the $z$ axis varying between where the landing position of up-pointing and down-pointing magnets and dependent on the angle: $ l_z \\propto cos(\\theta) $.\n",
    "\n",
    "<img src=\"images\\02_01_04_stern-gerlach_diff_magnet.png\" align = \"center\" width=\"290\"/>\n",
    "\n",
    "Now, the expectation for an electron is that its intrinsic angular momentum (spin) should express itself as a magnetic moment just as we have for a tiny bar magnet. So we would expect that, if we replace the magnets with electrons in the experiment above, we should see the exact same behavior of electrons being deflected in the $z$ direction as a function of the angle between the magnetic moment and the magnetic field. For the case in which we have an electron's spin poiting up/down we see the same\n",
    "\n",
    "\n",
    "Alas, this is not the case\n"
   ]
  },
  {
   "cell_type": "code",
   "execution_count": null,
   "id": "bcf76b0b",
   "metadata": {},
   "outputs": [],
   "source": []
  }
 ],
 "metadata": {
  "kernelspec": {
   "display_name": "Python 3 (ipykernel)",
   "language": "python",
   "name": "python3"
  },
  "language_info": {
   "codemirror_mode": {
    "name": "ipython",
    "version": 3
   },
   "file_extension": ".py",
   "mimetype": "text/x-python",
   "name": "python",
   "nbconvert_exporter": "python",
   "pygments_lexer": "ipython3",
   "version": "3.11.8"
  }
 },
 "nbformat": 4,
 "nbformat_minor": 5
}
