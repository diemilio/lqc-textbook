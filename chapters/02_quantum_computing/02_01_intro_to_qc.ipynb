{
 "cells": [
  {
   "cell_type": "markdown",
   "id": "3702108f",
   "metadata": {},
   "source": [
    "# Introduction to Quantum Computing\n",
    "---"
   ]
  },
  {
   "cell_type": "markdown",
   "id": "ebffd753",
   "metadata": {},
   "source": [
    "Quantum computers, or more precisely, quantum processing units (QPUs), are devices that exploit quantum-mechanical effects to perform computations that are not feasible through the use of conventional (classical) computers. Therefore, in order to understand how these devices work, we must familiarize ourselves with the quantum phenomena that enables this added computational advantage. In particular, we must understand the concepts of [superposition](https://en.wikipedia.org/wiki/Quantum_superposition), [entanglement](https://en.wikipedia.org/wiki/Quantum_entanglement) and [quantum interference](https://en.wikipedia.org/wiki/Wave_interference#Quantum_interference).\n",
    "\n",
    "For this reason, in this chapter we will follow a bottom-up approach. Instead of starting by describing how QPUs can outperform classical devices in certain tasks, we will first introduce the concept of a qubit by discussing how this fundamental element of computation emerges from some of the physical properties of particles like electrons."
   ]
  },
  {
   "attachments": {},
   "cell_type": "markdown",
   "id": "0594af18",
   "metadata": {},
   "source": [
    "## 1. Quantum Bits (Qubits)\n",
    "\n",
    "There are many different ways in which we can introduce the concept of a qubit. Here, we will follow a relatively intuitive approach by looking at how electrons behave under the influence of an external magnetic field.\n",
    "\n",
    "One of fundamental properties of electrons is that they have an intrinsic angular momentum. This property is commonly known as spin even though particles are not really spinning. The spin of an electron can be deduced experimentally by using what is known as a [Stern-Gerlach](https://en.wikipedia.org/wiki/Stern%E2%80%93Gerlach_experiment) apparatus. This device consists of two magnet poles shaped in a way such that the magnetic field between them is non-uniform, having a higher intensity at the top where the magnet is sharper: \n",
    "\n",
    "<img src=\"images\\02_01_01_stern-gerlach_field.png\" align = \"center\" width=\"600\"/>\n",
    "\n",
    "Therefore, if an object with a magnetic moment, like a tiny bar magnet, is sent into this device along the $y$ direction, it will experience a force in the vertical $z$ direction that will cause it to deflect upwards or downwards. A bar magnet with its north pole pointing up will deflect upwards; on the other hand, a bar magnet with its north pole pointing down will deflect downwards:\n",
    "\n",
    "<img src=\"images\\02_01_02_stern-gerlach_n-s_magnets.png\" align = \"center\" width=\"700\"/>\n",
    "\n",
    "If designed correctly, a bar magnet with its north pointing in the $+x$ (or $-x$ direction) should experience an equal force from the top and bottom magnet poles, and therefore should travel in a straight path: \n",
    "<img src=\"images\\02_01_03_stern-gerlach_straight_magnet.png\" align = \"center\" width=\"300\"/>\n",
    "\n",
    "\n",
    "More generally, the force experienced by the bar magnet depends on the angle $\\theta$ between its magnetic moment (i.e., where it's north pole points to) and the magnetic field. Therefore, if we were to run this experiment for bar magnets with varying angles in the magnetic moment, the landing location on the back screen $l_z$ will be along the $z$ axis varying between where the landing position of up-pointing and down-pointing magnets and dependent on the angle: $ l_z \\propto cos(\\theta) $.\n",
    "\n",
    "<img src=\"images\\02_01_04_stern-gerlach_diff_magnet.png\" align = \"center\" width=\"320\"/>\n",
    "<br></br>\n",
    "\n",
    "Now, because electrons are charge particles, their intrinsic angular momentum (spin) expresses itself as a magnetic moment just as we have for a tiny bar magnet. So, if we replace the magnets with electrons in the experiment above, the expectation is that we should see the exact same behavior of electrons being deflected in the $z$ direction as a function of the angle between the magnetic moment and the magnetic field. Experimentally, this has been confirmed for electrons with their spin pointing in the $+z$ and $-z$ directions:\n",
    "<img src=\"images\\02_01_05_stern-gerlach_up-down_elec.png\" align = \"center\" width=\"700\"/>\n",
    "\n",
    "However, for the case of an electron with their spin pointing in the $+x$ (or $-x$) direction, something interesting happens. Instead of traveling in a straight line (like in the case of the bar magnet), the electron deflects upwards or downwards with $50 \\%$ probability:\n",
    "<img src=\"images\\02_01_06_stern-gerlach_right_elec.png\" align = \"center\" width=\"360\"/>\n",
    "\n",
    "What this implies is that, if we were to run this experiments many times, roughly half of the time we will see the electron deflecting upwards, and half of the time deflecting downwards. More generally, what experiments show is that the probability of the electron deflecting in the $+z$ direction is given by the cosine squared of the angle $\\theta/2$, where again, $\\theta$ is the angle between the spin and the direction of the magnetic field:\n",
    "\n",
    "$$ P_{+z} = \\cos^2\\left(\\frac{\\theta}{2}\\right) $$\n",
    "\n",
    "Similarly, the probability of the electron deflecting in the $-z$ direction is equal the sine squared of the angle:\n",
    "\n",
    "$$ P_{-z} = \\sin^2\\left(\\frac{\\theta}{2}\\right) $$\n",
    "\n",
    "From a probability standpoint, these expressions work since the sum of sine and cosine squared for any coomon angle always add to one, just like probabilities ought to do:\n",
    "\n",
    "$$\n",
    "\\begin{aligned}\n",
    "P_{+z} &+ P_{-z} = 1\n",
    "\\\\\n",
    "\\\\\n",
    "\\cos^2\\left(\\frac{\\theta}{2}\\right) &+ \\sin^2\\left(\\frac{\\theta}{2}\\right) = 1\n",
    "\\end{aligned}\n",
    "$$\n",
    "\n",
    "Furthermore, we can verify that these expressions work for the four cases we have considered:\n",
    "\n",
    "| Spin Direction | Angle $\\theta$ [rad] | Angle $\\theta$ [deg] | $P_{+z}$ | $P_{-z}$ |\n",
    "| :-: | :-: | :-: | :-: | :-: |\n",
    "| $+z$ | $0$ | $0$ | $1$ | $0$ |\n",
    "| $-z$ | $\\pi$ | $180$ | $0$ | $1$ |\n",
    "| $+x$ | $\\frac{\\pi}{2}$ | $90$ | $\\frac{1}{2}$ | $\\frac{1}{2}$ |\n",
    "| $-x$ | $\\frac{3\\pi}{2}$ | $270$ | $\\frac{1}{2}$ | $\\frac{1}{2}$ |\n",
    "\n",
    "But more importantly, experiments simply show that this works for any angle $\\theta$.\n",
    "<img src=\"images\\02_01_07_stern-gerlach_angle_elec.png\" align = \"center\" width=\"360\"/>\n",
    "\n",
    "The reason *why* electrons behave like this is related to what is perhaps the most debated question in all quantum mechanics: [the measurement problem](https://en.wikipedia.org/wiki/Measurement_problem). Therefore, we will just take this behavior as a given fact purely based on empirical data."
   ]
  },
  {
   "cell_type": "code",
   "execution_count": 8,
   "id": "bcf76b0b",
   "metadata": {},
   "outputs": [
    {
     "name": "stdout",
     "output_type": "stream",
     "text": [
      "0.4999999999999999\n",
      "0.5000000000000001\n"
     ]
    }
   ],
   "source": [
    "import numpy as np\n",
    "angle = 3*np.pi/2\n",
    "\n",
    "print(np.cos(angle/2)**2)\n",
    "print(np.sin(angle/2)**2)"
   ]
  },
  {
   "cell_type": "code",
   "execution_count": null,
   "id": "17bdb38f",
   "metadata": {},
   "outputs": [],
   "source": []
  }
 ],
 "metadata": {
  "kernelspec": {
   "display_name": "Python 3 (ipykernel)",
   "language": "python",
   "name": "python3"
  },
  "language_info": {
   "codemirror_mode": {
    "name": "ipython",
    "version": 3
   },
   "file_extension": ".py",
   "mimetype": "text/x-python",
   "name": "python",
   "nbconvert_exporter": "python",
   "pygments_lexer": "ipython3",
   "version": "3.11.8"
  }
 },
 "nbformat": 4,
 "nbformat_minor": 5
}
