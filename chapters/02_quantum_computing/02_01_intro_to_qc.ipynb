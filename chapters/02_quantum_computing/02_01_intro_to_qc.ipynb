{
 "cells": [
  {
   "cell_type": "markdown",
   "id": "3702108f",
   "metadata": {},
   "source": [
    "# Introduction to Quantum Computing\n",
    "---"
   ]
  },
  {
   "cell_type": "markdown",
   "id": "ebffd753",
   "metadata": {},
   "source": [
    "Quantum computers, or more precisely, quantum processing units (QPUs), are devices that exploit quantum-mechanical effects to perform computations that are not feasible through the use of conventional (classical) computers. Therefore, in order to understand how quantum computers work, we must familiarize ourselves with the quantum phenomena that enables this added computational advantage. In particular, we must understand the concepts of [superposition](https://en.wikipedia.org/wiki/Quantum_superposition), [entanglement](https://en.wikipedia.org/wiki/Quantum_entanglement) and [quantum interference](https://en.wikipedia.org/wiki/Wave_interference#Quantum_interference).\n",
    "\n",
    "For this reason, in this chapter we will follow a bottom-up approach. Instead of starting by describing the computational advantages QPUs have over classical devices, we will first introduce the concept of a qubit by discussing how this fundamental element of computation emerges from some of the physical properties of particles like electrons."
   ]
  },
  {
   "cell_type": "markdown",
   "id": "0594af18",
   "metadata": {},
   "source": [
    "## 1. Quantum Bits (Qubits)\n",
    "\n",
    "There are many different ways in which we can introduce the concept of a qubit. Here, we will follow what I consider to be the most intuitive approach, which is by looking at the spin of an electron. Electrons are like \n",
    "\n",
    "One of fundamental properties of electrons is that they have intrinsic angular momentum. This property is commonly known as spin, even though the particles are not really spinning. \n",
    "\n",
    "<img src=\"images\\02_01_02_stern-gerlach_up-down.png\" align = \"center\" width=\"700\"/>\n",
    "\n",
    "<img src=\"images\\02_01_01_stern-gerlach.png\" align = \"center\" width=\"300\"/>"
   ]
  },
  {
   "cell_type": "code",
   "execution_count": null,
   "id": "bcf76b0b",
   "metadata": {},
   "outputs": [],
   "source": []
  }
 ],
 "metadata": {
  "kernelspec": {
   "display_name": "Python 3 (ipykernel)",
   "language": "python",
   "name": "python3"
  },
  "language_info": {
   "codemirror_mode": {
    "name": "ipython",
    "version": 3
   },
   "file_extension": ".py",
   "mimetype": "text/x-python",
   "name": "python",
   "nbconvert_exporter": "python",
   "pygments_lexer": "ipython3",
   "version": "3.11.8"
  }
 },
 "nbformat": 4,
 "nbformat_minor": 5
}
