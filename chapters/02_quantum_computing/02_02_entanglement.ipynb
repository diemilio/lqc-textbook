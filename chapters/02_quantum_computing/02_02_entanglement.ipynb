{
 "cells": [
  {
   "cell_type": "markdown",
   "id": "66bc6f89",
   "metadata": {},
   "source": [
    "# Quantum Entanglement\n",
    "<hr></hr>"
   ]
  },
  {
   "cell_type": "markdown",
   "id": "cdfc6ec6",
   "metadata": {},
   "source": [
    "Entanglement is one of the key components that makes quantum computing different from traditional digital systems. As a matter of fact, entanglement might be the main ingredient that allows quantum devices to provide a computational advantage over their classical counterparts. To understand entanglement, we will follow a similar approach to that of the previous chapter and explain how this phenomenon emerges from a physical setup, like for example a system composed by the spin of two separate electrons.\n",
    "\n",
    "We will then explore how this effect is mapped to the qubit representation in an abstract quantum circuit model, which will be vital step in the construction of quantum algorithms."
   ]
  },
  {
   "cell_type": "markdown",
   "id": "7e255c04",
   "metadata": {},
   "source": [
    "## 1. Two-Electron System\n",
    "\n",
    "### 1.1 Separable Electrons\n",
    "In the previous chapter we described how the spin of a single electron can be seen as one of many physical representations of a qubit. Now, to treat a system in which we have two electrons (i.e. qubits), we follow the same rules we introduced for [multi-bit reversible-circuit systems](../01_classical_computing/01_03_bits_to_vectors.ipynb#2.1-Multi-Bit-Numbers-as-Vectors). Namely, we use the tensor product of the two separate states. So, given two separate electrons/qubits $q_0$, $q_1$, the statevector that represents the entire system is given by:\n",
    "\n",
    "$$|q\\rangle = |q_0\\rangle \\otimes |q_1\\rangle$$\n",
    "\n",
    "So, if both electrons have their spin pointing in the $\\texttt{+}z$ direction (qubits are in state $|0\\rangle$), we have the state:\n",
    "\n",
    "$$\n",
    "\\begin{aligned}\n",
    "|q\\rangle &= |0\\rangle \\otimes |0\\rangle\n",
    "\\\\\n",
    "\\\\\n",
    "|q\\rangle &= \\begin{bmatrix} 1 \\\\ 0 \\end{bmatrix} \\otimes \\begin{bmatrix} 1 \\\\ 0 \\end{bmatrix}\n",
    "\\\\\n",
    "\\\\\n",
    "|q\\rangle &= \\begin{bmatrix} 1 \\\\ 0 \\\\ 0 \\\\ 0 \\end{bmatrix}\n",
    "\\end{aligned}\n",
    "$$\n",
    "\n",
    "And we can follow the same procedure if the electrons have their spin pointing in, for example, the $\\texttt{+}x$ and $\\texttt{-}x$ directions, respectively:\n",
    "\n",
    "$$\n",
    "\\begin{aligned}\n",
    "|q\\rangle &= |+\\rangle \\otimes |-\\rangle\n",
    "\\\\\n",
    "\\\\\n",
    "|q\\rangle &= \\frac{1}{\\sqrt{2}}\\begin{bmatrix} 1 \\\\ 1 \\end{bmatrix} \\otimes \\frac{1}{\\sqrt{2}}\\begin{bmatrix} \\phantom{-}1 \\\\ -1 \\end{bmatrix}\n",
    "\\\\\n",
    "\\\\\n",
    "|q\\rangle &= \\frac{1}{2}\\begin{bmatrix} \\phantom{-}1 \\\\ -1 \\\\ \\phantom{-}1 \\\\ -1 \\end{bmatrix}\n",
    "\\end{aligned}\n",
    "$$\n",
    "\n",
    "Now, let's recall that we can also express this vector as a linear combination (a **superposition**) of terms as follows:\n",
    "\n",
    "$$\n",
    "\\begin{aligned}\n",
    "|q\\rangle &= |+\\rangle \\otimes |-\\rangle\n",
    "\\\\\n",
    "\\\\\n",
    "|q\\rangle &= \\frac{1}{\\sqrt{2}}\\left(|0\\rangle + |1\\rangle \\right) \\otimes \\frac{1}{\\sqrt{2}}\\left(|0\\rangle - |1\\rangle \\right)\n",
    "\\\\\n",
    "\\\\\n",
    "|q\\rangle &= \\frac{1}{2}\\left(|0\\rangle \\otimes |0\\rangle  - |0\\rangle \\otimes |1\\rangle + |1\\rangle \\otimes |0\\rangle - |1\\rangle \\otimes |1\\rangle \\right) \n",
    "\\end{aligned}\n",
    "$$\n",
    "\n",
    "It is common notation to shorten states of the form $|q_0\\rangle \\otimes |q_1\\rangle $ as $|q_0 q_1\\rangle $, so we can rewrite the expression above more succinctly as:\n",
    "\n",
    "$$ |q\\rangle = \\frac{1}{2}\\left(|00\\rangle  - |01\\rangle + |10\\rangle - |11\\rangle \\right) $$\n",
    "\n",
    "So, what we have is that, when two separate electrons/qubits are independently in superposition, the state that represents the total system corresponds to a superposition of four terms. Same holds true for the other different combinations of $|+\\rangle$ and $|-\\rangle$, but with different signs in the summation terms. We can actually show what these statevectors look like using Qiskit:"
   ]
  },
  {
   "cell_type": "code",
   "execution_count": 1,
   "id": "95b4154b",
   "metadata": {},
   "outputs": [
    {
     "data": {
      "text/latex": [
       "$$|++\\rangle = \\frac{1}{2} |00\\rangle+\\frac{1}{2} |01\\rangle+\\frac{1}{2} |10\\rangle+\\frac{1}{2} |11\\rangle$$"
      ],
      "text/plain": [
       "<IPython.core.display.Latex object>"
      ]
     },
     "metadata": {},
     "output_type": "display_data"
    },
    {
     "data": {
      "text/latex": [
       "$$|+-\\rangle = \\frac{1}{2} |00\\rangle- \\frac{1}{2} |01\\rangle+\\frac{1}{2} |10\\rangle- \\frac{1}{2} |11\\rangle$$"
      ],
      "text/plain": [
       "<IPython.core.display.Latex object>"
      ]
     },
     "metadata": {},
     "output_type": "display_data"
    },
    {
     "data": {
      "text/latex": [
       "$$|-+\\rangle = \\frac{1}{2} |00\\rangle+\\frac{1}{2} |01\\rangle- \\frac{1}{2} |10\\rangle- \\frac{1}{2} |11\\rangle$$"
      ],
      "text/plain": [
       "<IPython.core.display.Latex object>"
      ]
     },
     "metadata": {},
     "output_type": "display_data"
    },
    {
     "data": {
      "text/latex": [
       "$$|--\\rangle = \\frac{1}{2} |00\\rangle- \\frac{1}{2} |01\\rangle- \\frac{1}{2} |10\\rangle+\\frac{1}{2} |11\\rangle$$"
      ],
      "text/plain": [
       "<IPython.core.display.Latex object>"
      ]
     },
     "metadata": {},
     "output_type": "display_data"
    }
   ],
   "source": [
    "import numpy as np\n",
    "from qiskit.quantum_info import Statevector\n",
    "\n",
    "plus = Statevector.from_label('+')\n",
    "minus = Statevector.from_label('-')\n",
    "\n",
    "q_pp = plus.tensor(plus)\n",
    "q_pm = plus.tensor(minus)\n",
    "q_mp = minus.tensor(plus)\n",
    "q_mm = minus.tensor(minus)\n",
    "\n",
    "display(q_pp.draw('latex', prefix='|++\\\\rangle = '))\n",
    "display(q_pm.draw('latex', prefix='|+-\\\\rangle = '))\n",
    "display(q_mp.draw('latex', prefix='|-+\\\\rangle = '))\n",
    "display(q_mm.draw('latex', prefix='|--\\\\rangle = '))"
   ]
  },
  {
   "cell_type": "markdown",
   "id": "5894f39f",
   "metadata": {},
   "source": [
    "In the example above, we explicitly applied the Kronecker product using the `tensor` method of the `Statevector` objects, but we know that we can also arrive to the same statevector using a quantum circuit where we just represent each electron with a line to which we can apply gates as discussed before for a single electron.\n",
    "\n",
    "For example, to prepare state $|+-\\rangle$ assuming we start with state $|00\\rangle$, we need to first apply an $X$ gate to $q_0$ to get state $|01\\rangle$, and then Hadamard gates to both qubits. Let's work out the math for this, and then implement the circuit in Qiskit:\n",
    "\n",
    "$$ \n",
    "\\begin{aligned}\n",
    "|q\\rangle &= (H \\otimes H) (I \\otimes X) |00\\rangle\n",
    "\\\\\n",
    "\\\\\n",
    "|q\\rangle &= \\left(\\frac{1}{\\sqrt{2}} \\begin{bmatrix} 1 & \\phantom{-}1 \\\\ 1 & -1 \\end{bmatrix} \\otimes \\frac{1}{\\sqrt{2}} \\begin{bmatrix} 1 & \\phantom{-}1 \\\\ 1 & -1 \\end{bmatrix} \\right) \\left(\\begin{bmatrix} 1 & 0 \\\\ 0 & 1 \\end{bmatrix} \\otimes \\begin{bmatrix} 0 & 1 \\\\ 1 & 0 \\end{bmatrix} \\right) \\left(\\begin{bmatrix} 1 \\\\ 0 \\end{bmatrix} \\otimes \\begin{bmatrix} 1 \\\\ 0 \\end{bmatrix} \\right)\n",
    "\\\\\n",
    "\\\\\n",
    "|q\\rangle &= \\frac{1}{2} \\begin{bmatrix}1 & \\phantom{-}1 & \\phantom{-}1 & \\phantom{-}1\\\\1 & -1 & \\phantom{-}1 & -1\\\\1 & \\phantom{-}1 & -1 & -1\\\\1 & -1 & -1 & \\phantom{-}1\\end{bmatrix} \\begin{bmatrix}0 & 1 & 0 & 0\\\\1 & 0 & 0 & 0\\\\0 & 0 & 0 & 1\\\\0 & 0 & 1 & 0\\end{bmatrix} \\begin{bmatrix} 1 \\\\ 0 \\\\ 0 \\\\ 0 \\end{bmatrix}\n",
    "\\\\\n",
    "\\\\\n",
    "|q\\rangle &= \\frac{1}{2} \\begin{bmatrix}1 & \\phantom{-}1 & \\phantom{-}1 & \\phantom{-}1\\\\1 & -1 & \\phantom{-}1 & -1\\\\1 & \\phantom{-}1 & -1 & -1\\\\1 & -1 & -1 & \\phantom{-}1\\end{bmatrix}\\begin{bmatrix} 0 \\\\ 1 \\\\ 0 \\\\ 0 \\end{bmatrix}\n",
    "\\\\\n",
    "\\\\\n",
    "|q\\rangle &= \\frac{1}{2} \\begin{bmatrix} \\phantom{-}1 \\\\ -1 \\\\ \\phantom{-}1 \\\\ -1 \\end{bmatrix}\n",
    "\\end{aligned}\n",
    "$$\n",
    "\n",
    "As we can see, this is the same vector we had derived above for state $|+-\\rangle$. Now let's implement the circuit in Qiskit and look at the statevector at the output (recall that in Qiskit all qubits are initialized to $|0\\rangle$ by default):"
   ]
  },
  {
   "cell_type": "code",
   "execution_count": 23,
   "id": "a5e92df2",
   "metadata": {},
   "outputs": [
    {
     "data": {
      "image/png": "[encoded data removed]",
      "text/plain": [
       "<Figure size 206.852x144.48 with 1 Axes>"
      ]
     },
     "metadata": {
      "image/png": {
       "height": 125,
       "width": 173
      }
     },
     "output_type": "display_data"
    },
    {
     "name": "stdout",
     "output_type": "stream",
     "text": [
      "Statevector in ket notation: \n"
     ]
    },
    {
     "data": {
      "text/latex": [
       "$$|q\\rangle = \\frac{1}{2} |00\\rangle- \\frac{1}{2} |01\\rangle+\\frac{1}{2} |10\\rangle- \\frac{1}{2} |11\\rangle$$"
      ],
      "text/plain": [
       "<IPython.core.display.Latex object>"
      ]
     },
     "metadata": {},
     "output_type": "display_data"
    },
    {
     "name": "stdout",
     "output_type": "stream",
     "text": [
      "Statevector in vector notation: \n"
     ]
    },
    {
     "data": {
      "text/latex": [
       "$$\n",
       "|q\\rangle = \n",
       "\\begin{bmatrix}\n",
       "\\frac{1}{2} & - \\frac{1}{2} & \\frac{1}{2} & - \\frac{1}{2}  \\\\\n",
       " \\end{bmatrix}\n",
       "$$"
      ],
      "text/plain": [
       "<IPython.core.display.Latex object>"
      ]
     },
     "metadata": {},
     "output_type": "display_data"
    }
   ],
   "source": [
    "from qiskit import QuantumCircuit\n",
    "\n",
    "qc = QuantumCircuit(2)  # create quantum circuit with 2 qubits\n",
    "qc.x(0)                 # apply X gate to qubit 0\n",
    "qc.id(1)                # apply identity to qubit 1\n",
    "qc.h([0,1])             # apply H gate to qubits 0 and 1\n",
    "display(qc.draw())\n",
    "\n",
    "sv = Statevector(qc)\n",
    "print('Statevector in ket notation: ')\n",
    "display(sv.draw('latex', prefix='|q\\\\rangle = '))\n",
    "print('Statevector in vector notation: ')\n",
    "display(sv.draw('latex', prefix='|q\\\\rangle = ', convention='vector'))"
   ]
  },
  {
   "cell_type": "code",
   "execution_count": null,
   "id": "8fa4fc60",
   "metadata": {},
   "outputs": [],
   "source": []
  },
  {
   "cell_type": "code",
   "execution_count": null,
   "id": "ed20c8a3",
   "metadata": {},
   "outputs": [],
   "source": []
  },
  {
   "cell_type": "code",
   "execution_count": null,
   "id": "4a9db7ff",
   "metadata": {},
   "outputs": [],
   "source": []
  }
 ],
 "metadata": {
  "kernelspec": {
   "display_name": "Python 3 (ipykernel)",
   "language": "python",
   "name": "python3"
  },
  "language_info": {
   "codemirror_mode": {
    "name": "ipython",
    "version": 3
   },
   "file_extension": ".py",
   "mimetype": "text/x-python",
   "name": "python",
   "nbconvert_exporter": "python",
   "pygments_lexer": "ipython3",
   "version": "3.11.9"
  }
 },
 "nbformat": 4,
 "nbformat_minor": 5
}
