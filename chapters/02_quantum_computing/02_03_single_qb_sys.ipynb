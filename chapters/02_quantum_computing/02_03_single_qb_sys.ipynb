{
 "cells": [
  {
   "cell_type": "markdown",
   "id": "a65eda3f",
   "metadata": {},
   "source": [
    "# Single-Qubit Systems\n",
    "<hr></hr>"
   ]
  },
  {
   "cell_type": "markdown",
   "id": "5a2f8da4",
   "metadata": {},
   "source": [
    "In the introductory chapter to [quantum bits and circuits](https://learnquantum.io/chapters/02_quantum_computing/02_01_bits_to_qubits.html), we presented the model of a qubit inspired by the probabilistic behavior of the spin of an electron. However, we only described how the electron behaves when its spin was pointing in the $\\texttt{+}z, \\texttt{-}z, \\texttt{+}x, \\texttt{-}x$ directions (described by states $|0\\rangle, |1\\rangle, |+\\rangle, |-\\rangle$, respectively). \n",
    "\n",
    "But what if the spin is pointing along some arbitrary angle with respect to the $\\texttt{+}z$ direction? We did mention that the probability of measuring spin-up or spin-down depends on this angle, but did not give a quantitative rule for how electrons behave. \n",
    "\n",
    "In this chapter, we will not only expand on this idea, but will generalize the state of the spin of an electron pointing in any direction, which represents the most general way to express the state of a qubit. We will then discuss the different operations we can apply to a qubit to transform it from one arbitrary state to another, and lastly talk about the Bloch Sphere, which is a graphical representation of the mathematical description of the qubit's state."
   ]
  },
  {
   "cell_type": "markdown",
   "id": "8379c7f0",
   "metadata": {},
   "source": [
    "## 1. Generalizing the Qubit\n",
    "\n",
    "\n",
    "### 1.1 Real Probability Amplitudes\n",
    "\n",
    "If we, once again, look at the Stern-Gerlach experiment, observations of repeated experiments show that for an electron with its spin at an angle $\\theta$ with respect to the $\\texttt{+}z$ axis, the probability of the electron deflecting in the $\\texttt{+}z$ direction (i.e., measuring state $|0\\rangle$) is given by the cosine squared of the angle $\\theta/2$:\n",
    "\n",
    "$$ P_{0} = \\cos^2\\left(\\frac{\\theta}{2}\\right) $$\n",
    "\n",
    "Similarly, the probability of the electron deflecting in the $\\texttt{-}z$ direction (i.e., measuring state $|1\\rangle$) is equal the sine squared of the angle:\n",
    "\n",
    "$$ P_{1} = \\sin^2\\left(\\frac{\\theta}{2}\\right) $$\n",
    "\n",
    "<img src=\"images/02_03_01_stern-gerlach_angle_prob.png\" align = \"center\" width=\"360\"/>\n",
    "\n",
    "From a probability standpoint, these expressions work since the sum of sine and cosine squared for any common angle always add to one, just like probabilities ought to do:\n",
    "\n",
    "$$\n",
    "\\begin{aligned}\n",
    "P_{0} &+ P_{1} = 1\n",
    "\\\\\n",
    "\\\\\n",
    "\\cos^2\\left(\\frac{\\theta}{2}\\right) &+ \\sin^2\\left(\\frac{\\theta}{2}\\right) = 1\n",
    "\\end{aligned}\n",
    "$$\n",
    "\n",
    "Furthermore, we can take this one step farther, and use the same approach we followed when going from [probabilities to probability amplitudes](https://learnquantum.io/chapters/02_quantum_computing/02_01_bits_to_qubits.html#from-probabilities-to-probability-amplitudes) and show that the state of a qubit (electron spin) for an arbitrary angle $\\theta$ is given by the statevector:\n",
    "\n",
    "$$ |q\\rangle = \\cos\\left(\\frac{\\theta}{2}\\right)|0\\rangle + \\sin\\left(\\frac{\\theta}{2}\\right) |1\\rangle $$\n",
    "\n",
    "And this, of course, checks out for the four cases we have explored so far:\n",
    "\n",
    "| Spin Direction | State | Angle $\\theta$ [rad] | $\\cos\\left(\\frac{\\theta}{2}\\right)$ |  $\\sin\\left(\\frac{\\theta}{2}\\right)$ |\n",
    "| :-: | :-: | :-: | :-: | :-: |\n",
    "| $\\texttt{+}z$ | $|0\\rangle$ | $0$ | $1$ | $0$ |\n",
    "| $\\texttt{-}z$ | $|1\\rangle$ | $\\pi$ |  $0$ | $1$ |\n",
    "| $\\texttt{+}x$ | $|+\\rangle$ | $\\frac{\\pi}{2}$ | $\\frac{1}{\\sqrt{2}}$ | $\\frac{1}{\\sqrt{2}}$ |\n",
    "| $\\texttt{-}x$ | $|-\\rangle$ | $\\frac{3\\pi}{2}$ | $\\frac{1}{\\sqrt{2}}$ | $-\\frac{1}{\\sqrt{2}}$ |\n",
    "\n",
    "But more generally, it works for any angle. Let's look at the specific example where $\\theta = \\pi/3$. The expectation is that we will get the following respective probabilities for measuring states $|0\\rangle$ and $|1\\rangle$:\n",
    "\n",
    "$$ \n",
    "\\begin{aligned}\n",
    "&P_{0} = \\cos^2\\left(\\frac{\\pi/3}{2}\\right) = \\left(\\frac{\\sqrt{3}}{2}\\right)^2 = \\frac{3}{4}\n",
    "\\\\\n",
    "\\\\\n",
    "&P_{1} = \\sin^2\\left(\\frac{\\pi/3}{2}\\right) = \\left(\\frac{1}{2}\\right)^2 = \\frac{1}{4}\n",
    "\\end{aligned}\n",
    "$$\n",
    "\n",
    "\n",
    "Let is now use the `Statevector` class in qiskit to construct this statevector, and see if the measurement probabilities match our expectation:"
   ]
  },
  {
   "cell_type": "code",
   "execution_count": 1,
   "id": "27946d37",
   "metadata": {},
   "outputs": [
    {
     "name": "stdout",
     "output_type": "stream",
     "text": [
      "[0.75 0.25]\n"
     ]
    }
   ],
   "source": [
    "import numpy as np\n",
    "from qiskit.quantum_info import Statevector\n",
    "\n",
    "θ = np.pi/3               # Spin angle wrt to +z axis\n",
    "α = np.cos(θ/2)           # Probability amplitude associated with |0⟩\n",
    "β = np.sin(θ/2)           # Probability amplitude associated with |1⟩\n",
    "\n",
    "q = Statevector([α, β])   # Construct statevector |q⟩ = α|0⟩ + β|1⟩ = [α β]ᵀ\n",
    "\n",
    "probs = q.probabilities() # Extract expected probs array [p₀, p₁]\n",
    "print(probs)"
   ]
  },
  {
   "cell_type": "markdown",
   "id": "aa2a1054",
   "metadata": {},
   "source": [
    "The result above is the calculation of the ideal probabilities, but we can also sample the statevector (as if we were performing measurements in this system) and get a distribution of results that should be approximately give us $75\\%$ of measuring $0$ and $25\\%$ of measuring $1$:"
   ]
  },
  {
   "cell_type": "code",
   "execution_count": 5,
   "id": "e2bf3e2a",
   "metadata": {},
   "outputs": [
    {
     "name": "stdout",
     "output_type": "stream",
     "text": [
      "{'0': 730, '1': 270}\n"
     ]
    }
   ],
   "source": [
    "counts = q.sample_counts(shots=1000) # \"Measure\" statevector 1000 times and \n",
    "                                     # return dict {'0': num_of_0s, '1': num_of_0s}\n",
    "print(counts)"
   ]
  },
  {
   "cell_type": "markdown",
   "id": "efe2462d",
   "metadata": {},
   "source": [
    "This generalization of the qubit, where the probability amplitudes are given by the $\\cos$ and $\\sin$ squared of the angle $\\theta/2$, works well to describe the results of the Stern-Gerlach experiment; however, there is a bit of an issue. In this particular case, we are only concerned about the direction of the spin on the $xz$-plane because we are shooting the electrons along the $y$ direction. But how do we describe the spin of the electron if it is aligned with, let's say, the $\\texttt{+}y$ axis? Well, experiments show that, if we were to measure the spin of such an electron along the $z$ axis, we will still see the electron deflecting up or down with $50\\%$ probability. As a matter of fact, this is true no matter which orientation (given by the angle $\\varphi$) the electron has in the $xy$ plane:\n",
    "\n",
    "<img src=\"images/02_03_02_elec_phi_angle.png\" align = \"center\" width=\"520\"/>\n",
    "\n",
    "So, how do we re"
   ]
  },
  {
   "cell_type": "code",
   "execution_count": null,
   "id": "bb5ba681",
   "metadata": {},
   "outputs": [],
   "source": []
  },
  {
   "cell_type": "code",
   "execution_count": null,
   "id": "977a6c15",
   "metadata": {},
   "outputs": [],
   "source": []
  }
 ],
 "metadata": {
  "kernelspec": {
   "display_name": "Python 3 (ipykernel)",
   "language": "python",
   "name": "python3"
  },
  "language_info": {
   "codemirror_mode": {
    "name": "ipython",
    "version": 3
   },
   "file_extension": ".py",
   "mimetype": "text/x-python",
   "name": "python",
   "nbconvert_exporter": "python",
   "pygments_lexer": "ipython3",
   "version": "3.11.9"
  }
 },
 "nbformat": 4,
 "nbformat_minor": 5
}
