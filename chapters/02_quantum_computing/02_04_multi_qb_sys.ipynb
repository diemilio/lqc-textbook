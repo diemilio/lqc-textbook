{
 "cells": [
  {
   "cell_type": "markdown",
   "id": "0441d352",
   "metadata": {},
   "source": [
    "# Multi-Qubit Systems\n",
    "<hr></hr>"
   ]
  },
  {
   "cell_type": "markdown",
   "id": "824a6afc",
   "metadata": {},
   "source": [
    "Now that we have presented the full definition for a [single qubit]((https://learnquantum.io/chapters/02_quantum_computing/02_03_single_qb_sys.html#kets-bras-products-and-bases)), in this chapter we will generalize this idea to statevectors with more than one qubit, discuss multi-qubit quantum gates,and expand on the concept of measurement for multi-qubit systems."
   ]
  },
  {
   "cell_type": "markdown",
   "id": "751756a2",
   "metadata": {},
   "source": [
    "## 1. Multi-Qubit States\n",
    "\n",
    "In the previous chapter, we arrived at the following definition for a qubit:\n",
    "\n",
    "$$|q\\rangle = \\begin{bmatrix} \\alpha_0 \\\\ \\alpha_1 \\end{bmatrix}, $$\n",
    "\n",
    "where $\\alpha_0$ and $\\alpha_1$ are complex numbers known as probability amplitudes, and whose modulus square represents the probability of measuring each of their corresponding state, and therefore must add up to $1$: \n",
    "\n",
    "$$|\\alpha_0|^2 + |\\alpha_1|^2 = 1 .$$\n",
    "\n",
    "We also briefly discussed that a state of this form corresponds to a linear combination of the computational basis states $\\{|0\\rangle, |1\\rangle\\} $:\n",
    "\n",
    "$$\n",
    "\\begin{aligned}\n",
    "|q\\rangle &= \\begin{bmatrix} \\alpha_0 \\\\ \\alpha_1 \\end{bmatrix} \n",
    "\\\\\n",
    "\\\\\n",
    "|q\\rangle &= \\alpha_0 \\begin{bmatrix} 1 \\\\ 0 \\end{bmatrix} + \\alpha_1 \\begin{bmatrix} 0 \\\\ 1 \\end{bmatrix}\n",
    "\\\\\n",
    "\\\\\n",
    "|q\\rangle &= \\alpha_0 |0\\rangle + \\alpha_1 |1\\rangle.\n",
    "\\end{aligned}\n",
    "$$\n",
    "\n",
    "We can then generalize this expression for $n$ qubits by taking a linear combination of all possible basis states for the complete system: $\\{|0\\rangle, |1\\rangle\\}^{\\otimes n}$. Here, the superscript $^{\\otimes n}$ denotes that we are taking the tensor product $n$ times for all possible combinations of $|0\\rangle$ and $|1\\rangle$:\n",
    "\n",
    "$$\\{|0\\rangle, |1\\rangle\\}^{\\otimes n} = \\{|\\underbrace{0\\dots 00}_{n}\\rangle, |\\underbrace{0\\dots 01}_{n}\\rangle, \\dots, |\\underbrace{1\\dots 11}_{n}\\rangle \\}$$\n",
    "\n",
    "For example, for $n = 3$:\n",
    "\n",
    "$$\\{|0\\rangle, |1\\rangle\\}^{\\otimes3} = \\{|000\\rangle, |001\\rangle, |010\\rangle, |011\\rangle, |100\\rangle, |101\\rangle, |110\\rangle, |111\\rangle \\} .$$\n",
    "\n",
    "It can be seen that for $n$ qubits, there are a total of $N = 2^n$ basis states. So, the general representation of a quantum state for an $n$-qubit system is given by:\n",
    "\n",
    "$$ |q\\rangle = \\alpha_{0} |0\\dots 00\\rangle + \\alpha_{1}|0\\dots 01\\rangle + \\dots + \\alpha_{N-1}|1 \\dots 11\\rangle ,$$\n",
    "\n",
    "where $\\alpha_j \\in \\mathbb{C}$ are the probability amplitudes associated with each basis state. And since their value squared represent probabilities, they must also meet the condition of adding up to $1$:\n",
    "\n",
    "$$ \\sum_{j=0}^{N-1} |\\alpha_j|^2 = 1 .$$\n",
    "\n",
    "A more compact way to write the expresion for a multi-qubit vector is:\n",
    "\n",
    "$$ |q\\rangle = \\sum_{j=0}^{N-1} \\alpha_{j} |j\\rangle. $$\n",
    "\n",
    "However, we do have to point out that this is a bit of an abuse of notation because, here $j$ is an integer between $0$ and $2^{N-1}$, so we need to clarify what we mean by $|j\\rangle$ is the state with binary label that corresponds to that integer value. For example, for $j = 5$:\n",
    "\n",
    "$$ |5\\rangle \\sim |101\\rangle = |1\\rangle \\otimes |0\\rangle \\otimes |1\\rangle .$$\n",
    "\n",
    "It is also important to remember that, just as for the single-qubit case, the basis states $\\{|0\\rangle, |1\\rangle\\}^{\\otimes n}$ form an orthonormal basis because they meet the condition of being orthogonal to each other and normalized. A succinct form to express this is as:\n",
    "\n",
    "$$ \\langle i | j \\rangle = \\delta_{ij}$$\n",
    "\n",
    "where $i, j$ denote any of the possible basis states between $0$ and $2^{N-1}$, and $\\delta_{ij}$ is known as the Kronecker-delta function, given by:\n",
    "\n",
    "$$ \\delta_{ij} = \n",
    "\\begin{cases} \n",
    "1 \\text{, for } i = j \n",
    "\\\\\n",
    "\\\\\n",
    "0 \\text{, for } i \\neq j\n",
    "\\end{cases} \n",
    "$$\n",
    "\n",
    "We can also represent a general multi-qubit statevector using column-vector notation as:\n",
    "\n",
    "$$ |q\\rangle = \\begin{bmatrix} \\alpha_0 \\\\ \\alpha_1 \\\\ \\vdots \\\\ \\alpha_{N-1} \\end{bmatrix}, \\text{ such that:} \\; \\alpha_j \\in \\mathbb{C}, \\; \\text{and} \\; \\sum_{j=0}^{N-1}|\\alpha_j|^2 = 1 . $$\n",
    "\n",
    "And just like we did for the one-qubit case, we say that all statevectors of this kind belong to a [Hilbert space](https://en.wikipedia.org/wiki/Hilbert_space) but now of size $N = 2^n$, which is often expressed as $\\mathcal{H}_2^{\\otimes n}$. The subscript $2$ is to denote this is for a $2$-level (qubit) system, and the superscript $^{\\otimes n}$ is to express that we have $n$ of these systems.\n",
    "\n",
    "Let's now look at a few examples of multi-qubit statevectors in Qiskit."
   ]
  },
  {
   "cell_type": "code",
   "execution_count": 1,
   "id": "442c9547",
   "metadata": {},
   "outputs": [],
   "source": [
    "import numpy as np\n",
    "from qiskit.quantum_info import Statevector"
   ]
  },
  {
   "cell_type": "code",
   "execution_count": 2,
   "id": "88ebdc50",
   "metadata": {},
   "outputs": [
    {
     "name": "stdout",
     "output_type": "stream",
     "text": [
      "Ket notation:\n"
     ]
    },
    {
     "data": {
      "text/latex": [
       "$$\\frac{\\sqrt{2}}{4} |000\\rangle+\\frac{\\sqrt{2}}{4} |001\\rangle+\\frac{\\sqrt{2}}{4} |010\\rangle+\\frac{\\sqrt{2}}{4} |011\\rangle+\\frac{\\sqrt{2}}{4} |100\\rangle+\\frac{\\sqrt{2}}{4} |101\\rangle+\\frac{\\sqrt{2}}{4} |110\\rangle+\\frac{\\sqrt{2}}{4} |111\\rangle$$"
      ],
      "text/plain": [
       "<IPython.core.display.Latex object>"
      ]
     },
     "metadata": {},
     "output_type": "display_data"
    },
    {
     "name": "stdout",
     "output_type": "stream",
     "text": [
      "Vector notation:\n"
     ]
    },
    {
     "data": {
      "text/latex": [
       "$$\n",
       "\n",
       "\\begin{bmatrix}\n",
       "\\frac{\\sqrt{2}}{4} & \\frac{\\sqrt{2}}{4} & \\frac{\\sqrt{2}}{4} & \\frac{\\sqrt{2}}{4} & \\frac{\\sqrt{2}}{4} & \\frac{\\sqrt{2}}{4} & \\frac{\\sqrt{2}}{4} & \\frac{\\sqrt{2}}{4}  \\\\\n",
       " \\end{bmatrix}\n",
       "$$"
      ],
      "text/plain": [
       "<IPython.core.display.Latex object>"
      ]
     },
     "metadata": {},
     "output_type": "display_data"
    }
   ],
   "source": [
    "# Create equal superposition state for 3 qubits (separable)\n",
    "q_a = Statevector.from_label('+++')\n",
    "\n",
    "# Display statevector in ket notation\n",
    "print('Ket notation:')\n",
    "display(q_a.draw('latex'))\n",
    "\n",
    "# Display statevector in vector notation\n",
    "print('Vector notation:')\n",
    "display(q_a.draw('latex', convention='vector'))"
   ]
  },
  {
   "cell_type": "code",
   "execution_count": 3,
   "id": "85c2aee2",
   "metadata": {},
   "outputs": [
    {
     "name": "stdout",
     "output_type": "stream",
     "text": [
      "Ket notation:\n"
     ]
    },
    {
     "data": {
      "text/latex": [
       "$$\\frac{\\sqrt{2}}{2} |000\\rangle+\\frac{\\sqrt{2}}{2} |111\\rangle$$"
      ],
      "text/plain": [
       "<IPython.core.display.Latex object>"
      ]
     },
     "metadata": {},
     "output_type": "display_data"
    },
    {
     "name": "stdout",
     "output_type": "stream",
     "text": [
      "Vector notation:\n"
     ]
    },
    {
     "data": {
      "text/latex": [
       "$$\n",
       "\n",
       "\\begin{bmatrix}\n",
       "\\frac{\\sqrt{2}}{2} & 0 & 0 & 0 & 0 & 0 & 0 & \\frac{\\sqrt{2}}{2}  \\\\\n",
       " \\end{bmatrix}\n",
       "$$"
      ],
      "text/plain": [
       "<IPython.core.display.Latex object>"
      ]
     },
     "metadata": {},
     "output_type": "display_data"
    }
   ],
   "source": [
    "# Create 3-qubit entangled state\n",
    "q_b = 1/np.sqrt(2)*Statevector.from_label('000') + 1/np.sqrt(2)*Statevector.from_label('111')\n",
    "\n",
    "# Display statevector in ket notation\n",
    "print('Ket notation:')\n",
    "display(q_b.draw('latex'))\n",
    "\n",
    "# Display statevector in vector notation\n",
    "print('Vector notation:')\n",
    "display(q_b.draw('latex', convention='vector'))"
   ]
  },
  {
   "cell_type": "markdown",
   "id": "b14fda25",
   "metadata": {},
   "source": [
    "As can be seen from these examples, both separable and entangled states consists of linear combinations of basis states. It is the value that each probability amplitude takes that ultimately determines if a state is separable of entangled. If the state of an $n$-qubit system can be ultimately factorized into a **single** term of tensor products for $n$ separate states, we say the state is separable: \n",
    "\n",
    "$$ |q\\rangle = |q_{n-1}\\rangle \\otimes \\dots \\otimes |q_1\\rangle \\otimes |q_0\\rangle .$$\n",
    "\n",
    "On the other hand, if a state can only be expressed as a sum of tensor products (i.e., cannot be factorized like shown above), we say the state is entangled.\n",
    "\n",
    "Figuring out if a state can be factorized by inspection gets increasingly difficult when the number of qubits increases. Therefore, there are procedures that allow one to, not only discern if a state is entangled, but also to quantify its level of entanglement. However, the subject of measures of entanglement is quite diverse and a bit advanced, so we will cover some of these details in a later chapter on quantum information theory."
   ]
  },
  {
   "cell_type": "markdown",
   "id": "f8130d32",
   "metadata": {},
   "source": [
    "## 2. Multi-Qubit Gates\n",
    "\n",
    "Just as we pointed out for the [single-qubit case](https://learnquantum.io/chapters/02_quantum_computing/02_03_single_qb_sys.html#generalizing-quantum-gates), any multi-qubit gate or circuit can be expressed in the form of a [unitary matrix](https://en.wikipedia.org/wiki/Unitary_matrix) $U$, such that:\n",
    "\n",
    "$$ UU^\\dagger = U^\\dagger U = I .$$\n",
    "\n",
    "For a system of $n$ qubits, the matrices will be of size $N \\times N$, with $N = 2^n$:\n",
    "\n",
    "$$ U = \\begin{bmatrix}u_{00} & u_{01} & \\dots & u_{0 (N-1)} \\\\\n",
    "                      u_{10} & u_{11} & \\dots & u_{1 (N-1)} \\\\\n",
    "                      \\vdots & \\vdots & \\ddots & \\vdots \\\\\n",
    "                      u_{(N-1)0} & u_{(N-1)1} & \\dots & u_{1 (N-1)}\n",
    "\\end{bmatrix} $$\n",
    "\n",
    "For single-qubit gates acting on individual qubits of a larger $n$-qubit system, it is easy to compute the unitary that acts on the whole system by using the Kronecker product. However, these separable operations cannot be used to generate entangled states, and therefore correspond to only limited subset of all possible unitaries that can act on a given Hilbert space."
   ]
  },
  {
   "cell_type": "markdown",
   "id": "9a16c4d4",
   "metadata": {},
   "source": [
    "### 2.1 One-Qubit Gates (on Multiple Qubits)\n",
    "\n",
    "Similar to what we saw for classical reversible circuits, gates acting on individual qubits that are part of a larger multi-qubit system can be combined into a single unitary by taking the Kronecker product between them:\n",
    "\n",
    "$$ U = \\bigotimes_{j=0}^{N-1} U_j .$$\n",
    "\n",
    "Let's look at an example in Qiskit where we apply gates $X, H, Z$ on qubits $0$, $1$ and $2$, respectively:\n",
    "\n",
    "$$ U = Z \\otimes H \\otimes X .$$\n",
    "\n",
    "We will first create the individual matrices for each gate and apply the Kronecker (tensor) product between them, and compare this with the total unitary (operator) for the whole circuit."
   ]
  },
  {
   "cell_type": "code",
   "execution_count": 4,
   "id": "62928a63",
   "metadata": {},
   "outputs": [],
   "source": [
    "from qiskit import QuantumCircuit\n",
    "from qiskit.quantum_info import Operator"
   ]
  },
  {
   "cell_type": "code",
   "execution_count": 5,
   "id": "eaf38692",
   "metadata": {},
   "outputs": [
    {
     "data": {
      "text/latex": [
       "$$\n",
       "U =\n",
       "\\begin{bmatrix}\n",
       "0 & \\frac{\\sqrt{2}}{2} & 0 & \\frac{\\sqrt{2}}{2} & 0 & 0 & 0 & 0  \\\\\n",
       " \\frac{\\sqrt{2}}{2} & 0 & \\frac{\\sqrt{2}}{2} & 0 & 0 & 0 & 0 & 0  \\\\\n",
       " 0 & \\frac{\\sqrt{2}}{2} & 0 & - \\frac{\\sqrt{2}}{2} & 0 & 0 & 0 & 0  \\\\\n",
       " \\frac{\\sqrt{2}}{2} & 0 & - \\frac{\\sqrt{2}}{2} & 0 & 0 & 0 & 0 & 0  \\\\\n",
       " 0 & 0 & 0 & 0 & 0 & - \\frac{\\sqrt{2}}{2} & 0 & - \\frac{\\sqrt{2}}{2}  \\\\\n",
       " 0 & 0 & 0 & 0 & - \\frac{\\sqrt{2}}{2} & 0 & - \\frac{\\sqrt{2}}{2} & 0  \\\\\n",
       " 0 & 0 & 0 & 0 & 0 & - \\frac{\\sqrt{2}}{2} & 0 & \\frac{\\sqrt{2}}{2}  \\\\\n",
       " 0 & 0 & 0 & 0 & - \\frac{\\sqrt{2}}{2} & 0 & \\frac{\\sqrt{2}}{2} & 0  \\\\\n",
       " \\end{bmatrix}\n",
       "$$"
      ],
      "text/plain": [
       "<IPython.core.display.Latex object>"
      ]
     },
     "execution_count": 5,
     "metadata": {},
     "output_type": "execute_result"
    }
   ],
   "source": [
    "# Compute total Unitary (operator) by tensoring gates\n",
    "X = Operator.from_label('X')\n",
    "H = Operator.from_label('H')\n",
    "Z = Operator.from_label('Z')\n",
    "\n",
    "ZHX = Z.tensor(H.tensor(X))\n",
    "ZHX.draw('latex', prefix='U =')"
   ]
  },
  {
   "cell_type": "code",
   "execution_count": 6,
   "id": "52878468",
   "metadata": {},
   "outputs": [
    {
     "data": {
      "image/png": "[encoded data removed]",
      "text/plain": [
       "<Figure size 146.797x204.68 with 1 Axes>"
      ]
     },
     "execution_count": 6,
     "metadata": {
      "image/png": {
       "height": 172,
       "width": 127
      }
     },
     "output_type": "execute_result"
    }
   ],
   "source": [
    "qc = QuantumCircuit(3)\n",
    "qc.x(0)\n",
    "qc.h(1)\n",
    "qc.z(2)\n",
    "qc.draw()"
   ]
  },
  {
   "cell_type": "code",
   "execution_count": 7,
   "id": "2599fcff",
   "metadata": {},
   "outputs": [
    {
     "data": {
      "text/latex": [
       "$$\n",
       "U =\n",
       "\\begin{bmatrix}\n",
       "0 & \\frac{\\sqrt{2}}{2} & 0 & \\frac{\\sqrt{2}}{2} & 0 & 0 & 0 & 0  \\\\\n",
       " \\frac{\\sqrt{2}}{2} & 0 & \\frac{\\sqrt{2}}{2} & 0 & 0 & 0 & 0 & 0  \\\\\n",
       " 0 & \\frac{\\sqrt{2}}{2} & 0 & - \\frac{\\sqrt{2}}{2} & 0 & 0 & 0 & 0  \\\\\n",
       " \\frac{\\sqrt{2}}{2} & 0 & - \\frac{\\sqrt{2}}{2} & 0 & 0 & 0 & 0 & 0  \\\\\n",
       " 0 & 0 & 0 & 0 & 0 & - \\frac{\\sqrt{2}}{2} & 0 & - \\frac{\\sqrt{2}}{2}  \\\\\n",
       " 0 & 0 & 0 & 0 & - \\frac{\\sqrt{2}}{2} & 0 & - \\frac{\\sqrt{2}}{2} & 0  \\\\\n",
       " 0 & 0 & 0 & 0 & 0 & - \\frac{\\sqrt{2}}{2} & 0 & \\frac{\\sqrt{2}}{2}  \\\\\n",
       " 0 & 0 & 0 & 0 & - \\frac{\\sqrt{2}}{2} & 0 & \\frac{\\sqrt{2}}{2} & 0  \\\\\n",
       " \\end{bmatrix}\n",
       "$$"
      ],
      "text/plain": [
       "<IPython.core.display.Latex object>"
      ]
     },
     "execution_count": 7,
     "metadata": {},
     "output_type": "execute_result"
    }
   ],
   "source": [
    "# Operator from total circuit matches that of tensor product of individual matrices\n",
    "Operator(qc).draw('latex', prefix='U =')"
   ]
  },
  {
   "cell_type": "markdown",
   "id": "35a2fc33",
   "metadata": {},
   "source": [
    "Unitaries composed of tensor products of single-qubit unitaries are only a small fraction of all possible operations that can act on a multi-qubit state. For example the matrices for the $CX$ or the Toffoli ($CCX$) gates, which we covered before, cannot be expressed in terms of tensor products of other unitaries. Since there is an infinite number of unitaries that can be implemented for any given qubit system, we will focus our attention on a few popular/common gates. However, any multi-qubit unitary can actually be decomposed into combinations of other gates that are part of what is known as a [universal gate-set](https://en.wikipedia.org/wiki/Quantum_logic_gate#Universal_quantum_gates). In other words, we can approximate with arbitrary precision any unitary of size $N \\times N$ by combining operations from small set of single-qubit and two-qubit gates."
   ]
  },
  {
   "cell_type": "markdown",
   "id": "8c78dd0c",
   "metadata": {},
   "source": [
    "### 2.2 Multi-Qubit Gates\n",
    "\n",
    "Multi-qubit gates that cannot be expressed as a single tensor product of individual qubit gates (like the ones described in the previous section) are sometimes referred as **entangling gates**. This is because, as the name implies, they can be used to construct circuits that allow us to generate entangled states. Probably the most common type of entangling gates are controlled gates, which are a generalization of the of the controlled $X$ gates we've discussed before."
   ]
  },
  {
   "cell_type": "markdown",
   "id": "63ed96de",
   "metadata": {},
   "source": [
    "#### 2.2.1 Controlled Gates\n",
    "Just like the $CX$ gate is a controlled version of an $X$ gate, we can expand any other gate with a unitary $U$ into a controlled version of it. The idea is that the gate of interest gets applied to a **target** set of qubits if a certain condition is met in a set of **control** qubits. \n",
    "\n",
    "For example, in the case of a $CX$ gate:\n",
    "1. An $X$ gate is applied to the target qubit if the control qubit is in state $|1\\rangle$.\n",
    "2. An $I$ gate is applied to the target qubit if the control qubit is in state $|0\\rangle$.\n",
    "\n",
    "And the way we constructed the matrix for this gate [before](https://learnquantum.io/chapters/01_classical_computing/01_03_bits_to_vectors.html#multi-bit-gates-and-circuits-as-matrices), was by looking at the vectors for every combination of input and output qubits, and solving for each matrix element. \n",
    "\n",
    "Alternatively, we can construct the unitary matrix of the $CX$ gate by combining the gates acting on the target qubit ($X$ and $I$) with the projector operators ($\\Pi_0$ and $\\Pi_1$) we introduced in [the previous chapter](https://learnquantum.io/chapters/02_quantum_computing/02_03_single_qb_sys.html#kets-bras-products-and-bases). For example, given the two-qubit state $|q_1 q_0\\rangle$, we can construct a following 2-qubit operator that applies an $X$ gate to $q_0$ only if $q_1$ is $|1\\rangle$ and add it to an operator that applies the identity $I$ to $q_0$ only if $q_1$ is $|0\\rangle$:\n",
    "\n",
    "$$ \n",
    "\\begin{aligned}\n",
    "CX &= \\Pi_0 \\otimes I + \\Pi_1 \\otimes X\n",
    "\\\\\n",
    "\\\\\n",
    "CX &= |0\\rangle \\langle 0| \\otimes I + |1\\rangle \\langle 1| \\otimes X .\n",
    "\\end{aligned}\n",
    "$$\n",
    "\n",
    "Consider the case in which we have $|q_1 q_0\\rangle = |0\\rangle \\otimes |q_0\\rangle$. The expectation is that a $CX$ gate on this state, will result in applying an identity to the target qubit $|q_0\\rangle$:\n",
    "\n",
    "$$\n",
    "\\begin{aligned}\n",
    "CX |q_1 q_0 \\rangle &= (|0\\rangle \\langle 0| \\otimes I + |1\\rangle \\langle 1| \\otimes X)|0\\rangle \\otimes |q_0\\rangle\n",
    "\\\\\n",
    "\\\\\n",
    "CX |q_1 q_0 \\rangle &= |0\\rangle \\langle 0|0\\rangle \\otimes I|q_0\\rangle + |1\\rangle \\langle 1|0\\rangle \\otimes X|q_0\\rangle\n",
    "\\\\\n",
    "\\\\\n",
    "CX |q_1 q_0 \\rangle &= |0\\rangle \\otimes I|q_0\\rangle .\n",
    "\\end{aligned}\n",
    "$$\n",
    "\n",
    "We can follow the same procedure to show that, if $|q_1 q_0\\rangle = |1\\rangle \\otimes |q_0\\rangle$ we will get $CX |q_1 q_0 \\rangle = |1\\rangle \\otimes X|q_0\\rangle$, as expected.\n",
    "\n",
    "We can also show that the expression above for the $CX$ gate does indeed give us the right matrix. Let's use Qiskit to do this:"
   ]
  },
  {
   "cell_type": "code",
   "execution_count": 8,
   "id": "ece008b0",
   "metadata": {},
   "outputs": [],
   "source": [
    "from qiskit.quantum_info import Operator"
   ]
  },
  {
   "cell_type": "code",
   "execution_count": 9,
   "id": "eb06f34d",
   "metadata": {},
   "outputs": [
    {
     "data": {
      "text/latex": [
       "$$\n",
       "CX = \n",
       "\\begin{bmatrix}\n",
       "1 & 0 & 0 & 0  \\\\\n",
       " 0 & 1 & 0 & 0  \\\\\n",
       " 0 & 0 & 0 & 1  \\\\\n",
       " 0 & 0 & 1 & 0  \\\\\n",
       " \\end{bmatrix}\n",
       "$$"
      ],
      "text/plain": [
       "<IPython.core.display.Latex object>"
      ]
     },
     "execution_count": 9,
     "metadata": {},
     "output_type": "execute_result"
    }
   ],
   "source": [
    "Π0 = Operator.from_label('0')\n",
    "Π1 = Operator.from_label('1')\n",
    "I = Operator.from_label('I')\n",
    "X = Operator.from_label('X')\n",
    "\n",
    "CX = Π0.tensor(I) + Π1.tensor(X)\n",
    "\n",
    "CX.draw('latex', prefix='CX = ')"
   ]
  },
  {
   "cell_type": "markdown",
   "id": "dddd98bb",
   "metadata": {},
   "source": [
    "As expected, the matrix above matches the unitary for the $CX$ gate:"
   ]
  },
  {
   "cell_type": "code",
   "execution_count": 10,
   "id": "090919f3",
   "metadata": {},
   "outputs": [
    {
     "data": {
      "image/png": "[encoded data removed]",
      "text/plain": [
       "<Figure size 146.652x144.48 with 1 Axes>"
      ]
     },
     "metadata": {
      "image/png": {
       "height": 125,
       "width": 127
      }
     },
     "output_type": "display_data"
    },
    {
     "data": {
      "text/latex": [
       "$$\n",
       "CX = \n",
       "\\begin{bmatrix}\n",
       "1 & 0 & 0 & 0  \\\\\n",
       " 0 & 1 & 0 & 0  \\\\\n",
       " 0 & 0 & 0 & 1  \\\\\n",
       " 0 & 0 & 1 & 0  \\\\\n",
       " \\end{bmatrix}\n",
       "$$"
      ],
      "text/plain": [
       "<IPython.core.display.Latex object>"
      ]
     },
     "execution_count": 10,
     "metadata": {},
     "output_type": "execute_result"
    }
   ],
   "source": [
    "qc = QuantumCircuit(2)\n",
    "qc.cx(1,0)\n",
    "display(qc.draw())\n",
    "Operator(qc).draw('latex', prefix='CX = ')"
   ]
  },
  {
   "cell_type": "markdown",
   "id": "b0b6caf8",
   "metadata": {},
   "source": [
    "What is convenient about the sum-of-operators representation we used above, is that we can replace the $X$ gate with any other unitary $U$. For example, the controlled $Z$ gate ($CZ$) applies a $Z$ gate to the target qubit when the control qubit is in state $|1\\rangle$. So we can construct its unitary operator as:\n",
    "\n",
    "$$ CZ = \\Pi_0 \\otimes I + \\Pi_1 \\otimes Z .$$\n",
    "\n",
    "And again, let's use Qiskit to look at the matrix for this gate:"
   ]
  },
  {
   "cell_type": "code",
   "execution_count": 11,
   "id": "bb02e1ee",
   "metadata": {},
   "outputs": [
    {
     "data": {
      "text/latex": [
       "$$\n",
       "CZ = \n",
       "\\begin{bmatrix}\n",
       "1 & 0 & 0 & 0  \\\\\n",
       " 0 & 1 & 0 & 0  \\\\\n",
       " 0 & 0 & 1 & 0  \\\\\n",
       " 0 & 0 & 0 & -1  \\\\\n",
       " \\end{bmatrix}\n",
       "$$"
      ],
      "text/plain": [
       "<IPython.core.display.Latex object>"
      ]
     },
     "execution_count": 11,
     "metadata": {},
     "output_type": "execute_result"
    }
   ],
   "source": [
    "Z = Operator.from_label('Z')\n",
    "\n",
    "CZ = Π0.tensor(I) + Π1.tensor(Z)\n",
    "CZ.draw('latex', prefix='CZ = ')"
   ]
  },
  {
   "cell_type": "markdown",
   "id": "f888f937",
   "metadata": {},
   "source": [
    "As we can see, this is a diagonal matrix, with ones in the diagonal, but for which the last entry has a value of $-1$. What this means is that, this unitary maps all two-qubit basis states to themselves, except for state $|11\\rangle$, for which a phase of $-1$ is introduced:\n",
    "\n",
    "$$\n",
    "\\begin{aligned}\n",
    "&|00\\rangle \\xrightarrow{\\;\\; \\text{CZ} \\;\\;} \\phantom{-}|00\\rangle\n",
    "\\\\\n",
    "&|01\\rangle \\xrightarrow{\\;\\; \\text{CZ} \\;\\;} \\phantom{-}|01\\rangle\n",
    "\\\\\n",
    "&|10\\rangle \\xrightarrow{\\;\\; \\text{CZ} \\;\\;} \\phantom{-}|10\\rangle\n",
    "\\\\\n",
    "&|11\\rangle \\xrightarrow{\\;\\; \\text{CZ} \\;\\;} -|11\\rangle\n",
    "\\end{aligned}\n",
    "$$\n",
    "\n",
    "\n",
    "We can see this in action by placing a state in equal superposition and then applying the $CZ$ gate:"
   ]
  },
  {
   "cell_type": "code",
   "execution_count": 12,
   "id": "be8d3010",
   "metadata": {},
   "outputs": [
    {
     "data": {
      "image/png": "[encoded data removed]",
      "text/plain": [
       "<Figure size 206.852x144.48 with 1 Axes>"
      ]
     },
     "metadata": {
      "image/png": {
       "height": 125,
       "width": 173
      }
     },
     "output_type": "display_data"
    },
    {
     "data": {
      "text/latex": [
       "$$\\frac{1}{2} |00\\rangle+\\frac{1}{2} |01\\rangle+\\frac{1}{2} |10\\rangle- \\frac{1}{2} |11\\rangle$$"
      ],
      "text/plain": [
       "<IPython.core.display.Latex object>"
      ]
     },
     "metadata": {},
     "output_type": "display_data"
    }
   ],
   "source": [
    "qc = QuantumCircuit(2)\n",
    "qc.h(range(2))\n",
    "qc.cz(1,0)\n",
    "display(qc.draw())\n",
    "Statevector(qc)"
   ]
  },
  {
   "cell_type": "markdown",
   "id": "75da2874",
   "metadata": {},
   "source": [
    "An interesting observation is that the $CZ$ gate is drawn without the typical \"box\" denoting the $Z$ gate on $q_0$ that is being controlled by $q_1$. This is because this gate is symmetric in the sense that swapping the control with the target qubit (i.e. making $q_0$ the control and $q_1$ the target) results in the same unitary matrix.\n",
    "\n",
    "Similar to what we did with the $Z$ gate, we can follow the same procedure for any other gate, like for example, parametrized gates such as a the controlled versions of $RX(\\theta), RY(\\theta), RZ(\\varphi)$, or the controlled phase gate $CP(\\varphi)$:\n",
    "\n",
    "$$ CP(\\varphi) = \\Pi_0 \\otimes I + \\Pi_1 \\otimes P(\\varphi) .$$\n",
    "\n",
    "We can also easily construct controlled gates for which the control value that activates the target gate is different. For example we could implement a controlled-X gate, but where the $X$ gets applied if the control qubit is in state $|0\\rangle$. All we need to do is swap the projection operators in our definition:\n",
    "\n",
    "$$\\overline{C}X = \\Pi_1 \\otimes I + \\Pi_0 \\otimes X .$$\n",
    "\n",
    "The bar on top of the $C$ is to express that the gate is activated when the control is in the $|0\\rangle$ state rather than $|1\\rangle$.\n",
    "\n",
    "In Qiskit, one can switch the control condition of a `cx` gate by using the `ctrl_state` argument:"
   ]
  },
  {
   "cell_type": "code",
   "execution_count": 13,
   "id": "2fbc2a4b",
   "metadata": {},
   "outputs": [
    {
     "data": {
      "image/png": "[encoded data removed]",
      "text/plain": [
       "<Figure size 146.652x144.48 with 1 Axes>"
      ]
     },
     "metadata": {
      "image/png": {
       "height": 125,
       "width": 127
      }
     },
     "output_type": "display_data"
    },
    {
     "data": {
      "text/latex": [
       "$$\n",
       "\\overline{C} X = \n",
       "\\begin{bmatrix}\n",
       "0 & 1 & 0 & 0  \\\\\n",
       " 1 & 0 & 0 & 0  \\\\\n",
       " 0 & 0 & 1 & 0  \\\\\n",
       " 0 & 0 & 0 & 1  \\\\\n",
       " \\end{bmatrix}\n",
       "$$"
      ],
      "text/plain": [
       "<IPython.core.display.Latex object>"
      ]
     },
     "execution_count": 13,
     "metadata": {},
     "output_type": "execute_result"
    }
   ],
   "source": [
    "qc = QuantumCircuit(2)\n",
    "qc.cx(1,0,ctrl_state='0')\n",
    "display(qc.draw())\n",
    "Operator(qc).draw('latex', prefix='\\\\overline{C} X = ')"
   ]
  },
  {
   "cell_type": "markdown",
   "id": "112040d1",
   "metadata": {},
   "source": [
    "It is also worth noting that the above is equivalent to simply negating the control qubit before applying a conventional $CX$ gate, and then negating it again to restore its original value:"
   ]
  },
  {
   "cell_type": "code",
   "execution_count": 14,
   "id": "b4a8deec",
   "metadata": {},
   "outputs": [
    {
     "data": {
      "image/png": "[encoded data removed]",
      "text/plain": [
       "<Figure size 267.052x144.48 with 1 Axes>"
      ]
     },
     "metadata": {
      "image/png": {
       "height": 125,
       "width": 220
      }
     },
     "output_type": "display_data"
    },
    {
     "data": {
      "text/latex": [
       "$$\n",
       "\\overline{C} X = \n",
       "\\begin{bmatrix}\n",
       "0 & 1 & 0 & 0  \\\\\n",
       " 1 & 0 & 0 & 0  \\\\\n",
       " 0 & 0 & 1 & 0  \\\\\n",
       " 0 & 0 & 0 & 1  \\\\\n",
       " \\end{bmatrix}\n",
       "$$"
      ],
      "text/plain": [
       "<IPython.core.display.Latex object>"
      ]
     },
     "execution_count": 14,
     "metadata": {},
     "output_type": "execute_result"
    }
   ],
   "source": [
    "qc = QuantumCircuit(2)\n",
    "qc.x(1)\n",
    "qc.cx(1,0)\n",
    "qc.x(1)\n",
    "display(qc.draw())\n",
    "Operator(qc).draw('latex', prefix='\\\\overline{C} X = ')"
   ]
  },
  {
   "cell_type": "markdown",
   "id": "d3bf129d",
   "metadata": {},
   "source": [
    "We can then expand these ideas to more than just two qubits. Let us, for example, revisit the Toffoli ($CCX$) gate, where:\n",
    "\n",
    "1. An $X$ gate is applied to the target qubit if the control qubits are in state $|11\\rangle$.\n",
    "2. An $I$ gate is applied to the target qubit if the control qubits are any other basis state, i.e. $|00\\rangle, |01\\rangle, |10\\rangle$.\n",
    "\n",
    "Therefore, we express this unitary operation as:\n",
    "\n",
    "$$ \n",
    "\\begin{aligned}\n",
    "CCX &= |00\\rangle \\langle 00| \\otimes I +  |01\\rangle \\langle 01| \\otimes I + |10\\rangle \\langle 10| \\otimes I + |11\\rangle \\langle 11| \\otimes X\n",
    "\\\\\n",
    "\\\\\n",
    "CCX &= (\\Pi_{00} + \\Pi_{01} + \\Pi_{10}) \\otimes I + \\Pi_{11} \\otimes X .\n",
    "\\end{aligned}\n",
    "$$\n",
    "\n",
    "And of course, we can implement modifications of it, such as the case where the target gate gets activated when the control qubits are in, for example, state $|10\\rangle$:\n",
    "\n",
    "$$ C\\overline{C}X = (\\Pi_{00} + \\Pi_{01} + \\Pi_{11}) \\otimes I + \\Pi_{10} \\otimes X .$$\n",
    "\n",
    "In Qiskit, we use the same argument to specify the control state:"
   ]
  },
  {
   "cell_type": "code",
   "execution_count": 15,
   "id": "3e064da9",
   "metadata": {},
   "outputs": [
    {
     "data": {
      "image/png": "[encoded data removed]",
      "text/plain": [
       "<Figure size 146.797x204.68 with 1 Axes>"
      ]
     },
     "metadata": {
      "image/png": {
       "height": 172,
       "width": 127
      }
     },
     "output_type": "display_data"
    },
    {
     "data": {
      "text/latex": [
       "$$\n",
       "C\\overline{C}X = \n",
       "\\begin{bmatrix}\n",
       "1 & 0 & 0 & 0 & 0 & 0 & 0 & 0  \\\\\n",
       " 0 & 1 & 0 & 0 & 0 & 0 & 0 & 0  \\\\\n",
       " 0 & 0 & 0 & 1 & 0 & 0 & 0 & 0  \\\\\n",
       " 0 & 0 & 1 & 0 & 0 & 0 & 0 & 0  \\\\\n",
       " 0 & 0 & 0 & 0 & 1 & 0 & 0 & 0  \\\\\n",
       " 0 & 0 & 0 & 0 & 0 & 1 & 0 & 0  \\\\\n",
       " 0 & 0 & 0 & 0 & 0 & 0 & 1 & 0  \\\\\n",
       " 0 & 0 & 0 & 0 & 0 & 0 & 0 & 1  \\\\\n",
       " \\end{bmatrix}\n",
       "$$"
      ],
      "text/plain": [
       "<IPython.core.display.Latex object>"
      ]
     },
     "execution_count": 15,
     "metadata": {},
     "output_type": "execute_result"
    }
   ],
   "source": [
    "qc = QuantumCircuit(3)\n",
    "qc.ccx(2,1,0,ctrl_state='10')\n",
    "display(qc.draw())\n",
    "Operator(qc).draw('latex', prefix='C\\overline{C}X = ')"
   ]
  },
  {
   "cell_type": "markdown",
   "id": "b88ef256",
   "metadata": {},
   "source": [
    "Lastly, can also use this representation of controlled gates to find the unitary matrix for when the control and target qubits are not adjacent. Let's for example consider the case of a $CZ$ where the control is on $|q_2\\rangle$ and the target on $|q_0\\rangle$ of a three-qubit system:"
   ]
  },
  {
   "cell_type": "code",
   "execution_count": 16,
   "id": "83fb1295",
   "metadata": {},
   "outputs": [
    {
     "data": {
      "image/png": "[encoded data removed]",
      "text/plain": [
       "<Figure size 146.797x204.68 with 1 Axes>"
      ]
     },
     "metadata": {
      "image/png": {
       "height": 172,
       "width": 127
      }
     },
     "output_type": "display_data"
    },
    {
     "data": {
      "text/latex": [
       "$$\n",
       "CZ_{20} = \n",
       "\\begin{bmatrix}\n",
       "1 & 0 & 0 & 0 & 0 & 0 & 0 & 0  \\\\\n",
       " 0 & 1 & 0 & 0 & 0 & 0 & 0 & 0  \\\\\n",
       " 0 & 0 & 1 & 0 & 0 & 0 & 0 & 0  \\\\\n",
       " 0 & 0 & 0 & 1 & 0 & 0 & 0 & 0  \\\\\n",
       " 0 & 0 & 0 & 0 & 1 & 0 & 0 & 0  \\\\\n",
       " 0 & 0 & 0 & 0 & 0 & -1 & 0 & 0  \\\\\n",
       " 0 & 0 & 0 & 0 & 0 & 0 & 1 & 0  \\\\\n",
       " 0 & 0 & 0 & 0 & 0 & 0 & 0 & -1  \\\\\n",
       " \\end{bmatrix}\n",
       "$$"
      ],
      "text/plain": [
       "<IPython.core.display.Latex object>"
      ]
     },
     "execution_count": 16,
     "metadata": {},
     "output_type": "execute_result"
    }
   ],
   "source": [
    "qc = QuantumCircuit(3)\n",
    "qc.cz(2,0)\n",
    "display(qc.draw(idle_wires=True))\n",
    "Operator(qc).draw('latex',prefix='CZ_{20} = ')"
   ]
  },
  {
   "cell_type": "markdown",
   "id": "86c60105",
   "metadata": {},
   "source": [
    "The way we would construct this matrix is by inserting an identity operator for in between the tensor products of projection operators acting on the control qubit, and the target operators acting on the target qubit:\n",
    "\n",
    "$$ CZ_{20} = \\Pi_0 \\otimes \\underline{I} \\otimes I + \\Pi_1 \\otimes \\underline{I} \\otimes Z .$$"
   ]
  },
  {
   "cell_type": "markdown",
   "id": "8d868dc9",
   "metadata": {},
   "source": [
    "#### 2.2.2 The SWAP Gate\n",
    "\n",
    "Another important entangling gate is the $\\text{SWAP}$ gate, which literally swaps the state between two qubits:\n",
    "\n",
    "$$\n",
    "\\begin{aligned}\n",
    "|00\\rangle \\xrightarrow{\\;\\; \\text{SWAP} \\;\\;} |00\\rangle\n",
    "\\\\\n",
    "|01\\rangle \\xrightarrow{\\;\\; \\text{SWAP} \\;\\;} |10\\rangle\n",
    "\\\\\n",
    "|10\\rangle \\xrightarrow{\\;\\; \\text{SWAP} \\;\\;} |01\\rangle\n",
    "\\\\\n",
    "|11\\rangle \\xrightarrow{\\;\\; \\text{SWAP} \\;\\;} |11\\rangle\n",
    "\\end{aligned}\n",
    "$$\n",
    "\n",
    "We can generate its corresponding unitary matrix for this operation using Qiskit:"
   ]
  },
  {
   "cell_type": "code",
   "execution_count": 17,
   "id": "84ec90af",
   "metadata": {},
   "outputs": [
    {
     "data": {
      "image/png": "[encoded data removed]",
      "text/plain": [
       "<Figure size 146.652x144.48 with 1 Axes>"
      ]
     },
     "metadata": {
      "image/png": {
       "height": 125,
       "width": 127
      }
     },
     "output_type": "display_data"
    },
    {
     "data": {
      "text/latex": [
       "$$\n",
       "\\text{SWAP} = \n",
       "\\begin{bmatrix}\n",
       "1 & 0 & 0 & 0  \\\\\n",
       " 0 & 0 & 1 & 0  \\\\\n",
       " 0 & 1 & 0 & 0  \\\\\n",
       " 0 & 0 & 0 & 1  \\\\\n",
       " \\end{bmatrix}\n",
       "$$"
      ],
      "text/plain": [
       "<IPython.core.display.Latex object>"
      ]
     },
     "execution_count": 17,
     "metadata": {},
     "output_type": "execute_result"
    }
   ],
   "source": [
    "qc = QuantumCircuit(2)\n",
    "qc.swap(1,0)\n",
    "display(qc.draw())\n",
    "Operator(qc).draw('latex',prefix='\\\\text{SWAP} = ')"
   ]
  },
  {
   "cell_type": "markdown",
   "id": "6a91644d",
   "metadata": {},
   "source": [
    "A $\\text{SWAP}$ gate can be in fact decomposed into three $CX$ gates as follows:"
   ]
  },
  {
   "cell_type": "code",
   "execution_count": 18,
   "id": "048bdf31",
   "metadata": {},
   "outputs": [
    {
     "data": {
      "image/png": "[encoded data removed]",
      "text/plain": [
       "<Figure size 267.052x144.48 with 1 Axes>"
      ]
     },
     "metadata": {
      "image/png": {
       "height": 125,
       "width": 220
      }
     },
     "output_type": "display_data"
    },
    {
     "data": {
      "text/latex": [
       "$$\n",
       "\\text{SWAP} = \n",
       "\\begin{bmatrix}\n",
       "1 & 0 & 0 & 0  \\\\\n",
       " 0 & 0 & 1 & 0  \\\\\n",
       " 0 & 1 & 0 & 0  \\\\\n",
       " 0 & 0 & 0 & 1  \\\\\n",
       " \\end{bmatrix}\n",
       "$$"
      ],
      "text/plain": [
       "<IPython.core.display.Latex object>"
      ]
     },
     "execution_count": 18,
     "metadata": {},
     "output_type": "execute_result"
    }
   ],
   "source": [
    "qc = QuantumCircuit(2)\n",
    "qc.cx(1,0)\n",
    "qc.cx(0,1)\n",
    "qc.cx(1,0)\n",
    "display(qc.draw())\n",
    "Operator(qc).draw('latex',prefix='\\\\text{SWAP} = ')"
   ]
  },
  {
   "cell_type": "markdown",
   "id": "4038831a",
   "metadata": {},
   "source": [
    "The logic for why this works is the same as that of the [XOR SWAP trick](https://en.wikipedia.org/wiki/XOR_swap_algorithm) in computer programming (recall that a $CX$ gate is equivalent to reversible $\\mathsf{XOR}$).\n",
    "\n",
    "The controlled version of a $\\text{SWAP}$ gate ($C\\text{SWAP}$) is also known as the [Fredkin gate](https://en.wikipedia.org/wiki/Fredkin_gate), and basically swaps two qubits conditioned on the state of a third (control) qubit:"
   ]
  },
  {
   "cell_type": "code",
   "execution_count": 19,
   "id": "cb71188a",
   "metadata": {},
   "outputs": [
    {
     "data": {
      "image/png": "[encoded data removed]",
      "text/plain": [
       "<Figure size 146.797x204.68 with 1 Axes>"
      ]
     },
     "metadata": {
      "image/png": {
       "height": 172,
       "width": 127
      }
     },
     "output_type": "display_data"
    },
    {
     "data": {
      "text/latex": [
       "$$\n",
       "C \\text{SWAP} = \n",
       "\\begin{bmatrix}\n",
       "1 & 0 & 0 & 0 & 0 & 0 & 0 & 0  \\\\\n",
       " 0 & 1 & 0 & 0 & 0 & 0 & 0 & 0  \\\\\n",
       " 0 & 0 & 1 & 0 & 0 & 0 & 0 & 0  \\\\\n",
       " 0 & 0 & 0 & 1 & 0 & 0 & 0 & 0  \\\\\n",
       " 0 & 0 & 0 & 0 & 1 & 0 & 0 & 0  \\\\\n",
       " 0 & 0 & 0 & 0 & 0 & 0 & 1 & 0  \\\\\n",
       " 0 & 0 & 0 & 0 & 0 & 1 & 0 & 0  \\\\\n",
       " 0 & 0 & 0 & 0 & 0 & 0 & 0 & 1  \\\\\n",
       " \\end{bmatrix}\n",
       "$$"
      ],
      "text/plain": [
       "<IPython.core.display.Latex object>"
      ]
     },
     "execution_count": 19,
     "metadata": {},
     "output_type": "execute_result"
    }
   ],
   "source": [
    "qc = QuantumCircuit(3)\n",
    "qc.cswap(2,1,0)\n",
    "display(qc.draw())\n",
    "Operator(qc).draw('latex', prefix='C \\\\text{SWAP} = ')"
   ]
  },
  {
   "cell_type": "markdown",
   "id": "5c2a8657",
   "metadata": {},
   "source": [
    "## 2.3 The Copy Gate (No-Cloning Theorem)\n",
    "\n",
    "One of the operations we introduced in the chapter on reversible classical computing was the ability to copy the value of a bit (say, $b_1$) to another (e.g., $b_0$) by the use of a $CX$ gate. Since qubits that are in strictly one of the two computational basis states $\\{|0\\rangle, |1\\rangle \\}$ behave just like classical bits, we can effectively copy a qubit in the same way:\n",
    "\n",
    "<img src=\"images/02_04_01_copy_1.png\" align = \"center\" width=\"420\"/>\n",
    "\n",
    "So, given two qubits $|q_1\\rangle, |q_0\\rangle$, we can copy the state of $|q_1\\rangle$ onto $|q_0\\rangle$ using a $CX$ gate, provided that $|q_0\\rangle$ is initialized at $|0\\rangle$, and the state of $|q_1\\rangle$ (denoted as $|\\psi\\rangle$) is one of the computational basis states:\n",
    "\n",
    "$$ |q_1 q_0\\rangle = |\\psi \\rangle \\otimes |0\\rangle \\xrightarrow{\\; CX \\;} |\\psi \\rangle \\otimes |\\psi \\rangle, \\; \\text{ provided} \\; |\\psi \\rangle \\in \\{|0\\rangle, |1\\rangle\\} .$$\n",
    "\n",
    "The question then is, can we construct a copy gate $\\Theta$ that, given the general qubit state $|\\psi\\rangle \\in \\mathcal{H}_2$, produces the exact same state on an another qubit?\n",
    "\n",
    "<img src=\"images/02_04_01_copy_2.png\" align = \"center\" width=\"380\"/>\n",
    "\n",
    "So, what we want is for $\\Theta$ to take a general superposition state $|\\psi\\rangle = \\alpha_0|0\\rangle + \\alpha_1|1\\rangle$ and copy it from one qubit to another as follows:\n",
    "\n",
    "$$\n",
    "\\begin{aligned}\n",
    "|\\psi\\rangle \\otimes |0\\rangle &\\xrightarrow{\\; \\Theta \\;} |\\psi\\rangle \\otimes |\\psi\\rangle\n",
    "\\\\\n",
    "\\\\\n",
    "(\\alpha_0|0\\rangle + \\alpha_1|1\\rangle) \\otimes |0\\rangle &\\xrightarrow{\\; \\Theta \\;} (\\alpha_0|0\\rangle + \\alpha_1|1\\rangle) \\otimes (\\alpha_0|0\\rangle + \\alpha_1|1\\rangle)\n",
    "\\\\\n",
    "\\\\\n",
    "\\alpha_0|00\\rangle + \\alpha_1|10\\rangle &\\xrightarrow{\\; \\Theta \\;} \\alpha_0^2|00\\rangle + \\alpha_0\\alpha_1|01\\rangle + \\alpha_1\\alpha_0|10\\rangle + \\alpha_1^2|11\\rangle .\n",
    "\\end{aligned}\n",
    "$$\n",
    "\n",
    "We can show that this copy operation is indeed satisfied for the basis states. For the case in which we want to copy state $|0\\rangle$, we have $\\alpha_0 = 1$ and $\\alpha_1 = 0$, which correctly results in:\n",
    "\n",
    "$$ |00\\rangle \\xrightarrow{\\; \\Theta \\;} |00\\rangle $$\n",
    "\n",
    "And for the case in which we want to copy state $|1\\rangle$, we instead have $\\alpha_0 = 0$ and $\\alpha_1 = 1$, which results in:\n",
    "\n",
    "$$ |10\\rangle \\xrightarrow{\\; \\Theta \\;} |11\\rangle $$\n",
    "\n",
    "However, since unitary operations are linear, passing a superposition of states $|00\\rangle$ and $|10\\rangle$ through $\\Theta$ should also result in a superposition of states $|00\\rangle$ and $|11\\rangle$:\n",
    "\n",
    "$$\\alpha_0|00\\rangle + \\alpha_1|10\\rangle \\xrightarrow{\\; \\Theta \\;} \\alpha_0|00\\rangle + \\alpha_1|11\\rangle . $$\n",
    "\n",
    "But then, this is an issue. Equating what we get from the general case with the output superposition above gives the following condition:\n",
    "\n",
    "$$\\alpha_0|00\\rangle + \\alpha_1|11\\rangle = \\alpha_0^2|00\\rangle + \\alpha_0\\alpha_1|01\\rangle + \\alpha_1\\alpha_0|10\\rangle + \\alpha_1^2|11\\rangle, $$\n",
    "\n",
    "which holds for when $(\\alpha_0 = 1, \\alpha_1 = 0)$ or $(\\alpha_1 = 0, \\alpha_1 = 1)$, but not otherwise. However, what we wanted was for $\\Theta$ to be able to copy a state for any possible value of $\\alpha_0$ and $\\alpha_1$!\n",
    "\n",
    "This impossibility of copying an arbitrary state $|\\psi\\rangle$ is known as the [non-cloning theorem](https://en.wikipedia.org/wiki/No-cloning_theorem), and it is one of the most important results in the field of quantum information."
   ]
  },
  {
   "cell_type": "markdown",
   "id": "d22081a5",
   "metadata": {},
   "source": [
    "## 2.4 Universal Gate Sets\n",
    "\n",
    "An important aspect about quantum computing is that, depending on the type of hardware implementation (e.g. superconducting qubits, ion traps, etc.), the gates available to construct our circuits is limited to a subset of operations known as the basis gate-set. A gate-set that can implement any other unitary with arbitrary precision is known as a [universal gate-set](https://en.wikipedia.org/wiki/Quantum_logic_gate#Universal_quantum_gates). \n",
    "\n",
    "In most of today's quantum devices, basis gate-sets are composed of one-qubit and two-qubit gates. Furthermore, the majority of these systems allow for continous-valued parametrized gates in one or more of their basis gates. This enables the precise control needed to build any other unitary gate or circuit. For instance, a valid gate-set could be composed of the gates $\\{CX, SX, RZ(\\theta) \\}$, where the $RZ$ gate is parameterized by an angle $\\theta$ that can take continuous values.\n",
    "\n",
    "Let's take as an example a Toffoli ($CCX$) gate, which is a 3-qubit gate. This gate would have to be decomposed into gates that belong to the gate-set above in order to run on a particular quantum processor. Here is an example in Qiskit of how the $CCX$ gate can be represented in terms of these gates:"
   ]
  },
  {
   "cell_type": "code",
   "execution_count": 20,
   "id": "27d4e73d",
   "metadata": {},
   "outputs": [],
   "source": [
    "from qiskit import transpile "
   ]
  },
  {
   "cell_type": "code",
   "execution_count": 30,
   "id": "76e798f0",
   "metadata": {
    "scrolled": true
   },
   "outputs": [
    {
     "data": {
      "image/png": "[encoded data removed]",
      "text/plain": [
       "<Figure size 146.797x204.68 with 1 Axes>"
      ]
     },
     "metadata": {
      "image/png": {
       "height": 172,
       "width": 127
      }
     },
     "output_type": "display_data"
    },
    {
     "data": {
      "image/png": "[encoded data removed]",
      "text/plain": [
       "<Figure size 869.197x204.68 with 1 Axes>"
      ]
     },
     "metadata": {
      "image/png": {
       "height": 180,
       "width": 683
      }
     },
     "output_type": "display_data"
    },
    {
     "data": {
      "text/latex": [
       "$$\n",
       "CCX = \n",
       "\\begin{bmatrix}\n",
       "1 & 0 & 0 & 0 & 0 & 0 & 0 & 0  \\\\\n",
       " 0 & 1 & 0 & 0 & 0 & 0 & 0 & 0  \\\\\n",
       " 0 & 0 & 1 & 0 & 0 & 0 & 0 & 0  \\\\\n",
       " 0 & 0 & 0 & 1 & 0 & 0 & 0 & 0  \\\\\n",
       " 0 & 0 & 0 & 0 & 1 & 0 & 0 & 0  \\\\\n",
       " 0 & 0 & 0 & 0 & 0 & 1 & 0 & 0  \\\\\n",
       " 0 & 0 & 0 & 0 & 0 & 0 & 0 & 1  \\\\\n",
       " 0 & 0 & 0 & 0 & 0 & 0 & 1 & 0  \\\\\n",
       " \\end{bmatrix}\n",
       "$$"
      ],
      "text/plain": [
       "<IPython.core.display.Latex object>"
      ]
     },
     "execution_count": 30,
     "metadata": {},
     "output_type": "execute_result"
    }
   ],
   "source": [
    "qc = QuantumCircuit(3)\n",
    "qc.ccx(2,1,0)\n",
    "display(qc.draw())\n",
    "\n",
    "qc_t = transpile(qc, basis_gates=['cx', 'sx', 'rz']) # Converts arbitrary circuit to a given basis gate-set\n",
    "display(qc_t.draw())\n",
    "\n",
    "Operator(qc).draw('latex', prefix='CCX = ')"
   ]
  },
  {
   "cell_type": "markdown",
   "id": "1abdc5fd",
   "metadata": {},
   "source": [
    "Since quantum operations in current state-of-the-art devices are still very prone to noise, minimizing the number of gates in a circuit is of extreme importance. As the field advances, circuit compilers--which are responsible of translating an arbitrary circuit onto the basis gate-set of some specific hardware--are continuously improving at generating optimized circuits. However, it is always important to make sure that every circuit is application-aware, meaning that we always try to implement circuits that minimize the number of basis gates. \n",
    "\n",
    "Here's a clear example. The Toffoli gate ($CCX$) flips a target qubit whenever both of the control qubits are in state $|1\\rangle$. However, it does so without introducing a relative phase between different basis states. In certain applications, adding a relative phase might not be detrimental to the final computation, so we could use another circuit that uses less gates than a $CCX$ gate. The [Margolus gate](https://en.wikipedia.org/wiki/Toffoli_gate#Related_logic_gates) (also known as the simplified Toffoli, or relative-phase-Toffoli, or $RCCX$ gate), is precisely an example of this. It acts like the $CCX$, but respectively adds phases of $-1, i, -i$ to states $|101\\rangle, |110\\rangle, |111\\rangle$. The advantage though is that it requires a significantly less number of basis gates to implement. \n",
    "\n",
    "The code below in shows the decomposed Margolus gate onto the $\\{CX, SX, RZ(\\theta) \\}$ gate-set. It can be seen that the number of required gates is significantly smaller than what we had for the $CCX$ gate:"
   ]
  },
  {
   "cell_type": "code",
   "execution_count": 29,
   "id": "6747f40c",
   "metadata": {},
   "outputs": [
    {
     "data": {
      "image/png": "[encoded data removed]",
      "text/plain": [
       "<Figure size 206.997x204.68 with 1 Axes>"
      ]
     },
     "metadata": {
      "image/png": {
       "height": 172,
       "width": 173
      }
     },
     "output_type": "display_data"
    },
    {
     "data": {
      "image/png": "[encoded data removed]",
      "text/plain": [
       "<Figure size 748.797x204.68 with 1 Axes>"
      ]
     },
     "metadata": {
      "image/png": {
       "height": 180,
       "width": 590
      }
     },
     "output_type": "display_data"
    },
    {
     "data": {
      "text/latex": [
       "$$\n",
       "RCCX = \n",
       "\\begin{bmatrix}\n",
       "1 & 0 & 0 & 0 & 0 & 0 & 0 & 0  \\\\\n",
       " 0 & 1 & 0 & 0 & 0 & 0 & 0 & 0  \\\\\n",
       " 0 & 0 & 1 & 0 & 0 & 0 & 0 & 0  \\\\\n",
       " 0 & 0 & 0 & 1 & 0 & 0 & 0 & 0  \\\\\n",
       " 0 & 0 & 0 & 0 & 1 & 0 & 0 & 0  \\\\\n",
       " 0 & 0 & 0 & 0 & 0 & -1 & 0 & 0  \\\\\n",
       " 0 & 0 & 0 & 0 & 0 & 0 & 0 & - i  \\\\\n",
       " 0 & 0 & 0 & 0 & 0 & 0 & i & 0  \\\\\n",
       " \\end{bmatrix}\n",
       "$$"
      ],
      "text/plain": [
       "<IPython.core.display.Latex object>"
      ]
     },
     "execution_count": 29,
     "metadata": {},
     "output_type": "execute_result"
    }
   ],
   "source": [
    "qc = QuantumCircuit(3)\n",
    "qc.rccx(2,1,0)\n",
    "display(qc.draw())\n",
    "\n",
    "qc_t = transpile(qc, basis_gates=['cx', 'sx', 'rz']) # Converts arbitrary circuit to a given basis gate-set\n",
    "display(qc_t.draw())\n",
    "\n",
    "Operator(qc).draw('latex', prefix='RCCX = ')"
   ]
  },
  {
   "cell_type": "markdown",
   "id": "7b297ba2",
   "metadata": {},
   "source": [
    "Now, allowing for continuous-valued parameters has limitations in terms of noise robustness and implementation complexity/efficiency in [error-corrected](https://en.wikipedia.org/wiki/Quantum_error_correction) [fault-tolerant](https://en.wikipedia.org/wiki/Threshold_theorem) architectures. Therefore, in the long run, basis gate-sets composed of fixed-angle gates are desirable.\n",
    "\n",
    "A common set to do this is the Clifford+T gate-set. This set of gates is [universal](https://en.wikipedia.org/wiki/Quantum_logic_gate#Universal_quantum_gates), meaning that it can be used to approximate any unitary up to arbitrary precision. The set is composed by the [Clifford gates](https://en.wikipedia.org/wiki/Clifford_gates) $\\{H, S, CX\\}$, and the $T$ gate, which we covered in the previous chapter. Clifford gates on their own have been proven to be easy to simulate classically by [Gottesman–Knill theorem](https://en.wikipedia.org/wiki/Gottesman%E2%80%93Knill_theorem) but, surprisingly, adding a $T$ gate enables full quantum-computational power. The reason why this is the case is explained by the [Solovay–Kitaev theorem](https://en.wikipedia.org/wiki/Solovay%E2%80%93Kitaev_theorem), the details of which are outside of the scope of our discussion. \n",
    "\n",
    "Here is an example of how a $CCX$ gate can be constructed out of the Clifford+T gate-set:"
   ]
  },
  {
   "cell_type": "code",
   "execution_count": 22,
   "id": "1dfa201e",
   "metadata": {},
   "outputs": [
    {
     "data": {
      "image/png": "[encoded data removed]",
      "text/plain": [
       "<Figure size 568.197x204.68 with 1 Axes>"
      ]
     },
     "metadata": {
      "image/png": {
       "height": 172,
       "width": 451
      }
     },
     "output_type": "display_data"
    },
    {
     "data": {
      "text/latex": [
       "$$\n",
       "CCX = \n",
       "\\begin{bmatrix}\n",
       "1 & 0 & 0 & 0 & 0 & 0 & 0 & 0  \\\\\n",
       " 0 & 1 & 0 & 0 & 0 & 0 & 0 & 0  \\\\\n",
       " 0 & 0 & 1 & 0 & 0 & 0 & 0 & 0  \\\\\n",
       " 0 & 0 & 0 & 1 & 0 & 0 & 0 & 0  \\\\\n",
       " 0 & 0 & 0 & 0 & 1 & 0 & 0 & 0  \\\\\n",
       " 0 & 0 & 0 & 0 & 0 & 1 & 0 & 0  \\\\\n",
       " 0 & 0 & 0 & 0 & 0 & 0 & 0 & 1  \\\\\n",
       " 0 & 0 & 0 & 0 & 0 & 0 & 1 & 0  \\\\\n",
       " \\end{bmatrix}\n",
       "$$"
      ],
      "text/plain": [
       "<IPython.core.display.Latex object>"
      ]
     },
     "execution_count": 22,
     "metadata": {},
     "output_type": "execute_result"
    }
   ],
   "source": [
    "qc = QuantumCircuit(3)\n",
    "qc.tdg([2,1])\n",
    "qc.h(0)\n",
    "qc.cx(0,2)\n",
    "qc.cx(1,0)\n",
    "qc.t(2)\n",
    "qc.cx(1,2)\n",
    "qc.t(0)\n",
    "qc.tdg(2)\n",
    "qc.cx(1,0)\n",
    "qc.cx(0,2)\n",
    "qc.t(2)\n",
    "qc.tdg(0)\n",
    "qc.cx(1,2)\n",
    "qc.h(0)\n",
    "display(qc.draw())\n",
    "Operator(qc).draw('latex', prefix='CCX = ')"
   ]
  },
  {
   "cell_type": "markdown",
   "id": "33464e7a",
   "metadata": {},
   "source": [
    "In most error correction architectures, the implementation of a $T$ gate is selected to be the most expensive part of the computation, meaning that it takes a significantly larger number of physical operations to execute a $T$ (or $T^{\\dagger}$) gate than a Clifford gate $\\{H, CX \\} .$ Therefore, minimizing what is known as the $T$-depth of a circuit is usually of great importance. We will discuss the reasons behind this in a later chapter when we discuss error correction and fault-tolerant computing.\n",
    "\n",
    "The $T$-depth is estimated by \"layering\" all the $\\{T, T^{\\dagger} \\}$ gates in separate qubits that can be executed in parallel, and counting the total number of these layers. For example, in the circuit above, the first $T$ gate that appears on $q_0$ can be executed in parallel with the $T$ gate on $q_2$, so the total number of $T$-gate layers will be 4. Here is how we can extract the $T$-depth of a circuit in Qiskit:"
   ]
  },
  {
   "cell_type": "code",
   "execution_count": 23,
   "id": "4dc1ea49",
   "metadata": {},
   "outputs": [
    {
     "name": "stdout",
     "output_type": "stream",
     "text": [
      "T-depth of CCX circuit:  4\n"
     ]
    }
   ],
   "source": [
    "T_depth = qc.depth(lambda instr: instr.operation.name in ['t', 'tdg'])\n",
    "print(\"T-depth of CCX circuit: \", T_depth)"
   ]
  },
  {
   "cell_type": "markdown",
   "id": "c73844fc",
   "metadata": {},
   "source": [
    "## 3. Multi-Qubit Measurements\n",
    "\n",
    "Just like for single qubit states, we compute the probability of measuring one of the possible outcomes for a multi-qubit state by taking the norm squared of its corresponding probability amplitude. So, for a state of the form:\n",
    "\n",
    "$$ |q\\rangle = \\sum_{j=0}^{N-1} \\alpha_{j} |j\\rangle, $$\n",
    "\n",
    "the probability of measuring the $j^{th}$ basis state $|j\\rangle$ is given by:\n",
    "\n",
    "$$\\mathbb{P}_j = |\\alpha_j|^2 .$$\n",
    "\n",
    "If a measurement results in the classical outcome $j$, the quantum state will be projected from the superpositon state $|q\\rangle$ shown above, to the basis state $|j\\rangle$. For example, given the superposition state:\n",
    "\n",
    "$$ |\\textit{w}\\rangle = \\frac{1}{\\sqrt{3}}|100\\rangle + \\frac{1}{\\sqrt{3}}|010\\rangle + \\frac{1}{\\sqrt{3}}|001\\rangle, $$\n",
    "\n",
    "The probability of measuring each of the three possible basis states is:\n",
    "\n",
    "$$\\mathbb{P}_{001} = \\mathbb{P}_{010} = \\mathbb{P}_{100} = \\left|\\frac{1}{\\sqrt{3}}\\right|^2  = \\frac{1}{3}.$$\n",
    "\n",
    "Furthermore, performing a measurement on superposition state above will project it into only one of the three possible states as:\n",
    "\n",
    "$$|\\textit{w}\\rangle = \\frac{1}{\\sqrt{3}}|100\\rangle + \\frac{1}{\\sqrt{3}}|010\\rangle + \\frac{1}{\\sqrt{3}}|001\\rangle \\xrightarrow{measure} |\\textit{w}'\\rangle =\n",
    "\\begin{cases}\n",
    "|001\\rangle \\text{, with prob: } \\mathbb{P}_{001} \\\\ \\\\\n",
    "|010\\rangle \\text{, with prob: } \\mathbb{P}_{010} \\\\ \\\\\n",
    "|100\\rangle \\text{, with prob: } \\mathbb{P}_{100}\n",
    "\\end{cases}\n",
    "\\\\\n",
    "$$\n",
    "\n",
    "We can look at a few examples with Qiskit by creating a `Statevector` object and using the `probabilites` method to verify that indeed the array of probabilities we get correspond to the norm square of the probability amplitudes. We can also use the `measure` method to project a superposition state into one of the possible outcomes:"
   ]
  },
  {
   "cell_type": "code",
   "execution_count": 24,
   "id": "1caa27d4",
   "metadata": {},
   "outputs": [
    {
     "name": "stdout",
     "output_type": "stream",
     "text": [
      "Probability Amplitudes:\n"
     ]
    },
    {
     "data": {
      "text/latex": [
       "$$\n",
       "\n",
       "\\begin{bmatrix}\n",
       "\\frac{1}{2} & 0 & - \\frac{i}{2} & 0 & \\frac{1}{2} & 0 & - \\frac{i}{2} & 0  \\\\\n",
       " \\end{bmatrix}\n",
       "$$"
      ],
      "text/plain": [
       "<IPython.core.display.Latex object>"
      ]
     },
     "metadata": {},
     "output_type": "display_data"
    },
    {
     "name": "stdout",
     "output_type": "stream",
     "text": [
      "Probabilities:\n",
      "\n",
      "[0.25 0.   0.25 0.   0.25 0.   0.25 0.  ]\n",
      "\n",
      "Classical Outcome:\n",
      "\n",
      "010\n",
      "\n",
      "Projected State:\n"
     ]
    },
    {
     "data": {
      "text/latex": [
       "$$- i |010\\rangle$$"
      ],
      "text/plain": [
       "<IPython.core.display.Latex object>"
      ]
     },
     "metadata": {},
     "output_type": "display_data"
    }
   ],
   "source": [
    "# Create 3-qubit state: |+⟩⊗|l⟩⊗|0⟩\n",
    "q_c = Statevector.from_label('+l0')\n",
    "\n",
    "# Display statevector in vector notation\n",
    "print('Probability Amplitudes:')\n",
    "display(q_c.draw('latex', convention='vector'))\n",
    "\n",
    "# Print probabilities of measuring each basis state\n",
    "probs = q_c.probabilities()\n",
    "print('Probabilities:\\n')\n",
    "print(probs)\n",
    "\n",
    "# Measure state once, return\n",
    "c_result, q_result = q_c.measure()\n",
    "print('\\nClassical Outcome:\\n')\n",
    "print(c_result)\n",
    "print('\\nProjected State:')\n",
    "display(q_result)"
   ]
  },
  {
   "cell_type": "markdown",
   "id": "77980c2d",
   "metadata": {},
   "source": [
    "The process described above works well when we are measuring the totality of qubits of a given statevector. However, a couple of interesting questions arise when dealing with multi-qubit systems: \n",
    "1. How do we compute the probability of only measuring part of the state? \n",
    "2. What would be the resulting statevector after this measurement takes place? \n",
    "\n",
    "In order words, what is the procedure to follow if we measure only $m$ qubits out of a system with a total $n$ qubits (where $m < n$)?\n",
    "\n",
    "To answer these questions, we need to recall that an alternative way to compute probabilities and the projected states is by using projection-valued measure (PVM) formalism we introduced in the [previous chapter](https://learnquantum.io/chapters/02_quantum_computing/02_03_single_qb_sys.html#quantum-measurement). In the case where we are measuring all qubits, we use follow the same procedure as that as form the one-qubit case. Probabilities are calculated as:\n",
    "\n",
    "$$\\mathbb{P}_j = \\langle q | \\Pi_{j} | q \\rangle = |\\alpha_j|^2 , \\text{ with: } \\; \\Pi_{j} = | j \\rangle \\langle j |;$$\n",
    "\n",
    "and the projected state after a measurement are computed using:\n",
    "\n",
    "$$ |q'\\rangle = \\frac{1}{\\sqrt{\\mathbb{P}_j}} \\Pi_{j} |q\\rangle .$$\n",
    "\n",
    "\n",
    "\n",
    "\n",
    "\n",
    "\n",
    "\n",
    "\n",
    "The first thing to note, is that we can rewrite the expression for a superposition state as a sum of Kronecker products of the qubits that will be measured (let's call these system $A$), and the ones will not be measured (let's call these system $B$). For example, let us take the $|\\textit{w}\\rangle$ state we defined above, and assume we only want to measure the least significant qubit. We can then rewrite the state as:\n",
    "\n",
    "$$ |\\textit{w}\\rangle = \\frac{1}{\\sqrt{3}}|10\\rangle_B \\otimes |0\\rangle_A + \\frac{1}{\\sqrt{3}}|01\\rangle_B \\otimes |0\\rangle_A + \\frac{1}{\\sqrt{3}}|00\\rangle_B \\otimes |1\\rangle_A $$\n",
    "\n",
    "Since $|0\\rangle_A$ appears twice, let's factorize it:\n",
    "\n",
    "$$ |\\textit{w}\\rangle = \\left( \\frac{1}{\\sqrt{3}}|10\\rangle_B + \\frac{1}{\\sqrt{3}}|01\\rangle_B \\right) \\otimes  |0\\rangle_A + \\left( \\frac{1}{\\sqrt{3}}|00\\rangle_B \\right) \\otimes |1\\rangle_A $$\n",
    "\n",
    "\n",
    "For now, let's assume the qubits to be measured are the $m$ least significant qubits, so we can rewrite the state as:\n",
    "\n",
    "$$ |q\\rangle = \\sum_{l=0}^{N-M} \\alpha_{l} |l\\rangle \\otimes \\sum_{k=0}^{M-1} \\alpha_{k} |k\\rangle, $$\n",
    "\n",
    "For, example, let's assume we have a general 3-qubit state:\n",
    "\n",
    "$$ |q\\rangle = \\alpha_7|111\\rangle + \\alpha_6|110\\rangle + \\alpha_5|101\\rangle + \\alpha_4|100\\rangle + \\alpha_3|011\\rangle + \\alpha_2|010\\rangle + \\alpha_1|001\\rangle + \\alpha_0|000\\rangle $$"
   ]
  },
  {
   "cell_type": "code",
   "execution_count": null,
   "id": "a0fe2710",
   "metadata": {},
   "outputs": [],
   "source": []
  },
  {
   "cell_type": "code",
   "execution_count": null,
   "id": "003deea9",
   "metadata": {},
   "outputs": [],
   "source": []
  },
  {
   "cell_type": "code",
   "execution_count": null,
   "id": "a4850bb8",
   "metadata": {},
   "outputs": [],
   "source": []
  }
 ],
 "metadata": {
  "kernelspec": {
   "display_name": "Python 3 (ipykernel)",
   "language": "python",
   "name": "python3"
  },
  "language_info": {
   "codemirror_mode": {
    "name": "ipython",
    "version": 3
   },
   "file_extension": ".py",
   "mimetype": "text/x-python",
   "name": "python",
   "nbconvert_exporter": "python",
   "pygments_lexer": "ipython3",
   "version": "3.11.9"
  }
 },
 "nbformat": 4,
 "nbformat_minor": 5
}
