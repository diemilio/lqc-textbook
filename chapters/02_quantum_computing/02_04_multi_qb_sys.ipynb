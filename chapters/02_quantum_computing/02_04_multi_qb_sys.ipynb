{
 "cells": [
  {
   "cell_type": "markdown",
   "id": "0441d352",
   "metadata": {},
   "source": [
    "# Multi-Qubit Systems\n",
    "<hr></hr>"
   ]
  },
  {
   "cell_type": "markdown",
   "id": "824a6afc",
   "metadata": {},
   "source": [
    "Now that we have presented the [formal definition](https://learnquantum.io/chapters/02_quantum_computing/02_03_single_qb_sys.html#kets-bras-products-and-bases) for a qubit, in this chapter we will generalize this idea to statevectors with more than one qubit, discuss multi-qubit quantum circuits, and present some important ideas such as [universal gate sets](https://en.wikipedia.org/wiki/Quantum_logic_gate#Universal_quantum_gates), [phase-kickback](https://en.wikipedia.org/wiki/Phase_kickback) and the [no-cloning theorem](https://en.wikipedia.org/wiki/No-cloning_theorem)."
   ]
  },
  {
   "cell_type": "markdown",
   "id": "751756a2",
   "metadata": {},
   "source": [
    "## 1. Multi-Qubit States\n",
    "\n",
    "In the previous chapter, we arrived at the following definition for a qubit:\n",
    "\n",
    "$$|q\\rangle = \\begin{bmatrix} \\alpha_0 \\\\ \\alpha_1 \\end{bmatrix}, $$\n",
    "\n",
    "where $\\alpha_0$ and $\\alpha_1$ are complex numbers such that $|\\alpha_0|^2 + |\\alpha_1|^2 = 1 .$ \n",
    "\n",
    "We also briefly discussed, that a state of this form corresponds to a linear combination of the computation basis states $\\{|0\\rangle, |1\\rangle\\} $:\n",
    "\n",
    "$$\n",
    "\\begin{aligned}\n",
    "|q\\rangle &= \\begin{bmatrix} \\alpha_0 \\\\ \\alpha_1 \\end{bmatrix} \n",
    "\\\\\n",
    "\\\\\n",
    "|q\\rangle &= \\alpha_0 \\begin{bmatrix} 1 \\\\ 0 \\end{bmatrix} + \\alpha_1 \\begin{bmatrix} 0 \\\\ 1 \\end{bmatrix}\n",
    "\\\\\n",
    "\\\\\n",
    "|q\\rangle &= \\alpha_0 |0\\rangle + \\alpha_1 |1\\rangle.\n",
    "\\end{aligned}\n",
    "$$\n",
    "\n",
    "We can then generalize this for $n$ qubits by noting that states of this form will correspond to linear combinations of the basis states $\\{|0\\rangle, |1\\rangle\\}^{\\otimes n}$. Here, the superscript $^{\\otimes n}$ denotes that we are taking the tensor product $n$ times for all possible combinations of $|0\\rangle$ and $|1\\rangle$:\n",
    "\n",
    "$$\\{|0\\rangle, |1\\rangle\\}^{\\otimes n} = \\{|\\underbrace{0\\dots 00}_{n}\\rangle, |\\underbrace{0\\dots 01}_{n}\\rangle, \\dots, |\\underbrace{1\\dots 11}_{n}\\rangle \\}$$\n",
    "\n",
    "For example, for $n = 3$:\n",
    "\n",
    "$$\\{|0\\rangle, |1\\rangle\\}^3 = \\{|000\\rangle, |001\\rangle, |010\\rangle, |011\\rangle, |100\\rangle, |101\\rangle, |110\\rangle, |111\\rangle \\} .$$\n",
    "\n",
    "It can be seen that for $n$ qubits, there are a total of $N = 2^n$ basis states. So, the general representation of a quantum state for an $n$-qubit system is given by:\n",
    "\n",
    "$$ |q\\rangle = \\alpha_{0} |0\\dots 00\\rangle + \\alpha_{1}|0\\dots 01\\rangle + \\dots + \\alpha_{N-1}|1 \\dots 11\\rangle ,$$\n",
    "\n",
    "where $\\alpha_j \\in \\mathbb{C}$ are the probability amplitudes associated with each basis state. And since their value squared represent probabilities, they must also meet the condition of adding up to $1$:\n",
    "\n",
    "$$ \\sum_{j=0}^{N-1} |\\alpha_j|^2 = 1 .$$\n",
    "\n",
    "We can also write the expresion for a multi-qubit vector more compactly as:\n",
    "\n",
    "$$ |q\\rangle = \\sum_{j=0}^{N-1} \\alpha_{j} |j\\rangle. $$\n",
    "\n",
    "However, we do have to point out that this is a bit of an abuse of notation since here $j$ is an integer between $0$ and $2^{N-1}$, so we need to clarify what we mean by $|j\\rangle$ is the state with binary label that corresponds to that integer value. For example, for $j = 5$:\n",
    "\n",
    "$$ |5\\rangle \\sim |101\\rangle = |1\\rangle \\otimes |0\\rangle \\otimes |1\\rangle .$$\n",
    "\n",
    "It is also important to remember that, just as for the single-qubit case, the basis states $\\{|0\\rangle, |1\\rangle\\}^{\\otimes n}$ form orthonormal basis because they meet the condition of being orthogonal to each other and normalized. A succinct form to express this is as:\n",
    "\n",
    "$$ \\langle i | j \\rangle = \\delta_{ij}$$\n",
    "\n",
    "where $i, j$ denote any of the possible basis states between $0$ and $2^{N-1}$, and $\\delta_{ij}$ is known as the Kronecker-delta function, given by:\n",
    "\n",
    "$$ \\delta_{ij} = \n",
    "\\begin{cases} \n",
    "1 \\text{, for } i = j \n",
    "\\\\\n",
    "\\\\\n",
    "0 \\text{, for } i \\neq j\n",
    "\\end{cases} \n",
    "$$\n",
    "\n",
    "We can also represent a general multi-qubit statevector using column-vector notation as:\n",
    "\n",
    "$$ |q\\rangle = \\begin{bmatrix} \\alpha_0 \\\\ \\alpha_1 \\\\ \\vdots \\\\ \\alpha_{N-1} \\end{bmatrix}, \\text{ such that:} \\; \\alpha_j \\in \\mathbb{C}, \\; \\text{and} \\; \\sum_{j=0}^{N-1}|\\alpha_j|^2 = 1 , $$\n",
    "\n",
    "And just like we did for the one-qubit case, we say that all statevectors of this kind belong to a [Hilbert space](https://en.wikipedia.org/wiki/Hilbert_space) $\\mathcal{H}$, of size $N = 2^n$, which is often expressed as $\\mathcal{H} = \\mathbb{C}^{N} $ to clarify that this is a vector space over the complex numbers where each of its vectors is of size $N$.\n",
    "\n",
    "Let's now look at a few examples in Qiskit."
   ]
  },
  {
   "cell_type": "code",
   "execution_count": 16,
   "id": "442c9547",
   "metadata": {},
   "outputs": [],
   "source": [
    "import numpy as np\n",
    "from qiskit.quantum_info import Statevector"
   ]
  },
  {
   "cell_type": "code",
   "execution_count": 17,
   "id": "88ebdc50",
   "metadata": {},
   "outputs": [
    {
     "name": "stdout",
     "output_type": "stream",
     "text": [
      "Ket notation:\n"
     ]
    },
    {
     "data": {
      "text/latex": [
       "$$\\frac{\\sqrt{2}}{4} |000\\rangle+\\frac{\\sqrt{2}}{4} |001\\rangle+\\frac{\\sqrt{2}}{4} |010\\rangle+\\frac{\\sqrt{2}}{4} |011\\rangle+\\frac{\\sqrt{2}}{4} |100\\rangle+\\frac{\\sqrt{2}}{4} |101\\rangle+\\frac{\\sqrt{2}}{4} |110\\rangle+\\frac{\\sqrt{2}}{4} |111\\rangle$$"
      ],
      "text/plain": [
       "<IPython.core.display.Latex object>"
      ]
     },
     "metadata": {},
     "output_type": "display_data"
    },
    {
     "name": "stdout",
     "output_type": "stream",
     "text": [
      "Vector notation:\n"
     ]
    },
    {
     "data": {
      "text/latex": [
       "$$\n",
       "\n",
       "\\begin{bmatrix}\n",
       "\\frac{\\sqrt{2}}{4} & \\frac{\\sqrt{2}}{4} & \\frac{\\sqrt{2}}{4} & \\frac{\\sqrt{2}}{4} & \\frac{\\sqrt{2}}{4} & \\frac{\\sqrt{2}}{4} & \\frac{\\sqrt{2}}{4} & \\frac{\\sqrt{2}}{4}  \\\\\n",
       " \\end{bmatrix}\n",
       "$$"
      ],
      "text/plain": [
       "<IPython.core.display.Latex object>"
      ]
     },
     "metadata": {},
     "output_type": "display_data"
    },
    {
     "name": "stdout",
     "output_type": "stream",
     "text": [
      "Probabilities:\n",
      "\n",
      "[0.125 0.125 0.125 0.125 0.125 0.125 0.125 0.125]\n"
     ]
    }
   ],
   "source": [
    "# Create equal superposition state for 3 qubits (separable)\n",
    "q_a = Statevector.from_label('+++')\n",
    "\n",
    "# Display statevector in ket notation\n",
    "print('Ket notation:')\n",
    "display(q_a.draw('latex'))\n",
    "\n",
    "# Display statevector in vector notation\n",
    "print('Vector notation:')\n",
    "display(q_a.draw('latex', convention='vector'))\n",
    "\n",
    "# print probabilities of measuring each possible basis state\n",
    "print('Probabilities:\\n')\n",
    "print(q_a.probabilities())"
   ]
  },
  {
   "cell_type": "code",
   "execution_count": 18,
   "id": "85c2aee2",
   "metadata": {},
   "outputs": [
    {
     "name": "stdout",
     "output_type": "stream",
     "text": [
      "Ket notation:\n"
     ]
    },
    {
     "data": {
      "text/latex": [
       "$$\\frac{\\sqrt{2}}{2} |000\\rangle+\\frac{\\sqrt{2}}{2} |111\\rangle$$"
      ],
      "text/plain": [
       "<IPython.core.display.Latex object>"
      ]
     },
     "metadata": {},
     "output_type": "display_data"
    },
    {
     "name": "stdout",
     "output_type": "stream",
     "text": [
      "Vector notation:\n"
     ]
    },
    {
     "data": {
      "text/latex": [
       "$$\n",
       "\n",
       "\\begin{bmatrix}\n",
       "\\frac{\\sqrt{2}}{2} & 0 & 0 & 0 & 0 & 0 & 0 & \\frac{\\sqrt{2}}{2}  \\\\\n",
       " \\end{bmatrix}\n",
       "$$"
      ],
      "text/plain": [
       "<IPython.core.display.Latex object>"
      ]
     },
     "metadata": {},
     "output_type": "display_data"
    },
    {
     "name": "stdout",
     "output_type": "stream",
     "text": [
      "Probabilities:\n",
      "\n",
      "[0.5 0.  0.  0.  0.  0.  0.  0.5]\n"
     ]
    }
   ],
   "source": [
    "# Create 3-qubit entangled state\n",
    "q_b = 1/np.sqrt(2)*Statevector.from_label('000') + 1/np.sqrt(2)*Statevector.from_label('111')\n",
    "\n",
    "# Display statevector in ket notation\n",
    "print('Ket notation:')\n",
    "display(q_b.draw('latex'))\n",
    "\n",
    "# Display statevector in vector notation\n",
    "print('Vector notation:')\n",
    "display(q_b.draw('latex', convention='vector'))\n",
    "\n",
    "# print probabilities of measuring each possible basis state\n",
    "print('Probabilities:\\n')\n",
    "print(q_b.probabilities())"
   ]
  },
  {
   "cell_type": "markdown",
   "id": "f8130d32",
   "metadata": {},
   "source": [
    "## 2. Multi-Qubit Gates and Circuits\n",
    "\n",
    "Just as we pointed out for the [single-qubit case](https://learnquantum.io/chapters/02_quantum_computing/02_03_single_qb_sys.html#generalizing-quantum-gates), any multi-qubit gate or circuit can be expressed in the form of a [unitary matrix](https://en.wikipedia.org/wiki/Unitary_matrix) $U$. For a system of $n$ qubits, the matrices will be of size $N \\times N$, with $N = 2^n$:\n",
    "\n",
    "$$ U = \\begin{bmatrix}u_{00} & u_{01} & \\dots & u_{0 (N-1)} \\\\\n",
    "                      u_{10} & u_{11} & \\dots & u_{1 (N-1)} \\\\\n",
    "                      \\vdots & \\vdots & \\ddots & \\vdots \\\\\n",
    "                      u_{(N-1)0} & u_{(N-1)1} & \\dots & u_{1 (N-1)}\n",
    "\\end{bmatrix} $$\n",
    "\n",
    "As we've seen in previous chapters, gates acting on individual qubits that are part of a larger multi-qubit system can be combined into a single unitary by taking the Kronecker product between them:\n",
    "\n",
    "$$ U = \\bigotimes_{j=0}^{N-1} U_j .$$\n",
    "\n",
    "Let's look at an example in Qiskit where we apply gates $X, H, Z$ on qubits $0$, $1$ and $2$, respectively:\n",
    "\n",
    "$$ U = Z \\otimes H \\otimes X .$$\n",
    "\n",
    "We will first create the individual matrices for each gate and apply the Kronecker (tensor) product between them, and compare this with the total unitary (operator) for the whole circuit."
   ]
  },
  {
   "cell_type": "code",
   "execution_count": 19,
   "id": "62928a63",
   "metadata": {},
   "outputs": [],
   "source": [
    "from qiskit import QuantumCircuit\n",
    "from qiskit.quantum_info import Operator"
   ]
  },
  {
   "cell_type": "code",
   "execution_count": 26,
   "id": "eaf38692",
   "metadata": {},
   "outputs": [
    {
     "data": {
      "text/latex": [
       "$$\n",
       "U =\n",
       "\\begin{bmatrix}\n",
       "0 & \\frac{\\sqrt{2}}{2} & 0 & \\frac{\\sqrt{2}}{2} & 0 & 0 & 0 & 0  \\\\\n",
       " \\frac{\\sqrt{2}}{2} & 0 & \\frac{\\sqrt{2}}{2} & 0 & 0 & 0 & 0 & 0  \\\\\n",
       " 0 & \\frac{\\sqrt{2}}{2} & 0 & - \\frac{\\sqrt{2}}{2} & 0 & 0 & 0 & 0  \\\\\n",
       " \\frac{\\sqrt{2}}{2} & 0 & - \\frac{\\sqrt{2}}{2} & 0 & 0 & 0 & 0 & 0  \\\\\n",
       " 0 & 0 & 0 & 0 & 0 & - \\frac{\\sqrt{2}}{2} & 0 & - \\frac{\\sqrt{2}}{2}  \\\\\n",
       " 0 & 0 & 0 & 0 & - \\frac{\\sqrt{2}}{2} & 0 & - \\frac{\\sqrt{2}}{2} & 0  \\\\\n",
       " 0 & 0 & 0 & 0 & 0 & - \\frac{\\sqrt{2}}{2} & 0 & \\frac{\\sqrt{2}}{2}  \\\\\n",
       " 0 & 0 & 0 & 0 & - \\frac{\\sqrt{2}}{2} & 0 & \\frac{\\sqrt{2}}{2} & 0  \\\\\n",
       " \\end{bmatrix}\n",
       "$$"
      ],
      "text/plain": [
       "<IPython.core.display.Latex object>"
      ]
     },
     "execution_count": 26,
     "metadata": {},
     "output_type": "execute_result"
    }
   ],
   "source": [
    "# Compute total Unitary (operator) by tensoring gates\n",
    "X = Operator.from_label('X')\n",
    "H = Operator.from_label('H')\n",
    "Z = Operator.from_label('Z')\n",
    "\n",
    "ZHX = Z.tensor(H.tensor(X))\n",
    "ZHX.draw('latex', prefix='U =')"
   ]
  },
  {
   "cell_type": "code",
   "execution_count": 22,
   "id": "52878468",
   "metadata": {},
   "outputs": [
    {
     "data": {
      "image/png": "[encoded data removed]",
      "text/plain": [
       "<Figure size 146.797x204.68 with 1 Axes>"
      ]
     },
     "execution_count": 22,
     "metadata": {
      "image/png": {
       "height": 172,
       "width": 127
      }
     },
     "output_type": "execute_result"
    }
   ],
   "source": [
    "qc = QuantumCircuit(3)\n",
    "qc.x(0)\n",
    "qc.h(1)\n",
    "qc.z(2)\n",
    "qc.draw()"
   ]
  },
  {
   "cell_type": "code",
   "execution_count": 27,
   "id": "2599fcff",
   "metadata": {},
   "outputs": [
    {
     "data": {
      "text/latex": [
       "$$\n",
       "U =\n",
       "\\begin{bmatrix}\n",
       "0 & \\frac{\\sqrt{2}}{2} & 0 & \\frac{\\sqrt{2}}{2} & 0 & 0 & 0 & 0  \\\\\n",
       " \\frac{\\sqrt{2}}{2} & 0 & \\frac{\\sqrt{2}}{2} & 0 & 0 & 0 & 0 & 0  \\\\\n",
       " 0 & \\frac{\\sqrt{2}}{2} & 0 & - \\frac{\\sqrt{2}}{2} & 0 & 0 & 0 & 0  \\\\\n",
       " \\frac{\\sqrt{2}}{2} & 0 & - \\frac{\\sqrt{2}}{2} & 0 & 0 & 0 & 0 & 0  \\\\\n",
       " 0 & 0 & 0 & 0 & 0 & - \\frac{\\sqrt{2}}{2} & 0 & - \\frac{\\sqrt{2}}{2}  \\\\\n",
       " 0 & 0 & 0 & 0 & - \\frac{\\sqrt{2}}{2} & 0 & - \\frac{\\sqrt{2}}{2} & 0  \\\\\n",
       " 0 & 0 & 0 & 0 & 0 & - \\frac{\\sqrt{2}}{2} & 0 & \\frac{\\sqrt{2}}{2}  \\\\\n",
       " 0 & 0 & 0 & 0 & - \\frac{\\sqrt{2}}{2} & 0 & \\frac{\\sqrt{2}}{2} & 0  \\\\\n",
       " \\end{bmatrix}\n",
       "$$"
      ],
      "text/plain": [
       "<IPython.core.display.Latex object>"
      ]
     },
     "execution_count": 27,
     "metadata": {},
     "output_type": "execute_result"
    }
   ],
   "source": [
    "# Operator from total circuit matches that of tensor product of individual matrices\n",
    "Operator(qc).draw('latex', prefix='U =')"
   ]
  },
  {
   "cell_type": "markdown",
   "id": "35a2fc33",
   "metadata": {},
   "source": [
    "Unitaries composed of tensor products of single-qubit unitaries are only a small fraction of all possible operations that can act on a multi-qubit state. For example the matrices for the $CX$ or the Toffoli ($CCX$) gates, which we covered before, cannot be expressed in terms of tensor products of other unitaries. We will therefore focus our attention on a few popular/common gates, and later show that any multi-qubit unitary can actually be decomposed into combinations of other gates that are part of what is known as a universal gate-set."
   ]
  },
  {
   "cell_type": "markdown",
   "id": "63ed96de",
   "metadata": {},
   "source": [
    "### 2.1 Controlled Gates\n",
    "\n",
    "Just like the $CX$ gate is a controlled version of an $X$ gate, we can make any other single-qubit gate into a controlled version of itself."
   ]
  },
  {
   "cell_type": "code",
   "execution_count": null,
   "id": "fa08eab9",
   "metadata": {},
   "outputs": [],
   "source": []
  }
 ],
 "metadata": {
  "kernelspec": {
   "display_name": "Python 3 (ipykernel)",
   "language": "python",
   "name": "python3"
  },
  "language_info": {
   "codemirror_mode": {
    "name": "ipython",
    "version": 3
   },
   "file_extension": ".py",
   "mimetype": "text/x-python",
   "name": "python",
   "nbconvert_exporter": "python",
   "pygments_lexer": "ipython3",
   "version": "3.11.9"
  }
 },
 "nbformat": 4,
 "nbformat_minor": 5
}
