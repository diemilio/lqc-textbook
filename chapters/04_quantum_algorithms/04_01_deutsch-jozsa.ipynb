{
 "cells": [
  {
   "cell_type": "markdown",
   "id": "53d26f18",
   "metadata": {},
   "source": [
    "# Deutsch-Jozsa Algorithm\n",
    "<hr></hr>"
   ]
  },
  {
   "cell_type": "markdown",
   "id": "68c6d4d5",
   "metadata": {},
   "source": [
    "Deutsch's algorithm (named after David Deutsch) was the first demonstration of how quantum computing provides an advantage over classical computational methods [[Deutsch85]](https://www.cs.princeton.edu/courses/archive/fall06/cos576/papers/deutsch85.pdf). The algorithm was later generalized for more than one qubit by David Deutsch and Ricahrd Jozsa [[Deutsch92]](https://royalsocietypublishing.org/doi/abs/10.1098/rspa.1992.0167), in what is today known as the [Deutsch-Jozsa algorithm](https://en.wikipedia.org/wiki/Deutsch%E2%80%93Jozsa_algorithm).\n",
    "\n",
    "Even though these two algorithms do not solve problems of practical importance, they are of indisputable historical importance, and laid the foundation for the development of all other quantum algorithms known today."
   ]
  },
  {
   "cell_type": "markdown",
   "id": "6d219fee",
   "metadata": {},
   "source": [
    "## 1. Deutsch's Algorithm"
   ]
  },
  {
   "cell_type": "markdown",
   "id": "b93fd77b",
   "metadata": {},
   "source": [
    "The formulation of Deutsch's algorithm in its final form was presented by Cleve, et. al. in a paper entitled \"Quantum Algorithms Revisited\" ([Cleve97](https://arxiv.org/abs/quant-ph/9708016)), and differs from Deutsch's original proposal in that it deterministically provides a solution to a problem in less tries than what can be accomplished classically. \n",
    "\n"
   ]
  },
  {
   "cell_type": "code",
   "execution_count": null,
   "id": "c9865823",
   "metadata": {},
   "outputs": [],
   "source": []
  }
 ],
 "metadata": {
  "kernelspec": {
   "display_name": "Python 3 (ipykernel)",
   "language": "python",
   "name": "python3"
  },
  "language_info": {
   "codemirror_mode": {
    "name": "ipython",
    "version": 3
   },
   "file_extension": ".py",
   "mimetype": "text/x-python",
   "name": "python",
   "nbconvert_exporter": "python",
   "pygments_lexer": "ipython3",
   "version": "3.11.9"
  }
 },
 "nbformat": 4,
 "nbformat_minor": 5
}
