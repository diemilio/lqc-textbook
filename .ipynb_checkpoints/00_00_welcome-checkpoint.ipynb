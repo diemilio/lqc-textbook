{
 "cells": [
  {
   "cell_type": "markdown",
   "id": "92bf2f05",
   "metadata": {},
   "source": [
    "# Quantum Computing using Python"
   ]
  },
  {
   "cell_type": "markdown",
   "id": "22106ca0",
   "metadata": {},
   "source": [
    "Welcome! \n",
    "<br></br>\n",
    "\n",
    "This online textbook is meant to serve as an introductory guide to the field of quantum computing using an applied approach. \n",
    "<br></br>\n",
    "\n",
    "Instead of simply focusing on the theory and equations needed to become an expert in the field, this document is designed to help the reader understand the necessary concepts to learn quantum computation, communication and information by using code written in python. In particular, this guide uses [qiskit](https://qiskit.org/), which currently is considered to be the most popular python package for the implementation, simulation and execution of quantum programs. However, other packages might be supported in the future (in particular, [pennylane](https://pennylane.ai/)).\n",
    "<br></br>\n",
    "\n",
    "You can either follow along here on the textbook website and copy/paste the code as needed, or you can download all the different chapters in the form of jupyter notebooks from the [learn-quantum/textbook](https://github.com/learn-quantum/textbook) github repository.\n",
    "<br></br>\n",
    "\n",
    "\n",
    "## Getting Started\n",
    "If you're new to this field and need help getting started, go to the [How to get started](.) section to find information about how to setup your environment to run all the code provided herein on your computer.\n",
    "<br></br>\n",
    "\n",
    "## Questions\n",
    "For questions or comments, please use the repository's [discussions](https://github.com/learn-quantum/textbook/discussions) section. Make sure to do a search first since your question might have already been asked.\n",
    "<br></br>\n",
    "\n",
    "## Issues\n",
    "To report typos, bugs, or any other issues, please use the repository's [issues](https://github.com/learn-quantum/textbook/issues) section."
   ]
  },
  {
   "cell_type": "code",
   "execution_count": null,
   "id": "91fcd2a0",
   "metadata": {},
   "outputs": [],
   "source": []
  }
 ],
 "metadata": {
  "kernelspec": {
   "display_name": "Python 3 (ipykernel)",
   "language": "python",
   "name": "python3"
  },
  "language_info": {
   "codemirror_mode": {
    "name": "ipython",
    "version": 3
   },
   "file_extension": ".py",
   "mimetype": "text/x-python",
   "name": "python",
   "nbconvert_exporter": "python",
   "pygments_lexer": "ipython3",
   "version": "3.11.8"
  }
 },
 "nbformat": 4,
 "nbformat_minor": 5
}
